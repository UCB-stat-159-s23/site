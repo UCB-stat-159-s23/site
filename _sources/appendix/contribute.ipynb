{
 "cells": [
  {
   "cell_type": "markdown",
   "id": "bafc77f1-9948-4aa3-9964-76fd811059c4",
   "metadata": {},
   "source": [
    "# Contribute\n",
    "\n",
    "This is a course under development and many of the materials of this website will change as we go thought the semester. We are more than happy to receive feedback about the contents of the course and report any issue that you identify. \n",
    "\n",
    "The easier way of reporting problems is by oppening an [issue](https://github.com/UCB-stat-159-s23/site/issues) in the course site repository. This is the main repository with the contents of the course that is used to deploy this website using JupyterBook. You are also welcome to direcly make a pull request to the course repository and add the instructors (`@fperez`, `@facusapienza21`) as reviewers. \n",
    "\n",
    "All contributions help! "
   ]
  },
  {
   "cell_type": "code",
   "execution_count": null,
   "id": "12f3c345-37a0-4fcd-adcd-979dce8d3060",
   "metadata": {},
   "outputs": [],
   "source": []
  }
 ],
 "metadata": {
  "kernelspec": {
   "display_name": "Python 3 (ipykernel)",
   "language": "python",
   "name": "python3"
  },
  "language_info": {
   "codemirror_mode": {
    "name": "ipython",
    "version": 3
   },
   "file_extension": ".py",
   "mimetype": "text/x-python",
   "name": "python",
   "nbconvert_exporter": "python",
   "pygments_lexer": "ipython3",
   "version": "3.10.8"
  }
 },
 "nbformat": 4,
 "nbformat_minor": 5
}
