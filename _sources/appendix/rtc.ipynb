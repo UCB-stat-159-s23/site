{
 "cells": [
  {
   "cell_type": "markdown",
   "id": "26d029a7-03aa-4f2c-ba78-39f7e907c1d6",
   "metadata": {},
   "source": [
    "# Real time collaboration (RTC)\n",
    "\n",
    "Currently we have enable real time collaboration in our [JupyterHub](https://stat159.datahub.berkeley.edu/user). How does this works? We can have more than one people working inside the same Hub session. \n",
    "\n",
    "In order to share code with someone else, you need to copy the link under the `Share > Share Jupyter Server Link` tab on the top of JupyterLab and share it with your collaborator. This person will then have access to your Hub session. Notice that both users will show up under the same username (the owner of the server session). \n",
    "\n",
    "```{warning}\n",
    "Be careful with whom you share your link, since that person will have access to all your Hub session. \n",
    "\n",
    "If you want to close the access to your server without shouting down your machine, go to `File > Hub Control Panel` and click on the tab `Token`. You will here see the token you are using to share your server session. By cliclikng `revoke`, this will cancel the link.\n",
    "```"
   ]
  }
 ],
 "metadata": {
  "kernelspec": {
   "display_name": "Python 3 (ipykernel)",
   "language": "python",
   "name": "python3"
  },
  "language_info": {
   "codemirror_mode": {
    "name": "ipython",
    "version": 3
   },
   "file_extension": ".py",
   "mimetype": "text/x-python",
   "name": "python",
   "nbconvert_exporter": "python",
   "pygments_lexer": "ipython3",
   "version": "3.10.8"
  }
 },
 "nbformat": 4,
 "nbformat_minor": 5
}
