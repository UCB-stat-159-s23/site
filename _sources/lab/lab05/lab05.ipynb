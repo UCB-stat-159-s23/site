{
 "cells": [
  {
   "cell_type": "markdown",
   "id": "de9d40f8-1e94-4568-b87d-bbf65876a8a7",
   "metadata": {
    "user_expressions": []
   },
   "source": [
    "# Lab Session 5: Testing\n",
    "\n",
    "> Friday 03-01-2023, 9AM-11AM & 12AM-2PM \n",
    ">\n",
    "> Instructor: [Facundo Sapienza](https://statistics.berkeley.edu/people/facu-sapienza)\n",
    "\n",
    "During Lab04 we turned the `Erasthostenes.ipynb` (located in this same folder `lab04` in the `site` repository) into a project with its own installable modules, well writen notebook documentation and conda environment. In this follow up lab, we are going to be adding some tests to the code. \n",
    "\n",
    "```{tip}\n",
    "We are going to continue working with this project for the rest of the semester. For this reason, we encourage you to finish the labs regarding the Eratosthenes notebook at some point. You can also compare the state of your repository with the one available in [facusapienza21-eratosthenes](https://github.com/UCB-stat-159-s23/facusapienza21-eratosthenes) under the tag `Lab04`.\n",
    "```\n",
    "\n",
    "Today's lab we are going to continue working in the tutorial on Testing, which you will find in the course website. "
   ]
  },
  {
   "cell_type": "markdown",
   "id": "0009aff4-c99a-44b6-b0ee-3230954f4d81",
   "metadata": {
    "user_expressions": []
   },
   "source": [
    "## 1. Simple Testing\n",
    "\n",
    "Design some unit, integration and regression tests for your Eratosthenes project. As we discussed in class, the first ones are the more easy to make, but still there are some things you need to think about\n",
    "1. How to test code involving floting point number?\n",
    "2. How to test code that produces figures? \n",
    "3. How to test code that runs simulations or compute performance benchmarkings?"
   ]
  },
  {
   "cell_type": "markdown",
   "id": "80a9cd1b-b7ba-4905-9e0f-b8c0f62a1414",
   "metadata": {
    "user_expressions": []
   },
   "source": [
    "## 2. Using PyTest\n",
    "\n",
    "The first part in the lecture _Workflow and Automation_ includes examples of how to run the tests from previous section automatically all at once by using `pytest`. Follow these steps in order to reproduce the results of your tests but now using `pytest`."
   ]
  },
  {
   "cell_type": "markdown",
   "id": "4e8642ee-f361-4078-a5de-5b5820ee7b85",
   "metadata": {
    "user_expressions": []
   },
   "source": [
    "## 3. Continuous Integration for testing\n",
    "\n",
    "The last section in the _Workflow and Automation_ section in the lecture has a tuturial about how to automatically test your code everytime you push a new commit to GitHub. This is the first example of Continuous Integration (CI) you will explore in this course. Follow these steps in order to automatize your new tests!"
   ]
  },
  {
   "cell_type": "code",
   "execution_count": null,
   "id": "caf96e48-2777-426f-b3fd-bad58195a2bd",
   "metadata": {},
   "outputs": [],
   "source": []
  }
 ],
 "metadata": {
  "kernelspec": {
   "display_name": "Python 3 (ipykernel)",
   "language": "python",
   "name": "python3"
  },
  "language_info": {
   "codemirror_mode": {
    "name": "ipython",
    "version": 3
   },
   "file_extension": ".py",
   "mimetype": "text/x-python",
   "name": "python",
   "nbconvert_exporter": "python",
   "pygments_lexer": "ipython3",
   "version": "3.10.8"
  }
 },
 "nbformat": 4,
 "nbformat_minor": 5
}
