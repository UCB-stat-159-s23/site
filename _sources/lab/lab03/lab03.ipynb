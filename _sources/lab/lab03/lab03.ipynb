{
 "cells": [
  {
   "cell_type": "markdown",
   "metadata": {},
   "source": [
    "# Lab Session 3: GitHub Continued, Pull Requests\n",
    "\n",
    "> Friday 02-10-2023, 9AM-11AM & 12AM-2PM \n",
    ">\n",
    "> Instructor: [Facundo Sapienza](https://statistics.berkeley.edu/people/facu-sapienza)\n"
   ]
  },
  {
   "cell_type": "markdown",
   "metadata": {},
   "source": [
    "We encourage you to work in the following exercises with a partner. The exercises with the `*` are meant to be for two persons. "
   ]
  },
  {
   "cell_type": "markdown",
   "metadata": {},
   "source": [
    "## 1. Collaborating on GitHub with a small team\n",
    "\n",
    "We are going to set up a shared collaboration with one partner (the person sitting next to you).  This will show the basic workflow of collaborating on a project with a small team where everyone have write privileges to the same repository.  \n",
    "\n",
    "We will have two people, let's call them Alice and Bob, sharing a repository.  Alice will be the owner of the repository and she will give Bob write privileges.  "
   ]
  },
  {
   "cell_type": "markdown",
   "metadata": {},
   "source": [
    "### 1.1  Simple Synchronization `*`\n",
    "\n",
    "We begin with a simple synchronization example, much like we just did in the previous lab, but now between **two people** instead of one person.  \n",
    "\n",
    "1. Alice creates a new repository in GitHub with some basic text files on it.\n",
    "1. Bob clones Alice's repository.\n",
    "1. Bob makes changes to a file and commits them locally.\n",
    "1. Bob pushes his changes to GitHub.\n",
    "1. Alice pulls Bob's changes into her own repository.\n",
    "\n",
    "Next, we will have both making non-conflicting changes each, and commit them locally.  Then both try to push their changes:\n",
    "\n",
    "1. Alice adds a new file, `alice.txt` to the repository and commits.\n",
    "1. Add a tag to this stage of the repository. You can learn more about [tag](https://mirrors.edge.kernel.org/pub/software/scm/git/docs/git-tag.html) here. In which cases do you think it will be useful to use tags?\n",
    "1. Bob adds `bob.txt` and commits.\n",
    "1. Alice pushes to GitHub.\n",
    "1. Bob tries to push to GitHub.  What happens here?\n",
    "\n",
    "The problem is that Bob's changes create a commit that conflicts with Alice's, so GitHub refuses to apply the changes in the remote. This forces Bob to first merge in his machine. If there is a conflict in the merge, Bob needs to deal with the conflict manually (git could try to do the merge on the server, but in that case if there's a conflict, the server repository would be left in a conflicted state without a human to fix things up).  The solution is for Bob to first pull the changes.\n",
    "\n",
    "Next, let's have Bob creating a new branch, commiting changes in that branch to GitHub and then Alice retrieving the new branch to her local repository. \n",
    "\n",
    "1. In his local repository, Bob creates a new branch (see previous lab).\n",
    "1. Bob commits new changes to his branch and then try to push this changes to the remote repository in GitHub. \n",
    "1. Alice now pull the new branch from GitHub. Can Alice display Bob's new branch with `git branch`? What happen when we see `git branch --all`?."
   ]
  },
  {
   "cell_type": "markdown",
   "metadata": {},
   "source": [
    "### 1.2 GitHub with conflicts `*`\n",
    "\n",
    "Follow the same workflow than before, but now try to induce a conflict. In order to induce a conflict, \n",
    "1. Both Alice and Bob need to make changes in the same line of the text files and commit these changes. \n",
    "1. After commiting, one of them will push the changes to GitHub. \n",
    "1. Right after, Alice will try to pull and she will see the merging conflict happening. How to solve this? Just in the same way you solve branch merging conflicts last lecture!\n",
    "Are you tired of solving the issues during the merge? You can always do a `git merge --abort` and try to avoid the merge conflict before it happens. "
   ]
  },
  {
   "cell_type": "markdown",
   "metadata": {},
   "source": [
    "### 1.3 Working directly in GitHub\n",
    "\n",
    "So far we were using GitHub just to host our remote repository, but GitHub also allow us to make operations like quick changes, documenting issues or just viewing the state of our repository, including past versions. \n",
    "\n",
    "Explore a little bit your GitHub repository. Specifically, \n",
    "1. Modify a text file and commit these changes from GitHub. \n",
    "1. How to see different branches in GitHub? Are these the same you have in your local machine?\n",
    "1. Alice adds Bob as a collaborator in the repository. You will need to go to setting for this. \n",
    "1. Open a new issue and tag the other person in that issue. \n",
    "1. Review past versions of the repositories. "
   ]
  },
  {
   "cell_type": "markdown",
   "metadata": {},
   "source": [
    "## 2. Reconstructing past versions\n",
    "\n",
    "Sometimes we make accidental changes to some of the files in a repository, or maybe we just want to comeback to a previous version. In any case, it is easy to restore or even recover old versions of files that have been track in a commit message. \n",
    "\n",
    "For these next examples, we are going to use the `git checkout` command to restore past versions of a file. This can lead to some confusion, since this is the same command we use for changing branches. In a sense, `git checkout` does both the work of `git switch` and `git restore`. You can do all the following exercises with `git restore` instead of `git checkout`.  "
   ]
  },
  {
   "cell_type": "markdown",
   "metadata": {},
   "source": [
    "### 2.1. Restoring old versions\n",
    "\n",
    "For this example, we are going to make modifications to one of the files in our repository and then recover some of the older versions. \n",
    "\n",
    "1. Make more than one change in the same file in your repository, for example you can use write some new text inside `text.txt`. With `echo \"...\" >> text.txt` you will print new lines at the end of `text.txt` (with `>` you will just overwrite all the contents). \n",
    "1. Try to restore previous version of such file by using \n",
    "```bash\n",
    "git checkout <commit> <filename>\n",
    "```\n",
    "or \n",
    "```bash \n",
    "git restore --source=<commit> <filename>\n",
    "```\n",
    "You will need to specify the stage at which you want to restore the file. You can do this by looking at the log of the repository (`git log`, `git slog`, `git log --all`). This is why commit messages are so important! \n",
    "\n",
    "Observation: you can also see old versions of your files directly on GitHub, in case you need to inspect previous versions of files."
   ]
  },
  {
   "cell_type": "markdown",
   "metadata": {
    "tags": []
   },
   "source": [
    "### 2.2. Recovering deleted files\n",
    "\n",
    "Now, let's practice deleting and recovering an specific file\n",
    "\n",
    "1. Remove one of the files in your test repository. You can also just create a new file and remove it. To do so, use the `git rm <file name>`. You can take a look to this [link](https://www.atlassian.com/git/tutorials/undoing-changes/git-rm) to see some flags you can add to this command. \n",
    "1. If you haven't commit your changes, you can recover the file just by coming back to the previous snapshot of the repository by using `git checkout HEAD`\n",
    "1. Now, if you make a commit after removing the changes, you need to do a little bit more of work. Use `git slog -- <filename>` to see all the history associated to the file you removed and then use `git checkout <commit> -- <filename>` to recover it. "
   ]
  },
  {
   "cell_type": "markdown",
   "metadata": {},
   "source": [
    "## 3. Forks and Pull Requests `*`\n",
    "\n",
    "Sometimes is is useful to create a complete new copy of a repository and work on that before merging the new changes to the main repository. This is particularly when working with packages, big projects or just when we want to experiment a little bit having the version control capabilities without adding changes to the main repository. For these cases is when we want to use forks and then pull requests if we want to merge changes across repositories (or inside the repository too).\n",
    "\n",
    "If you are not familiar with the concept of pull requests, take a look to the [pull request chapter](https://merely-useful.tech/py-rse/git-advanced.html#git-advanced-pull-requests) in the course book. The idea of a pull request is to merge a branch for any given repository to a branch of another repository. \n",
    "\n",
    "Let's practice this following where we stopped with Alice and Bob example. \n",
    "1. Bob forks Alice's repository (`alice/test`) into his own GitHub account (`bob/test`). Take a look to [Using Other People's Work](https://merely-useful.tech/py-rse/git-advanced.html#git-advanced-fork). \n",
    "1. Bob clones his repository into his local machine. \n",
    "1. Bob makes some changes and commit them. \n",
    "1. Bob pushes his changes to GitHub. \n",
    "1. Once in GitHub, Bob creates a pull request to merge his changes into `alice/test`. At the moment of doing this, add Alice as reviewer of the pull request. \n",
    "1. Now Alice needs to accept Bob changes to the main repository. \n",
    "\n",
    "Repeat this but now change roles between Bob and Alice. "
   ]
  },
  {
   "cell_type": "markdown",
   "metadata": {},
   "source": [
    "## 4. Extra\n",
    "\n",
    "If you already finished all the previous tasks, you are welcome to explore some more useful git commands!\n",
    "- [show](http://www.kernel.org/pub/software/scm/git/docs/git-show.html)\n",
    "- [reflog](http://www.kernel.org/pub/software/scm/git/docs/git-reflog.html)\n",
    "- [rebase](http://www.kernel.org/pub/software/scm/git/docs/git-rebase.html)\n",
    "- [fetch](https://mirrors.edge.kernel.org/pub/software/scm/git/docs/git-fetch.html)\n",
    "\n",
    "Can you think in a situation where these commands may result useful? For example, instead of using `git pull`, can you do the same with `git fetch` and then `git merge`? If so, what can be the advantage of doing such a thing?"
   ]
  }
 ],
 "metadata": {
  "kernelspec": {
   "display_name": "Python 3 (ipykernel)",
   "language": "python",
   "name": "python3"
  },
  "language_info": {
   "codemirror_mode": {
    "name": "ipython",
    "version": 3
   },
   "file_extension": ".py",
   "mimetype": "text/x-python",
   "name": "python",
   "nbconvert_exporter": "python",
   "pygments_lexer": "ipython3",
   "version": "3.9.12"
  }
 },
 "nbformat": 4,
 "nbformat_minor": 4
}
