{
 "cells": [
  {
   "cell_type": "markdown",
   "id": "13303125-b8c2-49eb-a1b8-7f6f78f65429",
   "metadata": {},
   "source": [
    "# Introduction\n",
    "\n",
    "> Frirday, 9AM-11AM & 12AM-2PM \n",
    ">\n",
    "> Instructor: [Facundo Sapienza](https://statistics.berkeley.edu/people/facu-sapienza)"
   ]
  },
  {
   "cell_type": "markdown",
   "id": "112ee8a5-3ae6-4de6-9211-ac310f42ae9b",
   "metadata": {},
   "source": [
    "Welcome to Stat 159/259!\n",
    "\n",
    "Remember we will be working in the [JupyterHub](https://stat159.datahub.berkeley.edu/hub/login?next=%2Fhub%2F) for the full course, which has the libraries and tools we will be using during the semester. Why do we use the Hub? Well, it is quite convenient since you don't need to install anything in your personal computer and you don't need to worry about having installed all the required packages with their right version. \n",
    "\n",
    "As we have already mentioned, we are going to use Python for all the projects and homeworks in this course. However, it is important to remark that many of the concepts we will see in this course apply to other programming languages too (Julia, R, C, etc)."
   ]
  },
  {
   "cell_type": "markdown",
   "id": "20f82175-6b60-4693-8c41-cfad11a6ca3a",
   "metadata": {},
   "source": [
    "### Useful links: \n",
    "\n",
    "- [JupyterHub](https://stat159.datahub.berkeley.edu/hub/login?next=%2Fhub%2F)\n",
    "- [bCourses](https://bcourses.berkeley.edu/courses/1523751)\n",
    "- [Ed Discussion](https://edstem.org/us/courses/35870/discussion/)"
   ]
  },
  {
   "cell_type": "markdown",
   "id": "3c8f153f-9e54-48e9-8254-205b73ac144f",
   "metadata": {},
   "source": [
    "### Keeping your `site` repository updated\n",
    "\n",
    "It is useful to keep a copy of the [site repository](https://github.com/UCB-stat-159-s23/site.git) in your JupyterHub account. In this way, you will be able to follow the labs and lectures as we go though the class. \n",
    "\n",
    "If you have never cloned this repository in you account, you can clone the repository by doing \n",
    "```bash\n",
    "git clone https://github.com/UCB-stat-159-s23/site.git\n",
    "```\n",
    "\n",
    "Now, if **you already have `site` in you Hub**, then you don't need to do a new clone. You can instead bring the latest changes in the repository by doing a pull. Remember to be inside the git repository at the moment of doing the pull\n",
    "```bash\n",
    "git pull\n",
    "```\n",
    "If you have changes in your `site` repository that you don't want to track (eg, small changes in lecture notebooks that you don't want to store), then the `git pull` won't work. If you want to ignore your local changes, you can force the pull and delete your local changes by\n",
    "```bash\n",
    "git reset --hard origin/main\n",
    "```\n",
    "In case you want to keep your local changes to the lecture notebooks, you will have to move them somewhere else before doing the reset. "
   ]
  }
 ],
 "metadata": {
  "kernelspec": {
   "display_name": "Python 3 (ipykernel)",
   "language": "python",
   "name": "python3"
  },
  "language_info": {
   "codemirror_mode": {
    "name": "ipython",
    "version": 3
   },
   "file_extension": ".py",
   "mimetype": "text/x-python",
   "name": "python",
   "nbconvert_exporter": "python",
   "pygments_lexer": "ipython3",
   "version": "3.10.8"
  }
 },
 "nbformat": 4,
 "nbformat_minor": 5
}
