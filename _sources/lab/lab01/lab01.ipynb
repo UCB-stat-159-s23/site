{
 "cells": [
  {
   "cell_type": "markdown",
   "metadata": {},
   "source": [
    "# Lab Session 1: GitHub & The Shell\n",
    "\n",
    "* **Statistics 159/259, Spring 2022**\n",
    "* Prof. F. Pérez and GSI F. Sapienza, Department of Statistics, UC Berkeley.\n",
    "* 01/27/2023\n",
    "\n",
    "Menu for today:\n",
    "\n",
    "1. **Recap on Lab 00.** Last lab we did a quick overview of how to define functions and write errors and exceptions. As an option assignment, you can complete homework 00 to practice your Python skills. We will also see how the submission of homeworks will work. \n",
    "\n",
    "1. **JupyterLab and JupyterHub.**\n",
    "\n",
    "1. **Using the Unix Shell.** We are going to manipulate files and directories in GitHub but using the unit shell.\n",
    "\n",
    "1. **Managing git repositories in local.** \n"
   ]
  },
  {
   "cell_type": "markdown",
   "metadata": {},
   "source": [
    "Useful links: \n",
    "\n",
    "- [JupyterHub](https://stat159.datahub.berkeley.edu/hub/login?next=%2Fhub%2F)\n",
    "- [bCourses](https://bcourses.berkeley.edu/courses/1523751)\n",
    "- [Ed Discussion](https://edstem.org/us/courses/35870/discussion/)"
   ]
  },
  {
   "cell_type": "markdown",
   "metadata": {},
   "source": [
    "## An overview of Jupyter tools\n",
    "\n",
    "If you are not familiar with Jupyter notebooks, you can take a look into the [quick, practical introduction to the Jupyter Notebook](https://ucb-stat-159-s23.github.io/site/lectures/intro-jupyter/01-Intro-Jupyter.html) posted in the course website. These are tools we are going to use during the semester, so it is a good idea to start using them from the beginning. \n",
    "\n",
    "Some basic notions on Jupyter notebook include:\n",
    "- iPython: beyond plain Python\n",
    "- Different types of cells (code, markdowm, raw)\n",
    "- Navigation between cells.\n",
    "- The Kernel: what is it? What are good practices when working in a notebook?\n",
    "\n",
    "Notebooks are very flexible and allow you to include a lot of scientific and computing elements together: code, text, figures, equations, media. \n",
    "\n",
    "Another important tool to learn how to use is [iPython](https://ucb-stat-159-s23.github.io/site/lectures/intro-jupyter/02-Beyond-Plain-Python.html), which expands the traditional Python capabilities to make it more interactive. In a sense, we can think in iPython as a meta-language on top of Python that allow us to interact with Python code in a more complete way. An example of this are magic functions, that are indicated with the `%` operator. You can take a look to all the magic commands by entering `%quickref` in a cell. "
   ]
  },
  {
   "cell_type": "markdown",
   "metadata": {},
   "source": [
    "### Exercise No1\n",
    "\n",
    "We are going to follow the [Cell Profiling](https://coderefinery.github.io/jupyter/examples/#cell-profiling) exercise from the [Introduction to Jupyter and JupyterLab](https://coderefinery.github.io/jupyter/). This exercise is about cell profiling, but you will get practice in working with magics and cells.\n",
    "\n",
    "Copy-paste the following code into a cell:\n",
    "\n",
    "```python\n",
    "import numpy as np\n",
    "import matplotlib.pyplot as plt\n",
    "\n",
    "def step():\n",
    "    import random\n",
    "    return 1. if random.random() > .5 else -1.\n",
    "\n",
    "def walk(n):\n",
    "    x = np.zeros(n)\n",
    "    dx = 1. / n\n",
    "    for i in range(n - 1):\n",
    "        x_new = x[i] + dx * step()\n",
    "        if x_new > 5e-3:\n",
    "            x[i + 1] = 0.\n",
    "        else:\n",
    "            x[i + 1] = x_new\n",
    "    return x\n",
    "\n",
    "n = 100000\n",
    "x = walk(n)\n",
    "```\n",
    "\n",
    "1. Split up the functions over 4 cells (either via Edit menu or keyboard shortcut Ctrl-Shift-minus).\n",
    "1. Plot the random walk trajectory using `plt.plot(x)`.\n",
    "1. Time the execution of `walk()` with a line magic.\n",
    "\n",
    "If you feel energetic, continue with the other exercises in the tutorial where you explore the `%prun` magic command. "
   ]
  },
  {
   "cell_type": "markdown",
   "metadata": {},
   "source": [
    "## Warming up with the Unix Shell\n",
    "\n",
    "Working from the shell may seem intimidating, but it is actually not that difficult. \n",
    "\n",
    "<img src=\"https://i.ytimg.com/vi/KEkrWRHCDQU/maxresdefault.jpg\" alt=\"hackerman\" width=\"300\"/>\n",
    "\n",
    "For this section, we are going to follow Chapters 2 & 3 of [Research Software Engineering with Python](https://merely-useful.tech/py-rse/index.html). Less fancy than a graphical user interface (GUIs), command-line interfaces (CLI) are still very popular since they are highly efficient. The **command shell** is a REPL (read-evaluate-print-loop) software that allows us to interact with our machine. The most popular shell today is **bash**, and it is the one we will use in this course. What we call the **terminal** is the GUI we use to see the shell. \n",
    "\n",
    "There we can find a comprehensive explanation about how to use different commands in the command shell. \n",
    "\n",
    "These are some useful commands (for an extensive list of commands, refer to this [Bash Shell Reference](https://courses.cs.washington.edu/courses/cse390a/14au/bash.html))\n",
    "- `whoami`\n",
    "- `pwd`: Print Working Directory\n",
    "- `ls`: Listing\n",
    "- `cd`: Change Directory\n",
    "- `mkdir`: Make Directory\n",
    "- `mv`: Move. This command can be also used to rename a file. \n",
    "- `cp`: Copy\n",
    "- `rm`. Remove\n",
    "- `touch`. Touches a file that already exists. If not, it creates a new one. \n",
    "- `cat`. Reads a file and prints it.\n",
    "\n",
    "Remember that we can always communicate with the Shell on a Jupyter Notebook by adding `!` at the beginning of a line or with the magic command `%%bash` just at the beginning of the cell. \n",
    "We can also add *flags* to these commands (usually indicated with `-`) as arguments for these functions. \n",
    "\n",
    "There are also shortcuts to move in the shell. For example, `Ctrl+A` and `Ctrl+E` move the cursor to the beginning and end of the line, respectively, and `Ctrl+K` deletes text in front of the cursor. "
   ]
  },
  {
   "cell_type": "markdown",
   "metadata": {},
   "source": [
    "### Exercise No2\n",
    "\n",
    "We are going to do some basic manipulation of files and folders from the terminal. \n",
    "\n",
    "1. Open a terminal using the launcher (`+` bottom in the upper left corner).\n",
    "1. Perform some basic scanning about where you are right now. Try `whoami`, `pwd` and `ls`. \n",
    "1. Create a new folder called `folder_test` using the `mkdir` command. \n",
    "1. Navigate inside that folder using `cd`. If you effectively moved inside the folder, you should see the changes in the current working directory reflected if you use `pwd`.\n",
    "1. Let's create a new file in this folder. We are going to do this in three different ways:\n",
    "    1. Create a text file `text1.txt` using the file browser in JypyterLab.\n",
    "    1. Create a text file `text2.txt` using the `echo` function. You will need to explore how to use the `>` special character. \n",
    "    1. Create a new file `text3.txt` using the `touch` function. This will just create an empty file. Try to open it with the file browser and add some content inside it. Save your changes and print its contents from the terminal using `cat`. \n",
    "1. Change the name of `text3.txt`. \n",
    "1. Comeback to your home directory and delete the folder `folder_test` with all the files inside (you will need to explore what the flag `-r` stands for). "
   ]
  },
  {
   "cell_type": "markdown",
   "metadata": {},
   "source": [
    "### Exercise No3\n",
    "\n",
    "Now, let's write a small bash script that we can later execute in the terminal and that combines some of the operations we did in the previous exercise. Create a file called `test.sh` with the following. content:\n",
    "```bash\n",
    "#!/bin/bash\n",
    "\n",
    "# Create a new text file with \"touch\"\n",
    "\n",
    "# Add some content in that file with \"echo\". Do we really need \"touch\" before this?\n",
    "\n",
    "# Print the contents of the file with \"cat\"\n",
    "\n",
    "```\n",
    "\n",
    "The header of the file has the shebang (`#!`) that indicates that this is an executable file. Complete the spaces after each commented line with the corresponding instruction. Then, execute the bash script by entering\n",
    "```bash\n",
    "test.sh\n",
    "```\n",
    "from the terminal. Does it work? It is (very) likely you may need to change the permissions to the file in order to execute it. Explore the `chmod` command in bash in order to make the file `test.sh` executable. "
   ]
  },
  {
   "cell_type": "markdown",
   "metadata": {},
   "source": [
    "### A note about text editors\n",
    "\n",
    "There are different text editors we can use, both in our local and remote machines. You can launch text editors and manipulate them directly from the shell. It is also useful to know that you can change the default editor used by git in your computer (we will come back to this later). \n",
    "\n",
    "Some popular text editors you may (and probably will) encounter include\n",
    "1. [Vi](https://www.cs.colostate.edu/helpdocs/vi.html). This is the default editor in git, so it is important to know how to manipulate it. \n",
    "\n",
    "1. [Nano](https://www.nano-editor.org/dist/latest/cheatsheet.html)\n",
    "\n",
    "1. [emacs](https://fsl.fmrib.ox.ac.uk/fslcourse/unix_intro/textedit.html#basicops)\n",
    "\n",
    "To open a text file with any of these editors, you enter `<editor> <filename>` from the terminal (fir example, `vi text.txt`).\n",
    "\n",
    "Unless you work a lot with the text editor, no one remembers all the line commands to manipulate these text editors. However, it is useful to know at least the basic commands so we never get lost when we encounter one of them. \n",
    "\n",
    "| Command     | Vi          | Nano          | emacs         |\n",
    "| :---        |   :----:    |     :---:     |    :---:      |\n",
    "| Exit        | :q          | Ctrl+X        | Ctrl+X Ctrl+C |\n",
    "| Save        | :w          | Ctrl+S        | Ctrl+X Ctrl+S |\n",
    "\n",
    "For Vi, notice that we can navigate through the text but not write until we enter `i` (insert). At the same time, when we want to exit the _editing mode_, we need to enter `esc`.\n",
    "\n"
   ]
  },
  {
   "cell_type": "markdown",
   "metadata": {},
   "source": [
    "## Git, always git\n",
    "\n",
    "We will be practicing the file and directory commands for manipulations of files inside a local `test` repository. During the lecture we walk  through the [Git Tutorial](https://ucb-stat-159-s22.github.io/site/lectures/intro-git/Git-Tutorial.html)). Here, we are going to follow similar steps but using just the terminal."
   ]
  },
  {
   "cell_type": "markdown",
   "metadata": {},
   "source": [
    "### Exercise No4\n",
    "\n",
    "Basic git manipulation:\n",
    "1. Create a new folder called `git_test` and move inside that folder. \n",
    "1. Initialize a git repository with `git init`. \n",
    "1. Create a new file inside the folder. \n",
    "1. Make git keeping track of the changes in that file (`git add`) and make an initial commit to the repository. \n",
    "1. Make changes to the same file and commit those changes. This time, instead of using `git commit -m\"my commit\"` use just `git commit`. This will launch the default git editor from where you can write and save your commit message. \n",
    "1. Change the editor used in git with `git config --global core.editor <editor>`. Repeat the procedure with the different editors listed above (vi, nano, emacs). Which editor do you find more easy to use?\n",
    "1. What do we do if we enter a wrong commit message? Try using `git commit --amend`."
   ]
  },
  {
   "cell_type": "markdown",
   "metadata": {},
   "source": [
    "## Extra: Midnight commander\n",
    "\n",
    "Having fun with the terminal and want to explore another GUI to navigate through your system? This is how the midnight commander looks like.\n",
    "\n",
    "<img src=\"https://upload.wikimedia.org/wikipedia/commons/9/9b/Midnight_Commander_4.7.0.9_on_Ubuntu_11.04.png\" alt=\"mc\" width=\"400\"/>\n",
    "\n",
    "The same allows you to do the same manipulations we covered before, but with a nicer visual interface. You can open the midnight commander from the terminal by just entering `mc`. Here you have a [manual](https://linuxcommand.org/lc3_adv_mc.php) of how to use it. Learning how to use it is a little bit more challenging than bash, but very useful, especially when we want to manipulate multiple files between different directories. "
   ]
  }
 ],
 "metadata": {
  "kernelspec": {
   "display_name": "Python 3 (ipykernel)",
   "language": "python",
   "name": "python3"
  },
  "language_info": {
   "codemirror_mode": {
    "name": "ipython",
    "version": 3
   },
   "file_extension": ".py",
   "mimetype": "text/x-python",
   "name": "python",
   "nbconvert_exporter": "python",
   "pygments_lexer": "ipython3",
   "version": "3.10.8"
  }
 },
 "nbformat": 4,
 "nbformat_minor": 4
}
