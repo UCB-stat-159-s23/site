{
 "cells": [
  {
   "cell_type": "markdown",
   "metadata": {
    "tags": [],
    "user_expressions": []
   },
   "source": [
    "# Lab Session 8: Automation and Make\n",
    "\n",
    "* **Statistics 159/259, Spring 2022**\n",
    "* Prof. F. Pérez and GSI F. Sapienza, Department of Statistics, UC Berkeley.\n",
    "* 04/07/2023\n",
    "\n",
    "**Acknowledgment:** The contents we are following for this course is based on the amazing tutorial about Automation and Make created by [The Carpentries](https://carpentries.org)"
   ]
  },
  {
   "cell_type": "markdown",
   "metadata": {
    "user_expressions": []
   },
   "source": [
    "Make is called a **build tool**: it builds files, plots, papers, etc. Today we are going to do everything from the the shell. If you haven't done the setup for the tutorial during last lecture, please follow the [setup page](https://swcarpentry.github.io/make-novice/setup) in order to start working with the contents of the tutorial. "
   ]
  },
  {
   "cell_type": "markdown",
   "metadata": {
    "user_expressions": []
   },
   "source": [
    "## 0. Setup\n",
    "\n",
    "Download the files form the [setup page](https://swcarpentry.github.io/make-novice/setup.html) in the Carpentries tutorial.\n",
    "We will start from the following version of our `Makefile` created inside the folder `make-lesson` provided in the tutorial.) you will find the data and scripts for this exercise. Add the corresponding files to your JupyterHub session. "
   ]
  },
  {
   "cell_type": "markdown",
   "metadata": {
    "user_expressions": []
   },
   "source": [
    "We will start working from the following template `Makefile`:"
   ]
  },
  {
   "cell_type": "code",
   "execution_count": 1,
   "metadata": {},
   "outputs": [
    {
     "data": {
      "text/html": [
       "<style>pre { line-height: 125%; }\n",
       "td.linenos .normal { color: inherit; background-color: transparent; padding-left: 5px; padding-right: 5px; }\n",
       "span.linenos { color: inherit; background-color: transparent; padding-left: 5px; padding-right: 5px; }\n",
       "td.linenos .special { color: #000000; background-color: #ffffc0; padding-left: 5px; padding-right: 5px; }\n",
       "span.linenos.special { color: #000000; background-color: #ffffc0; padding-left: 5px; padding-right: 5px; }\n",
       ".output_html .hll { background-color: #ffffcc }\n",
       ".output_html { background: #f8f8f8; }\n",
       ".output_html .c { color: #408080; font-style: italic } /* Comment */\n",
       ".output_html .err { border: 1px solid #FF0000 } /* Error */\n",
       ".output_html .k { color: #008000; font-weight: bold } /* Keyword */\n",
       ".output_html .o { color: #666666 } /* Operator */\n",
       ".output_html .ch { color: #408080; font-style: italic } /* Comment.Hashbang */\n",
       ".output_html .cm { color: #408080; font-style: italic } /* Comment.Multiline */\n",
       ".output_html .cp { color: #BC7A00 } /* Comment.Preproc */\n",
       ".output_html .cpf { color: #408080; font-style: italic } /* Comment.PreprocFile */\n",
       ".output_html .c1 { color: #408080; font-style: italic } /* Comment.Single */\n",
       ".output_html .cs { color: #408080; font-style: italic } /* Comment.Special */\n",
       ".output_html .gd { color: #A00000 } /* Generic.Deleted */\n",
       ".output_html .ge { font-style: italic } /* Generic.Emph */\n",
       ".output_html .gr { color: #FF0000 } /* Generic.Error */\n",
       ".output_html .gh { color: #000080; font-weight: bold } /* Generic.Heading */\n",
       ".output_html .gi { color: #00A000 } /* Generic.Inserted */\n",
       ".output_html .go { color: #888888 } /* Generic.Output */\n",
       ".output_html .gp { color: #000080; font-weight: bold } /* Generic.Prompt */\n",
       ".output_html .gs { font-weight: bold } /* Generic.Strong */\n",
       ".output_html .gu { color: #800080; font-weight: bold } /* Generic.Subheading */\n",
       ".output_html .gt { color: #0044DD } /* Generic.Traceback */\n",
       ".output_html .kc { color: #008000; font-weight: bold } /* Keyword.Constant */\n",
       ".output_html .kd { color: #008000; font-weight: bold } /* Keyword.Declaration */\n",
       ".output_html .kn { color: #008000; font-weight: bold } /* Keyword.Namespace */\n",
       ".output_html .kp { color: #008000 } /* Keyword.Pseudo */\n",
       ".output_html .kr { color: #008000; font-weight: bold } /* Keyword.Reserved */\n",
       ".output_html .kt { color: #B00040 } /* Keyword.Type */\n",
       ".output_html .m { color: #666666 } /* Literal.Number */\n",
       ".output_html .s { color: #BA2121 } /* Literal.String */\n",
       ".output_html .na { color: #7D9029 } /* Name.Attribute */\n",
       ".output_html .nb { color: #008000 } /* Name.Builtin */\n",
       ".output_html .nc { color: #0000FF; font-weight: bold } /* Name.Class */\n",
       ".output_html .no { color: #880000 } /* Name.Constant */\n",
       ".output_html .nd { color: #AA22FF } /* Name.Decorator */\n",
       ".output_html .ni { color: #999999; font-weight: bold } /* Name.Entity */\n",
       ".output_html .ne { color: #D2413A; font-weight: bold } /* Name.Exception */\n",
       ".output_html .nf { color: #0000FF } /* Name.Function */\n",
       ".output_html .nl { color: #A0A000 } /* Name.Label */\n",
       ".output_html .nn { color: #0000FF; font-weight: bold } /* Name.Namespace */\n",
       ".output_html .nt { color: #008000; font-weight: bold } /* Name.Tag */\n",
       ".output_html .nv { color: #19177C } /* Name.Variable */\n",
       ".output_html .ow { color: #AA22FF; font-weight: bold } /* Operator.Word */\n",
       ".output_html .w { color: #bbbbbb } /* Text.Whitespace */\n",
       ".output_html .mb { color: #666666 } /* Literal.Number.Bin */\n",
       ".output_html .mf { color: #666666 } /* Literal.Number.Float */\n",
       ".output_html .mh { color: #666666 } /* Literal.Number.Hex */\n",
       ".output_html .mi { color: #666666 } /* Literal.Number.Integer */\n",
       ".output_html .mo { color: #666666 } /* Literal.Number.Oct */\n",
       ".output_html .sa { color: #BA2121 } /* Literal.String.Affix */\n",
       ".output_html .sb { color: #BA2121 } /* Literal.String.Backtick */\n",
       ".output_html .sc { color: #BA2121 } /* Literal.String.Char */\n",
       ".output_html .dl { color: #BA2121 } /* Literal.String.Delimiter */\n",
       ".output_html .sd { color: #BA2121; font-style: italic } /* Literal.String.Doc */\n",
       ".output_html .s2 { color: #BA2121 } /* Literal.String.Double */\n",
       ".output_html .se { color: #BB6622; font-weight: bold } /* Literal.String.Escape */\n",
       ".output_html .sh { color: #BA2121 } /* Literal.String.Heredoc */\n",
       ".output_html .si { color: #BB6688; font-weight: bold } /* Literal.String.Interpol */\n",
       ".output_html .sx { color: #008000 } /* Literal.String.Other */\n",
       ".output_html .sr { color: #BB6688 } /* Literal.String.Regex */\n",
       ".output_html .s1 { color: #BA2121 } /* Literal.String.Single */\n",
       ".output_html .ss { color: #19177C } /* Literal.String.Symbol */\n",
       ".output_html .bp { color: #008000 } /* Name.Builtin.Pseudo */\n",
       ".output_html .fm { color: #0000FF } /* Name.Function.Magic */\n",
       ".output_html .vc { color: #19177C } /* Name.Variable.Class */\n",
       ".output_html .vg { color: #19177C } /* Name.Variable.Global */\n",
       ".output_html .vi { color: #19177C } /* Name.Variable.Instance */\n",
       ".output_html .vm { color: #19177C } /* Name.Variable.Magic */\n",
       ".output_html .il { color: #666666 } /* Literal.Number.Integer.Long */</style><div class=\"highlight\"><pre><span></span><span class=\"c\"># Count words.</span>\n",
       "\n",
       "<span class=\"nf\">isles.dat </span><span class=\"o\">:</span> <span class=\"n\">books</span>/<span class=\"n\">isles</span>.<span class=\"n\">txt</span>\n",
       "\tpython countwords.py books/isles.txt isles.dat\n",
       "\n",
       "<span class=\"nf\">abyss.dat </span><span class=\"o\">:</span> <span class=\"n\">books</span>/<span class=\"n\">abyss</span>.<span class=\"n\">txt</span>\n",
       "\tpython countwords.py books/abyss.txt abyss.dat\n",
       "\n",
       "<span class=\"nf\">.PHONY </span><span class=\"o\">:</span> <span class=\"n\">clean</span>\n",
       "<span class=\"nf\">clean </span><span class=\"o\">:</span>\n",
       "\trm -f *.dat\n",
       "</pre></div>\n"
      ],
      "text/latex": [
       "\\begin{Verbatim}[commandchars=\\\\\\{\\}]\n",
       "\\PY{c}{\\PYZsh{} Count words.}\n",
       "\n",
       "\\PY{n+nf}{isles.dat }\\PY{o}{:} \\PY{n}{books}/\\PY{n}{isles}.\\PY{n}{txt}\n",
       "\tpython countwords.py books/isles.txt isles.dat\n",
       "\n",
       "\\PY{n+nf}{abyss.dat }\\PY{o}{:} \\PY{n}{books}/\\PY{n}{abyss}.\\PY{n}{txt}\n",
       "\tpython countwords.py books/abyss.txt abyss.dat\n",
       "\n",
       "\\PY{n+nf}{.PHONY }\\PY{o}{:} \\PY{n}{clean}\n",
       "\\PY{n+nf}{clean }\\PY{o}{:}\n",
       "\trm \\PYZhy{}f *.dat\n",
       "\\end{Verbatim}\n"
      ],
      "text/plain": [
       "# Count words.\n",
       "\n",
       "isles.dat : books/isles.txt\n",
       "\tpython countwords.py books/isles.txt isles.dat\n",
       "\n",
       "abyss.dat : books/abyss.txt\n",
       "\tpython countwords.py books/abyss.txt abyss.dat\n",
       "\n",
       ".PHONY : clean\n",
       "clean :\n",
       "\trm -f *.dat"
      ]
     },
     "execution_count": 1,
     "metadata": {},
     "output_type": "execute_result"
    }
   ],
   "source": [
    "from IPython import display\n",
    "display.Code('make-lesson/Makefile')"
   ]
  },
  {
   "cell_type": "markdown",
   "metadata": {
    "user_expressions": []
   },
   "source": [
    "## 1. Recap"
   ]
  },
  {
   "cell_type": "markdown",
   "metadata": {
    "user_expressions": []
   },
   "source": [
    "Before continuing, be sure to know the answer to the following questions.\n",
    "\n",
    "1. What is a phony target? When and how to use them?\n",
    "1. What does `$^`, `$<` and `$@` designate?\n",
    "1. What happen is we modify the Python script we used to generate data?\n",
    "1. What does it means to do a dry run of your make file?\n",
    "1. How do you execute a make file? Does the name of the file needs to be `Makefile`?\n",
    "1. Try to make a schematic plot of the tree of dependencies of this makefiles."
   ]
  },
  {
   "cell_type": "markdown",
   "metadata": {
    "user_expressions": []
   },
   "source": [
    "## 2. Growing our Makefile\n",
    "\n",
    "1. Add a new `.PHONY` variable at the top of `Makefile` called `outputs` that generates both `isles.dat` and `abyss.dat`. \n",
    "2. Add more commands for generating `last.dat` and `sierra.dat`.\n",
    "3. Replace the name of target and dependencies files using the special characters `$<`, `$@`.\n",
    "4. Replace the repeated commands by using a [pattern rule](https://swcarpentry.github.io/make-novice/05-patterns/index.html). \n",
    "    1. What does `%` designates?\n",
    "    1. What does `$*` do and how to use it?\n",
    "    1. When can and cannot use or the other?\n",
    "5. Add a `clean` command that removes all the `.dat` files. "
   ]
  },
  {
   "cell_type": "markdown",
   "metadata": {
    "user_expressions": []
   },
   "source": [
    "## [Extra] Variables and functions\n",
    "\n",
    "All this exercises can be found in the [Variables](https://swcarpentry.github.io/make-novice/06-variables/index.html)\n",
    "and [Functions](https://swcarpentry.github.io/make-novice/07-functions/index.html) chapters. \n",
    "\n",
    "1. Update `Makefile` so that the `%.dat` rule references the variables `COUNT_SRC` and `COUNT_EXE`. Then do the same for the `testzipf.py` script and the `results.txt` rule, using `ZIPF_SRC` and `ZIPF_EXE` as variable names.\n",
    "1. Move the varaible declaration to a new file `config.mk` that you import into `Makefiles`. What happens when you touch `config.mk` and then `make` again? Why? Try changing `LANGUAGE=python` to `LANGUAGE=python3` to see if there is any difference. \n",
    "1. Follow the functions tutorial to simplify all the unnecessary explicit syntax in `Makefile`. This includes the use of both function `wildcard` and `patsubst`. If you feel adventurous, you can add more books to `books` and test Zipf's Law. \n",
    "1. Explore how to add documentation to the makefiles. "
   ]
  }
 ],
 "metadata": {
  "kernelspec": {
   "display_name": "Python 3 (ipykernel)",
   "language": "python",
   "name": "python3"
  },
  "language_info": {
   "codemirror_mode": {
    "name": "ipython",
    "version": 3
   },
   "file_extension": ".py",
   "mimetype": "text/x-python",
   "name": "python",
   "nbconvert_exporter": "python",
   "pygments_lexer": "ipython3",
   "version": "3.10.8"
  }
 },
 "nbformat": 4,
 "nbformat_minor": 4
}
