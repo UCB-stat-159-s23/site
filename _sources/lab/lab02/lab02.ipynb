{
 "cells": [
  {
   "cell_type": "markdown",
   "metadata": {},
   "source": [
    "# Lab Session 2: Dotfiles, Branches, Conflics and GitHub\n",
    "\n",
    "> Friday 02-03-2023, 9AM-11AM & 12AM-2PM \n",
    ">\n",
    "> Instructor: [Facundo Sapienza](https://statistics.berkeley.edu/people/facu-sapienza)\n"
   ]
  },
  {
   "cell_type": "markdown",
   "metadata": {},
   "source": [
    "Useful links: \n",
    "\n",
    "- [JupyterHub](https://stat159.datahub.berkeley.edu/hub/login?next=%2Fhub%2F)\n",
    "- [Dotfiles](https://github.com/fperez/dotfiles)"
   ]
  },
  {
   "cell_type": "markdown",
   "metadata": {},
   "source": [
    "## 1. Dotfiles\n",
    "\n",
    "We are going to make a local setup of bash, git, conda and more following the [.dotfiles](https://github.com/fperez/dotfiles/blob/main/.README.md) repository. Take some time to read the `.README` inside the repository. The `.README` is self explanatory, but you can follow these instructions.\n",
    "\n",
    "1. Fork the `dotfiles` repository in your personal GitHub account by clicking the `Fork` bottom in the upper right corner in the GitHub website for the repository. \n",
    "2. Clone your folk repository in your home directory in the JupyterHub. There are two important things to keep in mind when cloning the repository i) Clone the repository as a `bare` repository (`git clone --bare`), and ii) Change the name of the local repository folder to `.dotfiles`. You can do these with\n",
    "```bash\n",
    "git clone --bare https://github.com/<YOUR USERNAME>/dotfiles.git $HOME/.dotfiles\n",
    "```\n",
    "3. Define an alias for manipulating files inside `.dotfiles`\n",
    "```bash\n",
    "alias gdot='git --git-dir=$HOME/.dotfiles --work-tree=$HOME'\n",
    "```\n",
    "4. Checkout the main branch into `$HOME`:\n",
    "```bash\n",
    "gdot switch -f main\n",
    "```"
   ]
  },
  {
   "cell_type": "markdown",
   "metadata": {},
   "source": [
    "If you visualize the hidden files in you home directory (`View > Show Hidden Files`), you will see a series of configuration files with the names `.bashrc`, `gitconfig`, `condarc`, etc. Explore a little bit what is inside these files. \n",
    "\n",
    "Some of these files have Fernando's information. Change for yours and then commit and push those changes to your fork of `.dotfiles`. In order to do so, you can use the `gdot` alias. For example, if your changed `.gitconfig`, you can do \n",
    "```bash\n",
    "gdot add .bashrc\n",
    "gdot commit -m\"Change username\"\n",
    "gdot push\n",
    "```\n",
    "The command `gdot status` will show all the untracked files, which in your home directory is likely a lot. To disable this behavior, use the following, which tells git to remove all untracked files and directories from status listings\n",
    "```bash\n",
    "gdot config --local status.showUntrackedFiles no \n",
    "```"
   ]
  },
  {
   "cell_type": "markdown",
   "metadata": {},
   "source": [
    "### 1.1. Setting up git\n",
    "\n",
    "You can configure your git preferences from the terminal with the general syntax\n",
    "\n",
    "```bash\n",
    "git config --global <setting> <option> \n",
    "```\n",
    "\n",
    "For example, you can configure your name and email:\n",
    "\n",
    "```bash\n",
    "git config --global user.name \"Facu Sapienza\"\n",
    "git config --global user.email \"fsapienza@berkeley.edu\"\n",
    "```\n",
    "You should also configure your default editor (remember we visited some popular editors in Lab01! Have those commands handy because you will need to use them). For example, if you want to use `nano` as default editor\n",
    "```bash\n",
    "git config --global core.editor \"nano\"\n",
    "```\n",
    "Another way of doing this is by modifying the file `.gitconfig` in your home directory. If you already have `.dotfiles` installed in your machine, you would be able to the see following line inside `.gitignore`:\n",
    "```\n",
    "[core]\n",
    "\texcludesfile = ~/.gitignore\n",
    "\teditor = nano\n",
    "```\n",
    "which indicates the default editor being used by git. "
   ]
  },
  {
   "cell_type": "markdown",
   "metadata": {},
   "source": [
    "## 2. Branching\n",
    "\n",
    "Let's start with some basic warm up. This is something we have seen along the lectures, but now is your turn of doing it. We are going to emulate two programmers working in different branches of the same repository and then merging them. \n",
    "For the purposes of this exercise, we recommend you to create a `test` repository just as we did in previous labs and lectures. You can do this by creating a new folder in the JupyterHub and then `git init`. Add some test files in that repository and commit those changes."
   ]
  },
  {
   "cell_type": "markdown",
   "metadata": {},
   "source": [
    "### 2.1. Merging two branches\n",
    "\n",
    "We start working in our `main` branch of `test` repository. Now we want to try new experiments in a new branch. If everything goes well with our experiment, we may wish to merge it to `main`.\n",
    "1. Create a new branch, for example by using `git switch - c <branchname>`. You can also create a new branch with `git branch <branchname>` and move to the new branch with `git checkout <branchname>`.\n",
    "1. Make new changes in this new branch. Add new text files. Remember to commit these changes.\n",
    "1. Switch to `main` again and make changes in a different file.\n",
    "1. **Merge both branches**. Merge the experimental branch into `main` using `git merge`.\n",
    "1. Delete the old branch (See more info [here](https://www.freecodecamp.org/news/git-delete-branch-how-to-remove-a-local-or-remote-branch/)):\n",
    "    1. From your local repository: `git branch -d <branchname>`\n",
    "    1. From your remote repository: `git push <remote name> -d <branch name>`"
   ]
  },
  {
   "cell_type": "markdown",
   "metadata": {},
   "source": [
    "### 2.2. Solving conflicts in the same file\n",
    "\n",
    "While git is very good at merging, if two different branches modify the same file in the same location, git simply can't decide which change should prevail.  At that point, human intervention is necessary to make the decision.  Git will help you by marking the location in the file that has a problem, but it's up to you to resolve the conflict.  Let's see how that works by intentionally creating a conflict.\n",
    "\n",
    "1. Create a new branch and make some changes to an specific file, let's say `text.txt`. Remember to commit this changes!. \n",
    "1. Comeback to the `main` branch and do some more modifications to the same file `text.txt` in the same position where you made changes from the other branch. Commit the changes again.\n",
    "1. Now, if you try to `git merge <newbranch>` now (as we did in the previous section), you will see the next message error\n",
    "```\n",
    "Auto-merging text.txt\n",
    "CONFLICT (content): Merge conflict in text.txt\n",
    "Automatic merge failed; fix conflicts and then commit the result.'\n",
    "```\n",
    "1. If you see now the contents of `text.txt`, you will see that both changes are overlapped in the same file (you can just see the contents by using `cat text.txt` or opening the file with any text editor). In order to solve the conflict, you need to edit the file manually and decide with changes to keep. Use any text editor (micro, emacs, etc) to edit such file and keep the changes you want.\n",
    "1. Commit your changes and solve the conflict."
   ]
  },
  {
   "cell_type": "markdown",
   "metadata": {},
   "source": [
    "## 3. GitHub\n"
   ]
  },
  {
   "cell_type": "markdown",
   "metadata": {},
   "source": [
    "### 3.1. Authentitication\n",
    "\n",
    "For this course, we are going to be using an authentication tool developed to keep our GitHub credentials safe as we work in the cloud. In order to authenticate, go to the `shared` and make a copy of `GHAUTH.ipynb` in your home directory. Open the notebook and execute the cell containing the following commands\n",
    "```python\n",
    "import gh_scoped_creds\n",
    "%ghscopedcreds\n",
    "```\n",
    "This will produce a message with a link and the corresponding password. After doing this for the first time, you need to go to the [configuration page](https://github.com/apps/stat159-berkeley-datahub-access) and give permission to the app to access your repositories. After this, you can authenticate with GitHub by just running the code inside `GHAUTH.ipynb`. Notice that this gives you permissions for 8 hours. "
   ]
  },
  {
   "cell_type": "markdown",
   "metadata": {},
   "source": [
    "### 3.2 GitHub check-in\n",
    "\n",
    "Be sure you know how to create and manipulate repositories in GitHub. \n",
    "\n",
    "1. Create a new repository in GitHub inside your personal account. For this, you can decide to create an empty repository or fill it with some basic content (for example, a `README.md` file). For now, let's create an empty repository. \n",
    "1. Now, synchronize this repository with a new local repository or one that you already have (eg, the test repository from previous exercises). In order to do this, GitHub already provides you with the instructions to do this. \n",
    "1. Push the local changes of your repository into GitHub using `git push`. Remember to authenticate before. \n",
    "1. In GitHub (the website, no in your Hub session), edit and commit one of the text files.\n",
    "1. Pull these changes to your local repository using `git pull`. \n",
    "1. Create a new branch in your local repository and push it to GitHub. What happens when you do this? If you try to `git push` changes in a new branch that you just created, you will receive the following message error `fatal: The current branch <branch name> has no upstream branch`. This is because you have just created the branch in local and no in remote. Instead, the first time you push a file to a new branch you have to do `git push -u origin <branch name>` (`-u` is just a shortcut for `--set-upstream`)."
   ]
  },
  {
   "cell_type": "markdown",
   "metadata": {},
   "source": [
    "### 3.3. Collaborating on GitHub with a small team\n",
    "\n",
    "We are going to set up a shared collaboration with one partner (the person sitting next to you).  This will show the basic workflow of collaborating on a project with a small team where everyone have write privileges to the same repository.  \n",
    "\n",
    "We will have two people, let's call them Alice and Bob, sharing a repository.  Alice will be the owner of the repository and she will give Bob write privileges.  \n",
    "\n",
    "We begin with a simple synchronization example, much like we just did above, but now between **two people** instead of one person.  Otherwise it's the same:\n",
    "\n",
    "- Alice creates a new repository in GitHub with some basic text files on it (this could be the same one that you use for the previous exercise).\n",
    "- Bob clones Alice's repository.\n",
    "- Bob makes changes to a file and commits them locally.\n",
    "- Bob pushes his changes to GitHub.\n",
    "- Alice pulls Bob's changes into her own repository.\n",
    "\n",
    "Next, we will have both parties make non-conflicting changes each, and commit them locally.  Then both try to push their changes:\n",
    "\n",
    "- Alice adds a new file, `alice.txt` to the repo and commits.\n",
    "- Add a tag to this stage of the repository. What is a [tag](https://mirrors.edge.kernel.org/pub/software/scm/git/docs/git-tag.html) and how to make one?\n",
    "- Bob adds `bob.txt` and commits.\n",
    "- Alice pushes to GitHub.\n",
    "- Bob tries to push to GitHub.  What happens here?\n",
    "\n",
    "The problem is that Bob's changes create a commit that conflicts with Alice's, so git refuses to apply them.  It forces Bob to first do the merge on his machine, so that if there is a conflict in the merge, Bob deals with the conflict manually (git could try to do the merge on the server, but in that case if there's a conflict, the server repository would be left in a conflicted state without a human to fix things up).  The solution is for Bob to first pull the changes."
   ]
  },
  {
   "cell_type": "markdown",
   "metadata": {},
   "source": [
    "## 4. Reconstructing past versions\n",
    "\n",
    "Sometimes we make accidental changes to some of the files in a repository, or maybe we just want to comeback to a previous version. In any case, it is easy to restore or even recover old versions of files that have been track in a commit message. \n",
    "\n",
    "For these next examples, we are going to use the `git checkout` command to restore past versions of a file. This can lead to some confussion, since this is the same command we use for changing branches. In a sense, `git checkout` does both the work of `git switch` and `git restore`. You can do all the following exercises with `git restore` instead of `git checkout`.  "
   ]
  },
  {
   "cell_type": "markdown",
   "metadata": {},
   "source": [
    "### 4.1. Restoring old versions\n",
    "\n",
    "For this example, we are going to make modifications to one of the files in our repository and then recover some of the older versions. \n",
    "\n",
    "1. Make more than one change in the same file in your repository, for example you can use write some new text inside `text.txt`. With `echo \"...\" >> text.txt` you will print new lines at the end of `text.txt` (with `>` you will just overwrite all the contents). \n",
    "1. Try to restore previous version of such file by using \n",
    "```bash\n",
    "git checkout <commit> <filename>\n",
    "```\n",
    "or \n",
    "```bash \n",
    "git restore --source=<commit> <filename>\n",
    "```\n",
    "You will need to specify the stage at which you want to restore the file. You can do this by looking at the log of the repository (`git log`, `git slog`, `git log --all`). This is why commit messages are so important! \n",
    "\n",
    "Observation: you can also see old versions of your files directly on GitHub, in case you need to inspect previous versions of files."
   ]
  },
  {
   "cell_type": "markdown",
   "metadata": {
    "jp-MarkdownHeadingCollapsed": true,
    "tags": []
   },
   "source": [
    "### 4.2. Recovering deleted files\n",
    "\n",
    "Now, let's practice deleting and recovering an specific file\n",
    "\n",
    "1. Remove one of the files in your test repository. You can also just create a new file and remove it. To do so, use the `git rm <file name>`. You can take a look to this [link](https://www.atlassian.com/git/tutorials/undoing-changes/git-rm) to see some flags you can add to this command. \n",
    "1. If you haven't commit your changes, you can recover the file just by coming back to the previous snapshot of the repository by using `git checkout HEAD`\n",
    "1. Now, if you make a commit after removing the changes, you need to do a little bit more of work. Use `git slog -- <filename>` to see all the history associated to the file you removed and then use `git checkout <commit> -- <filename>` to recover it. "
   ]
  },
  {
   "cell_type": "markdown",
   "metadata": {},
   "source": [
    "## 5. Other useful commands\n",
    "\n",
    "If you already finished all the previous tasks, you are welcome to explore some more useful git commands!\n",
    "- [show](http://www.kernel.org/pub/software/scm/git/docs/git-show.html)\n",
    "- [reflog](http://www.kernel.org/pub/software/scm/git/docs/git-reflog.html)\n",
    "- [rebase](http://www.kernel.org/pub/software/scm/git/docs/git-rebase.html)\n",
    "- [fetch](https://mirrors.edge.kernel.org/pub/software/scm/git/docs/git-fetch.html)\n",
    "\n",
    "Can you think in a situation where these commands may result useful? For example, instead of using `git pull`, can you do the same with `git fetch` and then `git merge`? If so, what can be the advantage of doing such a thing?"
   ]
  }
 ],
 "metadata": {
  "kernelspec": {
   "display_name": "Python 3 (ipykernel)",
   "language": "python",
   "name": "python3"
  },
  "language_info": {
   "codemirror_mode": {
    "name": "ipython",
    "version": 3
   },
   "file_extension": ".py",
   "mimetype": "text/x-python",
   "name": "python",
   "nbconvert_exporter": "python",
   "pygments_lexer": "ipython3",
   "version": "3.10.8"
  }
 },
 "nbformat": 4,
 "nbformat_minor": 4
}
