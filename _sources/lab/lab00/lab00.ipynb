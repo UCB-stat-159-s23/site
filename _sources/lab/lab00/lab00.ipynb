{
 "cells": [
  {
   "cell_type": "markdown",
   "id": "f1fa1322-362d-4b23-bed5-97c8bcb4f06d",
   "metadata": {},
   "source": [
    "# Lab Session 0 - Introduction to Python \n",
    "> Firday 01-20-2023, 9AM-11AM & 12AM-2PM \n",
    ">\n",
    "> Instructor: [Facundo Sapienza](https://statistics.berkeley.edu/people/facu-sapienza)"
   ]
  },
  {
   "cell_type": "markdown",
   "id": "fb58517e-0dcd-45ac-878a-7757bcc00d4e",
   "metadata": {},
   "source": [
    "Welcome to Stat 159/259! This is our first lab, so for today we will focus in setting you up in Github and make some practice in Python. The menu for today is\n",
    "\n",
    "1. **Setting up GitHub Account.** If you want to learn more about how to work with GitHub and how GitHub internally works, we recommend you to take a look to [The curious coder’s guide to git](https://matthew-brett.github.io/curious-git/). After we all have a GitHub account, we will ask you to complete this [form](https://docs.google.com/forms/d/e/1FAIpQLSeWn3GLSAV4gWkMOyYiMcfN4VqUR4reUR2OOGKZWqYQoLzmnA/viewform) so we can add you to GitHub Classroom. \n",
    "\n",
    "1. **Warming up with Python.** We will follow the Python tutorial written by Jake VanderPlas, [A Whirlwind Tour of Python](https://jakevdp.github.io/WhirlwindTourOfPython). We also invite you to play with the [PythonTutor](https://pythontutor.com), where you can see how variables are referenced to objects as you write your code.\n",
    "    \n",
    "We will be working in the [JupyterHub](https://stat159.datahub.berkeley.edu/hub/login?next=%2Fhub%2F) for the full course, which has the libraries and tools we will be using during the semester. Why do we use the Hub? Well, it is quite convenient since you don't need to install anything in your personal computer and you don't need to worry about having installed all the required packages with their right version. \n",
    "\n",
    "We are going to use Python for all the projects and homeworks in this course. However, it is important to remark that many of the concepts we will see in this course apply to other programming languages too (Julia, R, C, etc). Some good reasons for working in Python include\n",
    "\n",
    "- Interpreted instead of compiled\n",
    "- Clean syntax\n",
    "- Object oriented (attributes + methods), convenient language constructs\n",
    "- Variables can access large data structures by reference, without making a copy (speed and memory efficient)."
   ]
  },
  {
   "cell_type": "markdown",
   "id": "1abad4e5-114c-4cae-8242-28077edc5ca8",
   "metadata": {},
   "source": [
    "### Usefull Links\n",
    "\n",
    "- [JupyterHub](https://stat159.datahub.berkeley.edu)\n",
    "- [GitHub Organization](https://github.com/UCB-stat-159-s23)\n",
    "- [bCourses](https://bcourses.berkeley.edu/courses/1523751)\n",
    "- [Ed Discussion](https://edstem.org/us/courses/35870/discussion/)\n",
    "- [Google Form](https://forms.gle/h3ME8Px98Z8QAe9v6)"
   ]
  },
  {
   "cell_type": "markdown",
   "id": "46245c50-efbd-4983-bf60-ce6b408b3912",
   "metadata": {},
   "source": [
    "## 1. Setting up GitHub\n",
    "\n",
    "If you don't have a GitHub account yet, you can create one following this [link](http://github.com/) (please DON'T use github.berkeley.edu to create a GitHub account). You can configure your preferences from your terminal by using \n",
    "\n",
    "```bash\n",
    "git config --global <setting> <option> \n",
    "```\n",
    "\n",
    "For example, you can configure your name and email:\n",
    "\n",
    "```bash\n",
    "git config --global user.name \"Facu Sapienza\"\n",
    "git config --global user.email \"fsapienza@berkeley.edu\"\n",
    "```\n",
    "\n",
    "You can also execute the same command in bash from a notebook by adding a `!` in front of the command inside a cell. In general, it is recommendable to run bash commands from the terminal."
   ]
  },
  {
   "cell_type": "code",
   "execution_count": null,
   "id": "3ae55d48-b09d-48cf-b6e2-02f40446d661",
   "metadata": {},
   "outputs": [],
   "source": [
    "!git config --global user.name \"Facu Sapienza\""
   ]
  },
  {
   "cell_type": "markdown",
   "id": "9a7d62f9-67db-436b-bef6-a9b3c3b4f9cb",
   "metadata": {},
   "source": [
    "For this course, we will be using [GitHub Classroom](https://classroom.github.com). Once you all have a GitHub account created, we will add you to the repository for the course. \n",
    "\n",
    ">\n",
    "> Once you have your GitHub account, please take a few minutes to complete this [form](https://forms.gle/h3ME8Px98Z8QAe9v6).  \n",
    ">\n",
    "\n",
    "The way we have to authenticate push/pull from the hub is by using this [github-app-user-auth](https://github.com/yuvipanda/github-app-user-auth), a tool developed by [@yuvipanda](https://github.com/yuvipanda). Here's how you can use it.\n",
    "\n",
    "1. Go to https://github.com/apps/stat159-berkeley-datahub-access, and 'Install' the app. Give it access to whichever repositories you want to push to. You can come back and add more repos here later if you wish.\n",
    "1. Login to stat159.datahub.berkeley.edu, and open a terminal.\n",
    "1. Run github-app-user-auth on the terminal. It'll tell you to open a link in your browser, and input a 6 character code it gives you in the page opened.\n",
    "1. Once done, 'Accept' and it'll ask you if you want to authenticate.\n",
    "1. Once accepted, you're done! You can now push to the repositories you gave access to in step 1 for the next 8 hours or until your server stops from inactivity! We'll hopefully have a quick 'sign in' button at some point that can make this a bit more streamlined, but this should work nicely already."
   ]
  },
  {
   "cell_type": "markdown",
   "id": "bad4fe95-56ef-4d67-97b3-d4175373e509",
   "metadata": {},
   "source": [
    "## 2. Warming up with Python\n",
    "\n",
    "For today's session, we will follow [A Whirlwind Tour of Python](https://jakevdp.github.io/WhirlwindTourOfPython/). You can see the contents of the book online, but you can also clone the repository of the book with the following command\n",
    "\n",
    "```bash\n",
    "git clone https://github.com/jakevdp/WhirlwindTourOfPython.git\n",
    "```\n",
    "\n",
    "Whenever you are doing this from the terminal or a notebook, remember to run this command from the directory you want the repository to be cloned. \n",
    "\n",
    "It is important that you are familiar with the contents of chapters 1-8, which include some introductory python syntax and data structures. If not, please take a few minutes to go thought these notebooks and get familiar with them. These concepts include:\n",
    "- Basic operations (arithmetic, comparison, assignment, ...)\n",
    "- Manipulation of simple data structures (lists, dictionaries, tuples) \n",
    "- Control flow (for loops, conditional statements)"
   ]
  },
  {
   "cell_type": "markdown",
   "id": "159dbd54-0009-454c-8b16-e71cdc75b9f4",
   "metadata": {},
   "source": [
    "### 2.1. Functions\n",
    "\n",
    "For this part of the lecture, we recommend following Chapter 9. As we write more and more code, keeping track of what each piece is doing can became quite difficult. Functions allow us to encapsulate pieces of code that are responsible for addressing a more specific task. Then, a nice piece of code looks like different functions (sometimes concatenated one to each other) doing different tasks in order to archive a final mayor goal.\n",
    "\n",
    "Functions receive different kind of arguments. The scope of this variables is always local, meaning that the variable name is declared *just* inside the function."
   ]
  },
  {
   "cell_type": "code",
   "execution_count": 23,
   "id": "efa66596-c9ef-4e67-949c-1434b219e6c4",
   "metadata": {},
   "outputs": [],
   "source": [
    "from math import gcd      # we import the great common divisor function from math\n",
    "\n",
    "def get_coprimes(L, d=2):\n",
    "    \"\"\"\n",
    "    Function to extract the coprimes elements of a list with respect to some give integer\n",
    "    \n",
    "    Arguments:\n",
    "        - L: list with integers \n",
    "        - d: integer agains with the coprimality is evaluated\n",
    "        \n",
    "    Outputs:\n",
    "        - res: list of subelements of L that are coprime with d\n",
    "    \"\"\""
   ]
  },
  {
   "cell_type": "code",
   "execution_count": 19,
   "id": "3bf93790-5d0b-417a-94e6-38ad1130b652",
   "metadata": {},
   "outputs": [
    {
     "data": {
      "text/plain": [
       "[1, 3, 5]"
      ]
     },
     "execution_count": 19,
     "metadata": {},
     "output_type": "execute_result"
    }
   ],
   "source": [
    "L0 = [1, 2, 3, 4, 5, 6]\n",
    "\n",
    "get_coprimes(L0)"
   ]
  },
  {
   "cell_type": "code",
   "execution_count": null,
   "id": "3b20db33-d8a9-431a-9b67-fcfadd7516dd",
   "metadata": {},
   "outputs": [
    {
     "data": {
      "text/plain": [
       "[1, 2, 4, 5]"
      ]
     },
     "execution_count": 19,
     "metadata": {},
     "output_type": "execute_result"
    }
   ],
   "source": [
    "get_coprimes(L0, 3)"
   ]
  },
  {
   "cell_type": "markdown",
   "id": "31d60ef2-4361-406a-81e3-03cf96ec3565",
   "metadata": {},
   "source": [
    "A few comments about this last example:\n",
    "1. Suppose we want to ignore the trivial case of every number being coprimer with `1`. What can we do then? Do we add another conditional statement?\n",
    "2. What do we do if `L` has negative values?\n",
    "3. What do we do if there are values in `L` that are no integers?\n",
    "4. Can you think in ways of implementing `get_coprimes` by using a different kind of data structures?\n",
    "5. Is it possible to extent the scope of the variables inside the function (eg, to obtain the value of `res` inside `get_coprimes` outside the scope of the function)?\n",
    "\n",
    "We can solve some of these problems by hand. In the next section we will see how to add exceptions for conflictive cases.\n",
    "\n",
    "Something really useful about functions in Python is that we can add flexible arguments. These are divided into\n",
    "- Simple arguments: `*args` \n",
    "- Keyword arguments: `**kwargs`\n",
    "\n",
    "The `*` operator is usually called the unpacking operator."
   ]
  },
  {
   "cell_type": "code",
   "execution_count": 25,
   "id": "59c9e09c-865c-4dc9-a768-583e76596c0a",
   "metadata": {},
   "outputs": [],
   "source": [
    "def catch_all(*args, **kwargs):\n",
    "    print(\"args =\", args)\n",
    "    print(\"kwags =\", kwargs)\n",
    "    \n",
    "    if len(args) == 3:\n",
    "        print(args[1])\n",
    "    print(kwargs['b'])"
   ]
  },
  {
   "cell_type": "code",
   "execution_count": 26,
   "id": "cf224a85-0a5f-4bc6-9440-91c9976e083e",
   "metadata": {},
   "outputs": [
    {
     "name": "stdout",
     "output_type": "stream",
     "text": [
      "args = (1, 2, 3)\n",
      "kwags = {'b': 1.1, 'c': 1.2}\n",
      "2\n",
      "1.1\n"
     ]
    }
   ],
   "source": [
    "catch_all(1, 2, 3, b=1.1, c=1.2)"
   ]
  },
  {
   "cell_type": "code",
   "execution_count": null,
   "id": "95ae2659-c83f-4b89-96b2-bc5f3e3418cc",
   "metadata": {},
   "outputs": [],
   "source": [
    "def sum_args(*args, **kwargs):\n",
    "    \n",
    "    res = 0\n",
    "    \n",
    "    for x in args:\n",
    "        res += x\n",
    "        \n",
    "    if \"factor\" in kwargs.keys():\n",
    "        res *= kwargs[\"factor\"]\n",
    "        \n",
    "    return res"
   ]
  },
  {
   "cell_type": "code",
   "execution_count": null,
   "id": "0fca00a6-da4e-45b6-b10b-56e3837ce64b",
   "metadata": {},
   "outputs": [
    {
     "data": {
      "text/plain": [
       "11"
      ]
     },
     "execution_count": 33,
     "metadata": {},
     "output_type": "execute_result"
    }
   ],
   "source": [
    "sum_args(1, 2, 3, 5, factor=1)"
   ]
  },
  {
   "cell_type": "markdown",
   "id": "37851130-336b-45ae-8b95-7108965d2d54",
   "metadata": {},
   "source": [
    "We can also define anonymous functions, usually referred by the symbol `lambda`. This are useful for different things (for example, we will see how useful they are when dealing with dataframes in Pandas)"
   ]
  },
  {
   "cell_type": "code",
   "execution_count": null,
   "id": "7e3d9afc-1171-4568-980c-7365e49fc5d2",
   "metadata": {},
   "outputs": [],
   "source": [
    "add_one = lambda x: x+1"
   ]
  },
  {
   "cell_type": "code",
   "execution_count": null,
   "id": "11ea1e6f-0ad0-4efd-bb97-4841080234ee",
   "metadata": {},
   "outputs": [
    {
     "data": {
      "text/plain": [
       "2.2"
      ]
     },
     "execution_count": 35,
     "metadata": {},
     "output_type": "execute_result"
    }
   ],
   "source": [
    "add_one(1.2)"
   ]
  },
  {
   "cell_type": "code",
   "execution_count": null,
   "id": "09157fdb-69e6-4ae3-82f6-9a23ae6ddaab",
   "metadata": {},
   "outputs": [
    {
     "data": {
      "text/plain": [
       "[2, 4, 6, 1, 3, 5]"
      ]
     },
     "execution_count": 36,
     "metadata": {},
     "output_type": "execute_result"
    }
   ],
   "source": [
    "sorted(L0, key = lambda x : x%2)"
   ]
  },
  {
   "cell_type": "markdown",
   "id": "703aa600-c773-45d9-9593-ff5688e1173a",
   "metadata": {},
   "source": [
    "Why is Python an object oriented program if we are all time working with functions... well, functions are also objects:"
   ]
  },
  {
   "cell_type": "code",
   "execution_count": 30,
   "id": "e8e3c97b-7a81-478c-8e78-61794c1fb88c",
   "metadata": {},
   "outputs": [
    {
     "data": {
      "text/plain": [
       "4"
      ]
     },
     "execution_count": 30,
     "metadata": {},
     "output_type": "execute_result"
    }
   ],
   "source": [
    "def duplicate(x):\n",
    "    return 2 * x\n",
    "\n",
    "def apply(x, func):\n",
    "    return func(x)\n",
    "\n",
    "apply(2, duplicate)"
   ]
  },
  {
   "cell_type": "markdown",
   "id": "fbc3f97e-8d73-4be6-9a16-f914ad5d35de",
   "metadata": {},
   "source": [
    "The function `apply` is what we call a higher-order function, since it takes another function as an argument. Another examples of higher-order functions in Python are `map` and `filter`.\n",
    "\n",
    "We can also access the different attributes of a Python function:"
   ]
  },
  {
   "cell_type": "code",
   "execution_count": 31,
   "id": "94048b70-b904-49f5-aa45-dcef616b18bb",
   "metadata": {},
   "outputs": [
    {
     "data": {
      "text/plain": [
       "\u001b[0;31mDocstring:\u001b[0m\n",
       "dir([object]) -> list of strings\n",
       "\n",
       "If called without an argument, return the names in the current scope.\n",
       "Else, return an alphabetized list of names comprising (some of) the attributes\n",
       "of the given object, and of attributes reachable from it.\n",
       "If the object supplies a method named __dir__, it will be used; otherwise\n",
       "the default dir() logic is used and returns:\n",
       "  for a module object: the module's attributes.\n",
       "  for a class object:  its attributes, and recursively the attributes\n",
       "    of its bases.\n",
       "  for any other object: its attributes, its class's attributes, and\n",
       "    recursively the attributes of its class's base classes.\n",
       "\u001b[0;31mType:\u001b[0m      builtin_function_or_method\n"
      ]
     },
     "metadata": {},
     "output_type": "display_data"
    }
   ],
   "source": [
    "?dir"
   ]
  },
  {
   "cell_type": "code",
   "execution_count": 32,
   "id": "ebe9d2c6-bb9e-435c-9e5f-18939a424601",
   "metadata": {},
   "outputs": [
    {
     "data": {
      "text/plain": [
       "['__annotations__',\n",
       " '__call__',\n",
       " '__class__',\n",
       " '__closure__',\n",
       " '__code__',\n",
       " '__defaults__',\n",
       " '__delattr__',\n",
       " '__dict__',\n",
       " '__dir__',\n",
       " '__doc__',\n",
       " '__eq__',\n",
       " '__format__',\n",
       " '__ge__',\n",
       " '__get__',\n",
       " '__getattribute__',\n",
       " '__globals__',\n",
       " '__gt__',\n",
       " '__hash__',\n",
       " '__init__',\n",
       " '__init_subclass__',\n",
       " '__kwdefaults__',\n",
       " '__le__',\n",
       " '__lt__',\n",
       " '__module__',\n",
       " '__name__',\n",
       " '__ne__',\n",
       " '__new__',\n",
       " '__qualname__',\n",
       " '__reduce__',\n",
       " '__reduce_ex__',\n",
       " '__repr__',\n",
       " '__setattr__',\n",
       " '__sizeof__',\n",
       " '__str__',\n",
       " '__subclasshook__']"
      ]
     },
     "execution_count": 32,
     "metadata": {},
     "output_type": "execute_result"
    }
   ],
   "source": [
    "dir(duplicate)"
   ]
  },
  {
   "cell_type": "markdown",
   "id": "3d55ef5b-5153-428d-858b-541042d4ba40",
   "metadata": {},
   "source": [
    "and also define new attributes:"
   ]
  },
  {
   "cell_type": "code",
   "execution_count": 33,
   "id": "ad425dc1-4cc9-4b4e-b702-6f373f3c57ac",
   "metadata": {},
   "outputs": [
    {
     "data": {
      "text/plain": [
       "'0.0.1'"
      ]
     },
     "execution_count": 33,
     "metadata": {},
     "output_type": "execute_result"
    }
   ],
   "source": [
    "duplicate.__version__ = \"0.0.1\"\n",
    "duplicate.__version__"
   ]
  },
  {
   "cell_type": "markdown",
   "id": "7b96bbca-19a2-4f17-9f5e-6751a054d8f7",
   "metadata": {},
   "source": [
    "### 2.2. Errors and Exceptions\n",
    "\n",
    "Different kinds of errors that occur as we write code include syntax, runtime and semantic errors. Specially for runtime errors, Python give us a clue about what kind or error may happened during the execution of our code. For example,"
   ]
  },
  {
   "cell_type": "code",
   "execution_count": 34,
   "id": "d6c58dc3-f9ec-4408-9034-f19dd7fed08c",
   "metadata": {},
   "outputs": [
    {
     "ename": "ZeroDivisionError",
     "evalue": "division by zero",
     "output_type": "error",
     "traceback": [
      "\u001b[0;31m---------------------------------------------------------------------------\u001b[0m",
      "\u001b[0;31mZeroDivisionError\u001b[0m                         Traceback (most recent call last)",
      "\u001b[0;32m/tmp/ipykernel_1928/1455669704.py\u001b[0m in \u001b[0;36m<module>\u001b[0;34m\u001b[0m\n\u001b[0;32m----> 1\u001b[0;31m \u001b[0;36m1\u001b[0m \u001b[0;34m/\u001b[0m \u001b[0;36m0\u001b[0m\u001b[0;34m\u001b[0m\u001b[0;34m\u001b[0m\u001b[0m\n\u001b[0m",
      "\u001b[0;31mZeroDivisionError\u001b[0m: division by zero"
     ]
    }
   ],
   "source": [
    "1 / 0"
   ]
  },
  {
   "cell_type": "code",
   "execution_count": 35,
   "id": "76d39372-d18e-4289-b6cd-f86e85dc6eac",
   "metadata": {},
   "outputs": [
    {
     "ename": "KeyError",
     "evalue": "'c'",
     "output_type": "error",
     "traceback": [
      "\u001b[0;31m---------------------------------------------------------------------------\u001b[0m",
      "\u001b[0;31mKeyError\u001b[0m                                  Traceback (most recent call last)",
      "\u001b[0;32m/tmp/ipykernel_1928/145831508.py\u001b[0m in \u001b[0;36m<module>\u001b[0;34m\u001b[0m\n\u001b[1;32m      1\u001b[0m \u001b[0mmy_dict\u001b[0m \u001b[0;34m=\u001b[0m \u001b[0;34m{\u001b[0m\u001b[0;34m'a'\u001b[0m\u001b[0;34m:\u001b[0m\u001b[0;36m1\u001b[0m\u001b[0;34m,\u001b[0m \u001b[0;34m'b'\u001b[0m\u001b[0;34m:\u001b[0m\u001b[0;36m2\u001b[0m\u001b[0;34m}\u001b[0m\u001b[0;34m\u001b[0m\u001b[0;34m\u001b[0m\u001b[0m\n\u001b[0;32m----> 2\u001b[0;31m \u001b[0mmy_dict\u001b[0m\u001b[0;34m[\u001b[0m\u001b[0;34m'c'\u001b[0m\u001b[0;34m]\u001b[0m\u001b[0;34m\u001b[0m\u001b[0;34m\u001b[0m\u001b[0m\n\u001b[0m",
      "\u001b[0;31mKeyError\u001b[0m: 'c'"
     ]
    }
   ],
   "source": [
    "my_dict = {'a':1, 'b':2}\n",
    "my_dict['c']"
   ]
  },
  {
   "cell_type": "code",
   "execution_count": 36,
   "id": "72cb8f1e-1a4e-4fb5-8f1f-d7e02574f999",
   "metadata": {},
   "outputs": [
    {
     "ename": "TypeError",
     "evalue": "unsupported operand type(s) for +: 'dict' and 'dict'",
     "output_type": "error",
     "traceback": [
      "\u001b[0;31m---------------------------------------------------------------------------\u001b[0m",
      "\u001b[0;31mTypeError\u001b[0m                                 Traceback (most recent call last)",
      "\u001b[0;32m/tmp/ipykernel_1928/1025278159.py\u001b[0m in \u001b[0;36m<module>\u001b[0;34m\u001b[0m\n\u001b[0;32m----> 1\u001b[0;31m \u001b[0mmy_dict\u001b[0m \u001b[0;34m+\u001b[0m \u001b[0;34m{\u001b[0m\u001b[0;34m'c'\u001b[0m\u001b[0;34m:\u001b[0m\u001b[0;36m3\u001b[0m\u001b[0;34m}\u001b[0m\u001b[0;34m\u001b[0m\u001b[0;34m\u001b[0m\u001b[0m\n\u001b[0m",
      "\u001b[0;31mTypeError\u001b[0m: unsupported operand type(s) for +: 'dict' and 'dict'"
     ]
    }
   ],
   "source": [
    "my_dict + {'c':3}"
   ]
  },
  {
   "cell_type": "markdown",
   "id": "faa33668-a868-41e5-be18-c7ed44cf6f54",
   "metadata": {},
   "source": [
    "There are many more different kind of built-in exceptions in Python. You can find some more examples in this [link](https://docs.python.org/3/library/exceptions.html). A general `RuntimeError` is raised when the detected error doesn't fall in any of the other categories. \n",
    "\n",
    "There are different ways of dealing with runtime errors in Python, there include the \n",
    "- `try`...`except` clause\n",
    "- `raise` statement"
   ]
  },
  {
   "cell_type": "code",
   "execution_count": null,
   "id": "2bb44ad2-cae3-485d-b9a6-90e83537d73e",
   "metadata": {},
   "outputs": [],
   "source": [
    "a = 1    # numerator\n",
    "b = 0    # denominator"
   ]
  },
  {
   "cell_type": "code",
   "execution_count": null,
   "id": "ca2d920e-587d-4e9e-a0ee-45da2ddbe92d",
   "metadata": {},
   "outputs": [
    {
     "name": "stdout",
     "output_type": "stream",
     "text": [
      "I was here\n",
      "Something wrong happened\n"
     ]
    }
   ],
   "source": [
    "try:\n",
    "    print(\"I was here\")\n",
    "    a / b\n",
    "    print(\"Was I here?\")\n",
    "except: \n",
    "    print(\"Something wrong happened\")"
   ]
  },
  {
   "cell_type": "code",
   "execution_count": null,
   "id": "07074a98-ea8b-42d3-9e31-d87bb2e83d03",
   "metadata": {},
   "outputs": [
    {
     "ename": "ValueError",
     "evalue": "b must be different than zero.",
     "output_type": "error",
     "traceback": [
      "\u001b[0;31m---------------------------------------------------------------------------\u001b[0m",
      "\u001b[0;31mValueError\u001b[0m                                Traceback (most recent call last)",
      "Input \u001b[0;32mIn [42]\u001b[0m, in \u001b[0;36m<module>\u001b[0;34m\u001b[0m\n\u001b[1;32m      2\u001b[0m b \u001b[38;5;241m=\u001b[39m \u001b[38;5;241m0\u001b[39m\n\u001b[1;32m      4\u001b[0m \u001b[38;5;28;01mif\u001b[39;00m b \u001b[38;5;241m==\u001b[39m \u001b[38;5;241m0\u001b[39m:\n\u001b[0;32m----> 5\u001b[0m     \u001b[38;5;28;01mraise\u001b[39;00m \u001b[38;5;167;01mValueError\u001b[39;00m(\u001b[38;5;124m\"\u001b[39m\u001b[38;5;124mb must be different than zero.\u001b[39m\u001b[38;5;124m\"\u001b[39m)\n\u001b[1;32m      6\u001b[0m a \u001b[38;5;241m/\u001b[39m b\n",
      "\u001b[0;31mValueError\u001b[0m: b must be different than zero."
     ]
    }
   ],
   "source": [
    "a = 1\n",
    "b = 0\n",
    "\n",
    "if b == 0:\n",
    "    raise ValueError(\"b must be different than zero.\")\n",
    "a / b"
   ]
  },
  {
   "cell_type": "markdown",
   "id": "2504bdc7-37da-4bed-ae05-d3f8f4de7d10",
   "metadata": {},
   "source": [
    "In the following example, we use both `try`...`except` and `raise`, but it's not working as we may expect. Can you identify the problem?"
   ]
  },
  {
   "cell_type": "code",
   "execution_count": 41,
   "id": "a03f911b-5486-484b-bd96-acbd7f2357fe",
   "metadata": {},
   "outputs": [
    {
     "name": "stdout",
     "output_type": "stream",
     "text": [
      "I was here\n",
      "Something wrong happen\n"
     ]
    }
   ],
   "source": [
    "a = 1\n",
    "b = 0\n",
    "\n",
    "try:\n",
    "    print(\"I was here\")\n",
    "    if b == 0:\n",
    "        raise ValueError(\"b must be different than zero.\")\n",
    "    a / b\n",
    "    print(\"Was I here?\")\n",
    "except: \n",
    "    print(\"Something wrong happen\")"
   ]
  },
  {
   "cell_type": "markdown",
   "id": "fac107d5-a34d-4f95-81d9-c5cde1158eae",
   "metadata": {},
   "source": [
    "Exceptions, as everything in Python, are objects too. This means we can define new exception errors and deal with them as if they were classes:"
   ]
  },
  {
   "cell_type": "code",
   "execution_count": 40,
   "id": "5499cae0-0a57-495b-94ce-b00274102e7e",
   "metadata": {},
   "outputs": [],
   "source": [
    "class MyNewException(Exception):\n",
    "    pass"
   ]
  },
  {
   "cell_type": "markdown",
   "id": "f7c2ebd6-76d9-4673-aafe-6c0d9c36e7f7",
   "metadata": {},
   "source": [
    "## Homework 0\n",
    "\n",
    "The idea of this homework is to put into practice your Python skills and also show you how the workflow of submitting and reviewing homeworks/projects will work using GitHub Classroom. \n",
    "\n",
    "For now, we are going to clone a public repository in the GH site of the course and work from there. You can find the [repository in the course GitHub site](https://github.com/UCB-stat-159-s23/hw00) or clone it directly:\n",
    "```bash\n",
    "git clone https://github.com/UCB-stat-159-s23/hw00.git\n",
    "```\n",
    "This first homework is NOT going to be graded. We are goi"
   ]
  }
 ],
 "metadata": {
  "kernelspec": {
   "display_name": "Python 3 (ipykernel)",
   "language": "python",
   "name": "python3"
  },
  "language_info": {
   "codemirror_mode": {
    "name": "ipython",
    "version": 3
   },
   "file_extension": ".py",
   "mimetype": "text/x-python",
   "name": "python",
   "nbconvert_exporter": "python",
   "pygments_lexer": "ipython3",
   "version": "3.9.0"
  }
 },
 "nbformat": 4,
 "nbformat_minor": 5
}
