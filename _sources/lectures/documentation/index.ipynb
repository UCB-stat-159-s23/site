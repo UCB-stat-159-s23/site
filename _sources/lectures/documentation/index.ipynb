{
 "cells": [
  {
   "cell_type": "markdown",
   "id": "3723b403-64e4-4965-8959-436b307c9c11",
   "metadata": {},
   "source": [
    "## Documentation"
   ]
  },
  {
   "cell_type": "markdown",
   "id": "2833776c-9a5f-4443-b4d0-8653cf95eca6",
   "metadata": {
    "user_expressions": []
   },
   "source": [
    "There are many instances where we are concert about _documenting_ the progress of science. Depending what is our goal, we may be interested in one form or another of documentation. See for example the following diagram\n",
    "\n",
    "![](../images/doc-quadrants.png)"
   ]
  },
  {
   "cell_type": "markdown",
   "id": "989761e1-b55b-49cd-bb2a-60462cbfdccc",
   "metadata": {
    "user_expressions": []
   },
   "source": [
    "Different forms of _documentation_ serve different goals\n",
    "\n",
    "![](../images/doc-table.png)"
   ]
  },
  {
   "cell_type": "markdown",
   "id": "8263e745-50a3-4014-a467-f506c897cbd3",
   "metadata": {
    "user_expressions": []
   },
   "source": [
    "In these lectures notes, we are going to cover different levels of documentation:\n",
    "\n",
    "- [Documenting Code](documentation.ipynb).\n",
    "- [Jupyter Book](jupyter-book.ipynb)."
   ]
  }
 ],
 "metadata": {
  "kernelspec": {
   "display_name": "Python 3 (ipykernel)",
   "language": "python",
   "name": "python3"
  },
  "language_info": {
   "codemirror_mode": {
    "name": "ipython",
    "version": 3
   },
   "file_extension": ".py",
   "mimetype": "text/x-python",
   "name": "python",
   "nbconvert_exporter": "python",
   "pygments_lexer": "ipython3",
   "version": "3.10.8"
  }
 },
 "nbformat": 4,
 "nbformat_minor": 5
}
