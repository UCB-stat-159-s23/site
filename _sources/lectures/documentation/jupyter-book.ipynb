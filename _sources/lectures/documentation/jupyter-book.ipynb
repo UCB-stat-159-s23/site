{
 "cells": [
  {
   "cell_type": "markdown",
   "id": "31af9427-bf97-4799-a0e4-dd999526b995",
   "metadata": {},
   "source": [
    "# Jupyter Book\n",
    "\n",
    "In this lectures we are going to cover another amazing tool of the Jupyter ecosystem: Jupyter Book. \n",
    "\n",
    "<img src=\"https://codesolid.com/wp-content/uploads/2022/02/jupyterbook.png\" alt=\"eratosthenes\" width=\"200\"/>\n"
   ]
  },
  {
   "cell_type": "markdown",
   "id": "6f210a30-c030-495b-937a-d0e8a0ca0e94",
   "metadata": {},
   "source": [
    "The Jupyter Book team has done a terrific job in documenting how to create, edit and deploy a Jupyter Book. For this lectures we are going to follow this documentation and add a few comments as we go thought it.\n",
    "\n",
    "- [Jupyter Book Documentation](https://jupyterbook.org/en/stable/intro.html)\n",
    "- [Jupyter Book Slides](https://docs.google.com/presentation/d/1k0aj5uxaFd--UPtRC0i2JFIGnTXU88cIA37QeKlbhzo/edit#slide=id.gdffb14669d_0_176)"
   ]
  },
  {
   "cell_type": "markdown",
   "id": "fe615fbf-ebcd-47c1-8bcd-cf6664653d6c",
   "metadata": {},
   "source": [
    "## What is Jupyter Book?\n",
    "\n",
    "Jupyter Book allows grabbing a collection of notebooks, markdown files, etc intro an enriched explorable book or article that can be deployed online. \n",
    "JB is a tool that \n",
    "- Display notebook content in a more familiar, beautiful, and accessible form.\n",
    "- Focus on authoring,reading, and publishing.\n",
    "- Connect with interactive computation.\n",
    "- Community-driven, workflow- and vendor-agnostic."
   ]
  },
  {
   "cell_type": "markdown",
   "id": "0b66b56b-0edf-40f3-a0f6-715938982162",
   "metadata": {},
   "source": [
    "## 1. Create a book\n",
    "\n",
    "If you are working in the Stat159 JupyterHub, your already have Jupyter Book installed. You can check this by entering \n",
    "```bash\n",
    "jupyter-book --help\n",
    "```\n",
    "in your terminal. If you are working in your local machine, you will have to [install Jupyter Book](https://jupyterbook.org/en/stable/start/overview.html).\n",
    "\n",
    "````{tip}\n",
    "You can use either `jupyter-book` or `jb` to call Jupyter Book. For example, you can run the previous command with \n",
    "```bash\n",
    "jb --help\n",
    "```\n",
    "````"
   ]
  },
  {
   "cell_type": "markdown",
   "id": "d9469b59-97f6-4297-9035-d3249b3da88f",
   "metadata": {
    "user_expressions": []
   },
   "source": [
    "You can create a minimalistic book with the following command\n",
    "```bash\n",
    "jupyter-book create mybook/\n",
    "```"
   ]
  },
  {
   "cell_type": "markdown",
   "id": "12fe7ca8-855a-417e-bfd2-753bc72f0d13",
   "metadata": {},
   "source": [
    "This will create a new folder with some basic contents that are required to create and deploy the book. Besides the content files of your book, there are two key files that together determine the structure and configuration of your book:\n",
    "- `_toc.yml`: Stands for table of contents. It is where we organize the contents of the books, having notebooks and markdown files organized by sections and chapters. \n",
    "- `_config.yml`: It's the general configuration file. It includes different options, like if we want to execute the notebooks with the code within them every time we build the book (`execute_notebooks`). \n",
    "\n",
    "You can take a look of how these two files look like in the [repository](https://github.com/UCB-stat-159-s23/site) that contains this book. "
   ]
  },
  {
   "cell_type": "markdown",
   "id": "2dc458c8-5d9b-4f71-97a8-9da8a23cda68",
   "metadata": {},
   "source": [
    "## 2. Build the book"
   ]
  },
  {
   "cell_type": "markdown",
   "id": "7180a109-8f34-4d47-a5f6-e39b60529fe8",
   "metadata": {},
   "source": [
    "Once the book files had been configured correctly, we can just build the `HTML` files for the book with \n",
    "```bash\n",
    "jb build <BOOK PATH>\n",
    "```\n",
    "If you working directory is the home directory of the book, you can simply do `jb build .`. This will generate a static `HTML` version of the book inside the folder `build/_html` in your book home directory. If you are working in local, you can just open these files. If you are working in the cloud, you have to follow the next steps. "
   ]
  },
  {
   "cell_type": "markdown",
   "id": "b4fac7f6-6b97-459f-978d-408fee98f937",
   "metadata": {},
   "source": [
    "````{warning}\n",
    "If we do this from the Star159 Hub, we won't be able to open the html file. This is because we are logged in from the cloud server. \n",
    "\n",
    "There are two different ways of opening your book html files in the Hub. The first one consists in opening a new Desktop tab from the JupyterLab launcher. This will open a virtual desktop from which you can open your html files. \n",
    "\n",
    "An alternative way of doing this is by manually creating the book with `sphinx`:\n",
    "```bash\n",
    "jupyter-book config sphinx .\n",
    "```\n",
    "This will write a new file called `conf.py` in our book directory. This configuration files allow us to make the configuration in the cloud and trigger sphinx manually with this configuration file. Once we have this `conf.py` file, we do \n",
    "```bash\n",
    "sphinx-build  . _build/html  -D html_baseurl=${JUPYTERHUB_SERVICE_PREFIX}/proxy/absolute/8000\n",
    "```\n",
    "which builds the website that will be available trough a different address. \n",
    "\n",
    "We can then see the Jupyter Book by running \n",
    "```bash\n",
    "cd _build/html\n",
    "python -m http.server\n",
    "```\n",
    "and then heading to this URL [https://stat159.datahub.berkeley.edu/user-redirect/proxy/8000/index.html](https://stat159.datahub.berkeley.edu/user-redirect/proxy/8000/index.html).\n",
    "\n",
    "Alternatively, you can open the display the book by opening a new Desktop from your Launcher in JupyterLab. \n",
    "````"
   ]
  },
  {
   "cell_type": "markdown",
   "id": "2cf83ca3-17fa-4170-9f43-85b3cdaf7c6b",
   "metadata": {},
   "source": [
    "Once you are able to visualize your book, you are ready to start making edits and changes to both the contents and the configuration of the book. "
   ]
  },
  {
   "cell_type": "markdown",
   "id": "1588f404-d579-4a2f-b9a7-1f08056a443e",
   "metadata": {},
   "source": [
    "```{warning}\n",
    "When adding new files to the table of contents `_toc.yml`, you need to build the book with the extra flag `--all`. \n",
    "```"
   ]
  },
  {
   "cell_type": "markdown",
   "id": "1b8d4366-52e5-486c-a89a-b362128dd747",
   "metadata": {},
   "source": [
    "## 3. Deploy you book online"
   ]
  },
  {
   "cell_type": "markdown",
   "id": "a5a6b386-1053-4b16-b744-b827beb944b4",
   "metadata": {},
   "source": [
    "GitHub Pages allow us to host online websites and then publish our documentation online. This is exactly what Jupyter Book uses. \n",
    "\n",
    "\n",
    "There are ways in you can integrate new changes using continuous integration supported by GitHub actions. We are going to put this in practice using Jupyter Book. \n"
   ]
  },
  {
   "cell_type": "code",
   "execution_count": null,
   "id": "f89b0c54-107a-41a2-a8ff-c7c2f3ce4943",
   "metadata": {},
   "outputs": [],
   "source": []
  },
  {
   "cell_type": "code",
   "execution_count": null,
   "id": "56ea1a2f-d822-481d-ab2b-3932d91470dc",
   "metadata": {},
   "outputs": [],
   "source": []
  }
 ],
 "metadata": {
  "kernelspec": {
   "display_name": "Python 3 (ipykernel)",
   "language": "python",
   "name": "python3"
  },
  "language_info": {
   "codemirror_mode": {
    "name": "ipython",
    "version": 3
   },
   "file_extension": ".py",
   "mimetype": "text/x-python",
   "name": "python",
   "nbconvert_exporter": "python",
   "pygments_lexer": "ipython3",
   "version": "3.10.8"
  }
 },
 "nbformat": 4,
 "nbformat_minor": 5
}
