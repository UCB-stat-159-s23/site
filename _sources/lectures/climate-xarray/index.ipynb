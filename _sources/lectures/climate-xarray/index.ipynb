{
 "cells": [
  {
   "cell_type": "markdown",
   "id": "63cd6b7d-d52f-4abd-8549-75680c268bd1",
   "metadata": {
    "user_expressions": []
   },
   "source": [
    "## Climate and Xarray"
   ]
  },
  {
   "cell_type": "markdown",
   "id": "a1a8403a-a4dd-43ad-b0a9-6824710a334f",
   "metadata": {
    "user_expressions": []
   },
   "source": [
    "Today we have the pleasure of having invited speaker [Chelle Gentemann](https://cgentemann.github.io) giving our invited lecture. Her slides are available in this [link](https://docs.google.com/presentation/d/11Tqlzbfq2rSjRJ6HoggLCFzdl-Nx8k1HWsefRWoaSGc/edit#slide=id.g215fc39eaf6_0_6).\n",
    "\n",
    "This lectured is divided \n",
    "- [Climate data](climate-data.ipynb)\n",
    "- [Working with xarray](xarray.ipynb)"
   ]
  },
  {
   "cell_type": "code",
   "execution_count": null,
   "id": "3cb1691e-6953-42af-b389-df4e75a1c249",
   "metadata": {},
   "outputs": [],
   "source": []
  }
 ],
 "metadata": {
  "kernelspec": {
   "display_name": "Python 3 (ipykernel)",
   "language": "python",
   "name": "python3"
  },
  "language_info": {
   "codemirror_mode": {
    "name": "ipython",
    "version": 3
   },
   "file_extension": ".py",
   "mimetype": "text/x-python",
   "name": "python",
   "nbconvert_exporter": "python",
   "pygments_lexer": "ipython3",
   "version": "3.10.8"
  }
 },
 "nbformat": 4,
 "nbformat_minor": 5
}
