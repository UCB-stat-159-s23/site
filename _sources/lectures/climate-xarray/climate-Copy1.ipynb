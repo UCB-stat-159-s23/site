{
 "cells": [
  {
   "cell_type": "markdown",
   "id": "63cd6b7d-d52f-4abd-8549-75680c268bd1",
   "metadata": {
    "user_expressions": []
   },
   "source": [
    "## Climate and xArray"
   ]
  },
  {
   "cell_type": "markdown",
   "id": "a1a8403a-a4dd-43ad-b0a9-6824710a334f",
   "metadata": {
    "user_expressions": []
   },
   "source": [
    "Today we have the pleasure of having invited speaker Chelle Gentemann giving our invited lecture. Her slides are available in this [link](https://docs.google.com/presentation/d/11Tqlzbfq2rSjRJ6HoggLCFzdl-Nx8k1HWsefRWoaSGc/edit#slide=id.g215fc39eaf6_0_6).\n",
    "\n",
    "Working in real science:\n",
    "- advatanges of having access to previous grant proporsalr. People in some circles may have access to it (eg, NASA), which are no available for other people. Why is this?\n",
    "\n",
    "Different types of datasets:\n",
    "- different satellites, with different orbits, scales, etc but also data being stored in differern locations. \n",
    "- different in-situ measurements\n",
    "\n",
    "How to combine all these?"
   ]
  },
  {
   "cell_type": "markdown",
   "id": "c800da2b-6ce2-44d1-89c8-59e46fee9915",
   "metadata": {},
   "source": [
    "### CO2 curve"
   ]
  },
  {
   "cell_type": "code",
   "execution_count": null,
   "id": "b57b7050-5ba0-4633-a800-e823a72993dc",
   "metadata": {},
   "outputs": [],
   "source": []
  }
 ],
 "metadata": {
  "kernelspec": {
   "display_name": "Python 3 (ipykernel)",
   "language": "python",
   "name": "python3"
  },
  "language_info": {
   "codemirror_mode": {
    "name": "ipython",
    "version": 3
   },
   "file_extension": ".py",
   "mimetype": "text/x-python",
   "name": "python",
   "nbconvert_exporter": "python",
   "pygments_lexer": "ipython3",
   "version": "3.10.8"
  }
 },
 "nbformat": 4,
 "nbformat_minor": 5
}
