{
 "cells": [
  {
   "cell_type": "markdown",
   "id": "b8fa3074-07b4-4d1d-bffb-af40094491e5",
   "metadata": {
    "user_expressions": []
   },
   "source": [
    "# Automation and Make\n",
    "\n",
    "As we work in a project, we often encounter certain commands and operations that we end up running multiple times. Many of these operations regards the behaviour of certain programs and corresponds to programs that we execute from the terminal.For example, so far in this course we were\n",
    "- File management: creation of files/folders. \n",
    "- Running code from Python scripts and Jupyter notebooks that perform certain analysis, reading data and genereting outputs. \n",
    "- Creating virtual environemnte; activate them; install new packages; creating an iPython kernel. \n",
    "- Creating a JupyterBook \n",
    "\n",
    "As our workflow of grows, these operations start becoming more complex and dependent of each other. Make allow us not just to automatize the execution of programs, but also keep a track of the network of commands between the different parts of out project. "
   ]
  },
  {
   "cell_type": "code",
   "execution_count": null,
   "id": "74c6c49f-c56e-4c78-b6b2-77f29d6f217d",
   "metadata": {},
   "outputs": [],
   "source": []
  },
  {
   "cell_type": "code",
   "execution_count": null,
   "id": "ce194705-c969-4fc7-91b7-56812a98daf8",
   "metadata": {},
   "outputs": [],
   "source": []
  },
  {
   "cell_type": "code",
   "execution_count": null,
   "id": "cf46a62a-f02e-4869-a525-67d527c2fb4f",
   "metadata": {},
   "outputs": [],
   "source": []
  },
  {
   "cell_type": "code",
   "execution_count": null,
   "id": "d886bb68-5ac6-4ce9-b48b-9ed63d427051",
   "metadata": {},
   "outputs": [],
   "source": []
  },
  {
   "cell_type": "markdown",
   "id": "779c1b06-1daf-4b7f-a6c0-86f0dc736916",
   "metadata": {},
   "source": [
    "Now, we can execute python scrips and even Jupyter notebooks "
   ]
  },
  {
   "cell_type": "code",
   "execution_count": null,
   "id": "e7fa8bb9-ce30-4ced-aa38-3ca1db421bca",
   "metadata": {},
   "outputs": [],
   "source": []
  },
  {
   "cell_type": "markdown",
   "id": "7ede7b12-9888-43ac-8599-2983b1ff0383",
   "metadata": {
    "user_expressions": []
   },
   "source": [
    "## 0. Setup\n",
    "\n",
    "Let's consider the following piece of code inside our [Eratosthenes project](https://github.com/UCB-stat-159-s23/facusapienza21-eratosthenes). Let's create a new Python script called `calculate_prime.py` with the following piece of code\n",
    "```python\n",
    "# calculate_primes.py\n",
    "\n",
    "import sys\n",
    "import math\n",
    "import numpy as np\n",
    "\n",
    "def sieve(nmax):\n",
    "    \"\"\"\n",
    "    Function to compute prime numbers. \n",
    "    \n",
    "    Arguments: \n",
    "        - nmax: integer. Upper bound for prime search.\n",
    "    Ourputs:\n",
    "        - all_primes: list. List with all the prime numbers slower than nmax\n",
    "    \n",
    "    \"\"\"\n",
    "\n",
    "    all_primes = []\n",
    "\n",
    "    if nmax == 2: \n",
    "        all_primes = [2]\n",
    "    else:\n",
    "        primes_head = [2]\n",
    "        first = 3\n",
    "        primes_tail = np.arange(first,nmax+1,2)\n",
    "        while first <= round(math.sqrt(primes_tail[-1])):\n",
    "            first = primes_tail[0]\n",
    "            primes_head.append(first)\n",
    "            non_primes = first * primes_tail\n",
    "            primes_tail = np.array([ n for n in primes_tail[1:]\n",
    "                                    if n not in non_primes ])\n",
    "\n",
    "    all_primes = primes_head + primes_tail.tolist()\n",
    "    \n",
    "    return all_primes\n",
    "\n",
    "\n",
    "if __name__ == '__main__':\n",
    "    n = int(sys.argv[1])\n",
    "    print(sieve(n))\n",
    "```"
   ]
  },
  {
   "cell_type": "markdown",
   "id": "b6832667-0ff1-4887-9105-6aac04553240",
   "metadata": {
    "user_expressions": []
   },
   "source": [
    "The last part of `calculate_prime.py` includes the `__main__` header. This is what allow us to run and read arguments directly from the terminal. Now, from the terminal we can run `sieve()` with \n",
    "```bash\n",
    "python calculate_sieve.py 10\n",
    "```\n",
    "which should print the list `[2, 3, 5, 7]`.\n",
    "```{warning}\n",
    "Remember to check in which environment you are running this code! If you do this from the `base` environment this won't work, since `numpy` is not installed there. As we always emphasize, always check in which environment you are running code. You can activate the `notebook` environment or use the environment you created for the Eratosthenes project in [Lab 04](https://ucb-stat-159-s23.github.io/site/lab/lab04/lab04.html).\n",
    "```\n",
    "Now, let's move thing a little bit around. Instead of passing the argument variables by the terminal and then printing the outputs, let's create an `input.txt` and `output.txt` file that reads a list of arguments and save them in an output file. We can archive this by modifying the previous script to include \n",
    "```python\n",
    "if __name__ == '__main__':\n",
    "    input_file = sys.argv[1]\n",
    "    output_file = sys.argv[2]\n",
    "    # Read each line of the file\n",
    "    with open(input_file) as file:\n",
    "        lines = file.read().splitlines()\n",
    "    results = []\n",
    "    for n in lines:\n",
    "        results.append(sieve(int(n)))\n",
    "    # Save values\n",
    "    with open(output_file, 'w') as output:\n",
    "        for i, res in enumerate(results):\n",
    "            output.write(\"{} {}\\n\".format(lines[i], res))\n",
    "```"
   ]
  },
  {
   "cell_type": "markdown",
   "id": "fd4b2011-7589-4e80-aa5d-789e076eb8d4",
   "metadata": {
    "user_expressions": []
   },
   "source": [
    "Create now an `data/input.txt` file with one integer number per line, create a folder called `results`, and now execute \n",
    "```bash\n",
    "python3 calculate_prime.py data/input.txt results/output.txt\n",
    "```\n",
    "This will create the file `output.txt` file inside the folder `results` with the printed outputs."
   ]
  },
  {
   "cell_type": "markdown",
   "id": "1759a6db-b531-4282-8759-ad8d4eb63d1a",
   "metadata": {
    "user_expressions": []
   },
   "source": [
    "## 1. Automation with Bash\n",
    "\n",
    "Now, if we now want to perform one simple operation, we can run individually commands form the terminal. However, \n",
    "\n",
    "1. This doesn't look fully reproducible \n",
    "2. It doesn't escalate very well when our analysis requires execution of multiple program lines. \n",
    "3. Do not generalize very well to cases with different input/output files. \n",
    "\n",
    "Notice that the workflow introduced in the previous section required at least three steps: the activation of the correct conda environment, the creation of the output folder, and the execution of the Python script. \n",
    "\n",
    "A first solution to some of this problems will be to create a Bash script that executes all these operations. Let's make this \n",
    "```bash\n",
    "#!/bin/bash\n",
    "\n",
    "conda activate notebook\n",
    "mkdir results \n",
    "python calculate_prime.py input.txt results/output.txt\n",
    "```\n",
    "The header of the file has the shebang `#!` that indicates that this is an executable file. You will probably need to change the permission to the file in order to execute it. Explore the `chmod` command in bash for doing this\n",
    "\n"
   ]
  },
  {
   "cell_type": "code",
   "execution_count": null,
   "id": "dfdf796d-8980-4805-a35e-c93ec1f1cda2",
   "metadata": {},
   "outputs": [],
   "source": []
  },
  {
   "cell_type": "code",
   "execution_count": null,
   "id": "8034bfe1-6539-4d9c-bce4-3948c2ef135f",
   "metadata": {},
   "outputs": [],
   "source": []
  },
  {
   "cell_type": "code",
   "execution_count": null,
   "id": "e474f625-f4cd-4fda-a05d-7e9c53798775",
   "metadata": {},
   "outputs": [],
   "source": []
  },
  {
   "cell_type": "markdown",
   "id": "6f0ec446-e397-4850-b3d7-c3a509bb37e8",
   "metadata": {
    "user_expressions": []
   },
   "source": [
    "### 2. Our first Makefile"
   ]
  },
  {
   "cell_type": "code",
   "execution_count": null,
   "id": "01466862-a5bb-4a37-a396-f849755f3a6c",
   "metadata": {},
   "outputs": [],
   "source": []
  },
  {
   "cell_type": "code",
   "execution_count": null,
   "id": "486e3595-f1b5-40a6-bbb0-dcee3e965389",
   "metadata": {},
   "outputs": [],
   "source": []
  },
  {
   "cell_type": "markdown",
   "id": "09e4b74c-c272-4bee-b3d5-9ad4cd8a9224",
   "metadata": {
    "user_expressions": []
   },
   "source": [
    "### Example: Make for creating a new environment"
   ]
  },
  {
   "cell_type": "code",
   "execution_count": null,
   "id": "9279b180-6c24-4fdb-a769-017ef5b6de99",
   "metadata": {},
   "outputs": [],
   "source": []
  },
  {
   "cell_type": "code",
   "execution_count": null,
   "id": "2ee0c456-0e0b-447b-966e-16653096028e",
   "metadata": {},
   "outputs": [],
   "source": []
  },
  {
   "cell_type": "code",
   "execution_count": null,
   "id": "10ea3529-e522-4352-9336-3fc308953429",
   "metadata": {},
   "outputs": [],
   "source": []
  }
 ],
 "metadata": {
  "kernelspec": {
   "display_name": "Python 3 (ipykernel)",
   "language": "python",
   "name": "python3"
  },
  "language_info": {
   "codemirror_mode": {
    "name": "ipython",
    "version": 3
   },
   "file_extension": ".py",
   "mimetype": "text/x-python",
   "name": "python",
   "nbconvert_exporter": "python",
   "pygments_lexer": "ipython3",
   "version": "3.10.8"
  }
 },
 "nbformat": 4,
 "nbformat_minor": 5
}
