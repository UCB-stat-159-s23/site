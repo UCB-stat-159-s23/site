{
 "cells": [
  {
   "cell_type": "markdown",
   "id": "2f8e63ab-6bf2-4d1c-8899-3b5c2317515f",
   "metadata": {
    "user_expressions": []
   },
   "source": [
    "## Testing\n",
    "\n",
    "We will first investigate the building blocks of testing and different types of test. Later, we will see how to set an automatic workflow for testing that we can use in our everyday projects. "
   ]
  },
  {
   "cell_type": "code",
   "execution_count": null,
   "id": "9b862d1a-f259-4378-97c5-cd17f50e5ff8",
   "metadata": {},
   "outputs": [],
   "source": []
  }
 ],
 "metadata": {
  "kernelspec": {
   "display_name": "Python 3 (ipykernel)",
   "language": "python",
   "name": "python3"
  },
  "language_info": {
   "codemirror_mode": {
    "name": "ipython",
    "version": 3
   },
   "file_extension": ".py",
   "mimetype": "text/x-python",
   "name": "python",
   "nbconvert_exporter": "python",
   "pygments_lexer": "ipython3",
   "version": "3.10.8"
  }
 },
 "nbformat": 4,
 "nbformat_minor": 5
}
