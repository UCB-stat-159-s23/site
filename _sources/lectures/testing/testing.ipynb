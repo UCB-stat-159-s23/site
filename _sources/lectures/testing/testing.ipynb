{
 "cells": [
  {
   "cell_type": "markdown",
   "id": "041c30bb-2143-489f-83e9-dd9b9b957575",
   "metadata": {
    "user_expressions": []
   },
   "source": [
    "## Testing"
   ]
  },
  {
   "cell_type": "markdown",
   "id": "07273fde-6a46-472f-9f0c-c6dfd08512df",
   "metadata": {
    "user_expressions": []
   },
   "source": [
    "_Optimization is the route to all evil_\n",
    "\n",
    "_Getting right first and fast then_ by D. Knuth. AKA \"Get it right first, then make it fast\".\n",
    "\n",
    "How do we do this? \n",
    "\n",
    "Useful links:\n",
    "- We'll follow the concise [Software Carpentry Testing Tutorial](http://carpentries-incubator.github.io/python-testing/) authored by [Dr. Katy Huff](http://katyhuff.github.io). \n",
    "- Also [this Dr. Katy Huff](https://www.energy.gov/ne/person/dr-kathryn-huff).\n",
    "- [The First Notebook War](https://yihui.org/en/2018/09/notebook-war/)"
   ]
  },
  {
   "cell_type": "markdown",
   "id": "2ca01f36-7dc9-4eb2-81b1-137e7c6c1426",
   "metadata": {},
   "source": [
    "````{note}\n",
    "There isn’t a clear borderline between software engineers and data analysts.\n",
    " \n",
    "How would you write unit tests for data analysis? I feel it will be both tricky and unnecessary. For a function/method, if you defined it, you know what its expected output should be. For data, you often don’t know what exactly to expect in the output. For example, when you subset a dataset, how do you know the result is correct?\n",
    "```R\n",
    "mtcars2 = dplyr::filter(mtcars, hp > 100)\n",
    "```\n",
    "That is probably not something you, as a data analyst, need to worry about. It is the responsibility of the package author (the software engineer) to write enough unit tests in the package that you are using.\n",
    "\n",
    "On the other hand, data analysts often do tests in an informal way, too. As they explore the data, they may draw plots or create summary tables, in which they may be able to discover problems (e.g., wrong categories, outliers, and so on). Notebooks are great for these inline output elements, from which you can make quick discoveries.\n",
    "````"
   ]
  },
  {
   "cell_type": "markdown",
   "id": "aeab6348-179f-463e-b716-38affa81bdea",
   "metadata": {
    "user_expressions": []
   },
   "source": [
    "### Simple motivation: chaotic systems and numerical precision"
   ]
  },
  {
   "cell_type": "markdown",
   "id": "8575e518-700e-4281-bf25-acfb67706ffa",
   "metadata": {
    "user_expressions": []
   },
   "source": [
    "We are going to play with the notebook `simple-numerical-chaos.ipynb`. Consider for example the following operation"
   ]
  },
  {
   "cell_type": "code",
   "execution_count": 1,
   "id": "0cb79256-4b2d-41b2-94b8-b03f98c03d43",
   "metadata": {},
   "outputs": [
    {
     "name": "stdout",
     "output_type": "stream",
     "text": [
      "(a + b) + c = 1.0\n",
      "a + (b + c) = 1.0000000000000002\n"
     ]
    }
   ],
   "source": [
    "a, b, c = 1.0, 1e-16, 1e-16\n",
    "print(f\"(a + b) + c = {(a + b) + c}\")\n",
    "print(f\"a + (b + c) = {a + (b + c)}\")"
   ]
  },
  {
   "cell_type": "markdown",
   "id": "fdda2c6e-2e05-4561-ab91-9e1eb11cde2e",
   "metadata": {
    "user_expressions": []
   },
   "source": [
    "The problem here is caused by rounding of floating point numbers. A good reference for this is included in [What Every Computer Scientist Should Know About Floating-Point Arithmetic](https://docs.oracle.com/cd/E19957-01/806-3568/ncg_goldberg.html).\n",
    "\n",
    "In Python, we can use a different standard for floting point numbers with the module [decimal](https://docs.python.org/3/library/decimal.html). This is particularly useful for real world cases where small number operations may be critical, for example when making tons of bank transactions. "
   ]
  },
  {
   "cell_type": "code",
   "execution_count": 3,
   "id": "9d139302-4792-4524-a4d6-46bbecca7337",
   "metadata": {},
   "outputs": [
    {
     "name": "stdout",
     "output_type": "stream",
     "text": [
      "f1: 0.6239999999999999\n",
      "f2: 0.6239999999999997\n",
      "difference: 2.220446049250313e-16\n"
     ]
    }
   ],
   "source": [
    "def f1(x): return r*x*(1-x)\n",
    "def f2(x): return r*x - r*x**2\n",
    "\n",
    "r = 3.9\n",
    "x = 0.8\n",
    "print('f1:', f1(x))\n",
    "print('f2:', f2(x))\n",
    "\n",
    "print('difference:', (f1(x)-f2(x)))"
   ]
  },
  {
   "cell_type": "markdown",
   "id": "20c929c3-6692-4d6f-b28e-0ba1fe66eb67",
   "metadata": {
    "user_expressions": []
   },
   "source": [
    "Now, the decimal digits of the difference are just garbage: eirher `f1(x)` or `f2(x)` have no information after the last digit. \n",
    "\n",
    "Now, this raises the question about what does it mean to get the _right answer_ from our code and _what does it mean to be reproducible_\n",
    "in scientific computing.\n",
    "\n",
    "This short example help us to undersrand what is important in the context of computational "
   ]
  },
  {
   "cell_type": "markdown",
   "id": "b220c27d-aa97-4513-85c0-d639bf44b41f",
   "metadata": {
    "user_expressions": []
   },
   "source": [
    "## We are always testing \n",
    "\n",
    "Scientist, studetents, we are always doing test of our code and our methods. We do this in a subtle way, by printing an output, making a plot, etc. All these are quite similar to unit tests. \n",
    "\n",
    "Exploratory data analysis\n",
    "\n",
    "Testing also help us for creating a to do list when we make significant changes in the code (Fernando's example from numerics to numpy). "
   ]
  },
  {
   "cell_type": "markdown",
   "id": "c541f071-66c0-468b-ad38-6177dd33f02a",
   "metadata": {},
   "source": [
    "### Simple testing\n",
    "\n",
    "There is a functin in Python that help us to see how much of our current code is under testing right now. "
   ]
  },
  {
   "cell_type": "markdown",
   "id": "1f412c2a-ed80-451d-b7a8-535614a22453",
   "metadata": {
    "user_expressions": []
   },
   "source": [
    "### Writing a test suite\n",
    "\n",
    "Super simple: pytest just finds all the files that start with `test_` and run them. These need to be argumentless and return a bolean variable.\n",
    "\n",
    "Notice that the output of pytest is quite inteligent: it tells you where the error has been induced and also prints the values of the variables that induce the error. \n",
    "\n",
    "Forcing to write test force you to write good code. \n",
    "\n",
    "`try`/`except` vs `if` statement."
   ]
  },
  {
   "cell_type": "code",
   "execution_count": null,
   "id": "4b9d9269-bd42-48a2-a85f-fa7a0051a4e2",
   "metadata": {},
   "outputs": [],
   "source": []
  }
 ],
 "metadata": {
  "kernelspec": {
   "display_name": "Python 3 (ipykernel)",
   "language": "python",
   "name": "python3"
  },
  "language_info": {
   "codemirror_mode": {
    "name": "ipython",
    "version": 3
   },
   "file_extension": ".py",
   "mimetype": "text/x-python",
   "name": "python",
   "nbconvert_exporter": "python",
   "pygments_lexer": "ipython3",
   "version": "3.10.8"
  }
 },
 "nbformat": 4,
 "nbformat_minor": 5
}
