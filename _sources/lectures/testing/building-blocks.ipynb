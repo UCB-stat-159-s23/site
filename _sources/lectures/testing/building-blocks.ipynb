{
 "cells": [
  {
   "cell_type": "markdown",
   "id": "041c30bb-2143-489f-83e9-dd9b9b957575",
   "metadata": {
    "user_expressions": []
   },
   "source": [
    "## Building Blocks"
   ]
  },
  {
   "cell_type": "markdown",
   "id": "07273fde-6a46-472f-9f0c-c6dfd08512df",
   "metadata": {
    "user_expressions": []
   },
   "source": [
    "_Optimization is the route to all evil_\n",
    "\n",
    "_Getting right first and fast then_ by D. Knuth. AKA \"Get it right first, then make it fast\".\n",
    "\n",
    "For this lecture, we followed a lot of the contents already included in the following tutorials. \n",
    "- We'll follow the concise [Software Carpentry Testing Tutorial](http://carpentries-incubator.github.io/python-testing/) authored by [Dr. Katy Huff](http://katyhuff.github.io). \n",
    "- Also [this Dr. Katy Huff](https://www.energy.gov/ne/person/dr-kathryn-huff).\n"
   ]
  },
  {
   "cell_type": "markdown",
   "id": "2ca01f36-7dc9-4eb2-81b1-137e7c6c1426",
   "metadata": {},
   "source": [
    "````{note}\n",
    "There isn’t a clear borderline between software engineers and data analysts.\n",
    " \n",
    "How would you write unit tests for data analysis? I feel it will be both tricky and unnecessary. For a function/method, if you defined it, you know what its expected output should be. For data, you often don’t know what exactly to expect in the output. For example, when you subset a dataset, how do you know the result is correct?\n",
    "```R\n",
    "mtcars2 = dplyr::filter(mtcars, hp > 100)\n",
    "```\n",
    "That is probably not something you, as a data analyst, need to worry about. It is the responsibility of the package author (the software engineer) to write enough unit tests in the package that you are using.\n",
    "\n",
    "On the other hand, data analysts often do tests in an informal way, too. As they explore the data, they may draw plots or create summary tables, in which they may be able to discover problems (e.g., wrong categories, outliers, and so on). Notebooks are great for these inline output elements, from which you can make quick discoveries.\n",
    "````"
   ]
  },
  {
   "cell_type": "markdown",
   "id": "1e6477ad-d0eb-47d9-a9b7-1aab68385c0a",
   "metadata": {
    "user_expressions": []
   },
   "source": [
    "## 1. Motivation\n",
    "\n",
    "Let's start by taking a look to some of the reasons why continously testing our code is a good prectice that produce better code and more reproducible too. "
   ]
  },
  {
   "cell_type": "markdown",
   "id": "6c6d6d6e-8635-4805-b6f8-6efa669cc081",
   "metadata": {
    "user_expressions": []
   },
   "source": [
    "### 1.1.  Chaotic systems and numerical precision"
   ]
  },
  {
   "cell_type": "markdown",
   "id": "8575e518-700e-4281-bf25-acfb67706ffa",
   "metadata": {
    "user_expressions": []
   },
   "source": [
    "We are going to play with the notebook `simple-numerical-chaos.ipynb`, [notebook](simple-numerical-chaos.ipynb) that you can find in this same directoy. Consider for example the following operation"
   ]
  },
  {
   "cell_type": "code",
   "execution_count": 1,
   "id": "0cb79256-4b2d-41b2-94b8-b03f98c03d43",
   "metadata": {},
   "outputs": [
    {
     "name": "stdout",
     "output_type": "stream",
     "text": [
      "(a + b) + c = 1.0\n",
      "a + (b + c) = 1.0000000000000002\n"
     ]
    }
   ],
   "source": [
    "a, b, c = 1.0, 1e-16, 1e-16\n",
    "print(f\"(a + b) + c = {(a + b) + c}\")\n",
    "print(f\"a + (b + c) = {a + (b + c)}\")"
   ]
  },
  {
   "cell_type": "markdown",
   "id": "fdda2c6e-2e05-4561-ab91-9e1eb11cde2e",
   "metadata": {
    "user_expressions": []
   },
   "source": [
    "The problem here is caused by rounding of floating point numbers. This rounding errors can accumulate and grown as we run more code. \n",
    "\n",
    "```{note}\n",
    "A good reference for floating point arithmetics is [What Every Computer Scientist Should Know About Floating-Point Arithmetic](https://docs.oracle.com/cd/E19957-01/806-3568/ncg_goldberg.html).\n",
    "```\n",
    "\n",
    "In Python, we can use a different standards for floting point numbers with the module [decimal](https://docs.python.org/3/library/decimal.html). This is particularly useful for real world \n",
    "cases where small number operations may be critical, for example when making tons of bank transactions. "
   ]
  },
  {
   "cell_type": "code",
   "execution_count": 2,
   "id": "9d139302-4792-4524-a4d6-46bbecca7337",
   "metadata": {},
   "outputs": [
    {
     "name": "stdout",
     "output_type": "stream",
     "text": [
      "f1: 0.6239999999999999\n",
      "f2: 0.6239999999999997\n",
      "difference: 2.220446049250313e-16\n"
     ]
    }
   ],
   "source": [
    "def f1(x): return r*x*(1-x)\n",
    "def f2(x): return r*x - r*x**2\n",
    "\n",
    "r = 3.9\n",
    "x = 0.8\n",
    "print('f1:', f1(x))\n",
    "print('f2:', f2(x))\n",
    "\n",
    "print('difference:', (f1(x)-f2(x)))"
   ]
  },
  {
   "cell_type": "markdown",
   "id": "20c929c3-6692-4d6f-b28e-0ba1fe66eb67",
   "metadata": {
    "user_expressions": []
   },
   "source": [
    "Now, the decimal digits of the difference are just garbage: eirher `f1(x)` or `f2(x)` have no information after the last digit. The apparent precision in the difference `f1(x) - f2(x)` is completely spourious. \n",
    "\n",
    "Now, this raises the question about what does it mean to get the _right answer_ from our code and _what does it mean to be reproducible_\n",
    "in scientific computing.\n",
    "\n",
    "This short example help us to undersrand what is important in the context of computational \n",
    "\n",
    "```{note}\n",
    "Scientist, students, we are always doing test of our code and our methods. We do this in a subtle way, by printing an output, making a plot, etc. All these are quite similar to unit tests. In a way, the full exploratory data analysis pipeline includes a lot of implicit testing. \n",
    "```\n",
    "\n",
    "```{note}\n",
    "You can continue exploring this example in the [simple-numerical-chaos.ipynb notebook](simple-numerical-chaos.ipynb).\n",
    "```"
   ]
  },
  {
   "cell_type": "markdown",
   "id": "5e5a7d5d-f8c7-4475-9e92-2fd00babaaaa",
   "metadata": {
    "user_expressions": []
   },
   "source": [
    "### 1.2. Implementing or changing features \n",
    "\n",
    "Testing also help us when we want to make significant changes in our code and we want to ensure that the functionallity of the code doesn't go affected by these new changes. These cases include\n",
    "- Adding a new function/feature that communicates with other existing pieces of code. \n",
    "- Making changes to the implementation of existing function, for example by changing the data types or the algorithm we use for certain operations\n",
    "- Change the data we used to feed our code"
   ]
  },
  {
   "cell_type": "markdown",
   "id": "b03b2ac9-4bfd-4aae-9043-013715f21bcc",
   "metadata": {
    "user_expressions": []
   },
   "source": [
    "## 2. Types of tests\n",
    "\n",
    "There are different classes of test that evaluate the correctness of our code at different levels and scales. In this course, we re goign to cover the following tests:\n",
    "- Assertions statements \n",
    "- Exceptions statements\n",
    "- Unit tests\n",
    "- Regression tests\n",
    "- Integration tests"
   ]
  },
  {
   "cell_type": "markdown",
   "id": "6cae3a69-a1bd-43d2-9440-33b1962174bb",
   "metadata": {
    "user_expressions": []
   },
   "source": [
    "### 2.1. Assestions \n",
    "\n",
    "The `assert` statement in Python just evaluates when some given condition is true or false. If False, it interrupst the exectution of the code. "
   ]
  },
  {
   "cell_type": "code",
   "execution_count": 2,
   "id": "3ca73ea7-3eea-4104-887e-88cbada39b39",
   "metadata": {},
   "outputs": [],
   "source": [
    "assert 1+1 == 2, \"One plus one is not two.\""
   ]
  },
  {
   "cell_type": "markdown",
   "id": "54d7b70a-0cf1-473a-b4de-a4bad3fe45ab",
   "metadata": {
    "user_expressions": []
   },
   "source": [
    "As you can see from the previous example, you can also add a small text description for the error induced. in this way, assertion statements are very simple to write and evaluate. \n",
    "\n",
    "As you can imagine from the discussion in the previous section, we need to be careful at the moment of comparing objects in Python. For example, for float types we have"
   ]
  },
  {
   "cell_type": "code",
   "execution_count": 4,
   "id": "fa9265be-1e95-432d-b593-f10391864f69",
   "metadata": {},
   "outputs": [
    {
     "ename": "AssertionError",
     "evalue": "",
     "output_type": "error",
     "traceback": [
      "\u001b[0;31m---------------------------------------------------------------------------\u001b[0m",
      "\u001b[0;31mAssertionError\u001b[0m                            Traceback (most recent call last)",
      "Cell \u001b[0;32mIn[4], line 1\u001b[0m\n\u001b[0;32m----> 1\u001b[0m \u001b[38;5;28;01massert\u001b[39;00m \u001b[38;5;241m0.1\u001b[39m \u001b[38;5;241m+\u001b[39m \u001b[38;5;241m0.2\u001b[39m \u001b[38;5;241m==\u001b[39m \u001b[38;5;241m0.3\u001b[39m\n",
      "\u001b[0;31mAssertionError\u001b[0m: "
     ]
    }
   ],
   "source": [
    "assert 0.1 + 0.2 == 0.3"
   ]
  },
  {
   "cell_type": "markdown",
   "id": "f15821ec-daad-4b5f-9720-0742f147fe87",
   "metadata": {
    "user_expressions": []
   },
   "source": [
    "The problem here is induced by floating point aritmethics in our code. In order to raise an `AssertionError` here, we can use `numpy.testing.assert_allclose()`:"
   ]
  },
  {
   "cell_type": "code",
   "execution_count": 8,
   "id": "5293ddae-3d6d-49c8-8649-59d72746975f",
   "metadata": {},
   "outputs": [],
   "source": [
    "from numpy.testing import assert_allclose\n",
    "assert_allclose(0.1 + 0.2, 0.3)"
   ]
  },
  {
   "cell_type": "markdown",
   "id": "bb0e6fa7-58b0-4c87-8f04-21d655d6946d",
   "metadata": {
    "user_expressions": []
   },
   "source": [
    "Since assertions are raised when a given condition is not satisfied, we can also use any other functionallity that retuns `True`/`False` for doing this. Another examples are "
   ]
  },
  {
   "cell_type": "code",
   "execution_count": 14,
   "id": "09a780e4-36f3-4e58-aa6b-fe161519c0c9",
   "metadata": {},
   "outputs": [],
   "source": [
    "import math\n",
    "assert math.isclose(0.1 + 0.2, 0.3), \"Numbers are not close.\""
   ]
  },
  {
   "cell_type": "code",
   "execution_count": 15,
   "id": "420bf3de-a85a-49d3-b77a-34bfc9e05cd9",
   "metadata": {},
   "outputs": [],
   "source": [
    "import pytest\n",
    "assert 0.1 + 0.2 == pytest.approx(0.3), \"Numbers are not close.\""
   ]
  },
  {
   "cell_type": "markdown",
   "id": "12e93c15-c9c6-4121-b085-b38b76f89df5",
   "metadata": {
    "user_expressions": []
   },
   "source": [
    "Ussually assertion statements go inside a functions or definitions an help us to keep the correctness of the code. In pair programming, it is the role of the observer to think in cases where the code may not work and think about simple assertion statements that will help prevent those errors. "
   ]
  },
  {
   "cell_type": "markdown",
   "id": "e4ac55d3-19b3-48e9-8399-6fe53bd066c6",
   "metadata": {
    "user_expressions": []
   },
   "source": [
    "### 2.2. Exceptions\n",
    "\n",
    "Different kinds of errors that occur as we write code include syntax, runtime and semantic errors. Specially for runtime errors, Python give us a clue about what kind or error may happened during the execution of our code. For example,"
   ]
  },
  {
   "cell_type": "code",
   "execution_count": 16,
   "id": "b4f94900-12dc-4c5d-83cf-ff48c22b41c1",
   "metadata": {},
   "outputs": [
    {
     "ename": "ZeroDivisionError",
     "evalue": "division by zero",
     "output_type": "error",
     "traceback": [
      "\u001b[0;31m---------------------------------------------------------------------------\u001b[0m",
      "\u001b[0;31mZeroDivisionError\u001b[0m                         Traceback (most recent call last)",
      "Cell \u001b[0;32mIn[16], line 1\u001b[0m\n\u001b[0;32m----> 1\u001b[0m \u001b[38;5;241;43m1\u001b[39;49m\u001b[43m \u001b[49m\u001b[38;5;241;43m/\u001b[39;49m\u001b[43m \u001b[49m\u001b[38;5;241;43m0\u001b[39;49m\n",
      "\u001b[0;31mZeroDivisionError\u001b[0m: division by zero"
     ]
    }
   ],
   "source": [
    "1 / 0"
   ]
  },
  {
   "cell_type": "code",
   "execution_count": 17,
   "id": "f39f9d74-84f2-4b19-a3ef-e872c826cdaf",
   "metadata": {},
   "outputs": [
    {
     "ename": "KeyError",
     "evalue": "'c'",
     "output_type": "error",
     "traceback": [
      "\u001b[0;31m---------------------------------------------------------------------------\u001b[0m",
      "\u001b[0;31mKeyError\u001b[0m                                  Traceback (most recent call last)",
      "Cell \u001b[0;32mIn[17], line 2\u001b[0m\n\u001b[1;32m      1\u001b[0m my_dict \u001b[38;5;241m=\u001b[39m {\u001b[38;5;124m'\u001b[39m\u001b[38;5;124ma\u001b[39m\u001b[38;5;124m'\u001b[39m:\u001b[38;5;241m1\u001b[39m, \u001b[38;5;124m'\u001b[39m\u001b[38;5;124mb\u001b[39m\u001b[38;5;124m'\u001b[39m:\u001b[38;5;241m2\u001b[39m}\n\u001b[0;32m----> 2\u001b[0m \u001b[43mmy_dict\u001b[49m\u001b[43m[\u001b[49m\u001b[38;5;124;43m'\u001b[39;49m\u001b[38;5;124;43mc\u001b[39;49m\u001b[38;5;124;43m'\u001b[39;49m\u001b[43m]\u001b[49m\n",
      "\u001b[0;31mKeyError\u001b[0m: 'c'"
     ]
    }
   ],
   "source": [
    "my_dict = {'a':1, 'b':2}\n",
    "my_dict['c']"
   ]
  },
  {
   "cell_type": "code",
   "execution_count": 18,
   "id": "e1c491c7-13a6-478c-9da4-ecc3d05813d4",
   "metadata": {},
   "outputs": [
    {
     "ename": "TypeError",
     "evalue": "unsupported operand type(s) for +: 'dict' and 'dict'",
     "output_type": "error",
     "traceback": [
      "\u001b[0;31m---------------------------------------------------------------------------\u001b[0m",
      "\u001b[0;31mTypeError\u001b[0m                                 Traceback (most recent call last)",
      "Cell \u001b[0;32mIn[18], line 1\u001b[0m\n\u001b[0;32m----> 1\u001b[0m \u001b[43mmy_dict\u001b[49m\u001b[43m \u001b[49m\u001b[38;5;241;43m+\u001b[39;49m\u001b[43m \u001b[49m\u001b[43m{\u001b[49m\u001b[38;5;124;43m'\u001b[39;49m\u001b[38;5;124;43mc\u001b[39;49m\u001b[38;5;124;43m'\u001b[39;49m\u001b[43m:\u001b[49m\u001b[38;5;241;43m3\u001b[39;49m\u001b[43m}\u001b[49m\n",
      "\u001b[0;31mTypeError\u001b[0m: unsupported operand type(s) for +: 'dict' and 'dict'"
     ]
    }
   ],
   "source": [
    "my_dict + {'c':3}"
   ]
  },
  {
   "cell_type": "markdown",
   "id": "06e20b99-b73b-4f4a-89cb-9d5783951bc3",
   "metadata": {
    "user_expressions": []
   },
   "source": [
    "There are many more different kind of built-in exceptions in Python. You can find some more examples in this [link](https://docs.python.org/3/library/exceptions.html). A general `RuntimeError` is raised when the detected error doesn't fall in any of the other categories. \n",
    "\n",
    "There are different ways of dealing with runtime errors in Python, there include the \n",
    "- `try`...`except` clause\n",
    "- `raise` statement"
   ]
  },
  {
   "cell_type": "code",
   "execution_count": 20,
   "id": "87563f42-8ec3-4281-b497-4a3f8a069741",
   "metadata": {},
   "outputs": [],
   "source": [
    "def division(numerator, denominator):\n",
    "    try:\n",
    "        return numerator / denominator\n",
    "    except ZeroDivisionError:\n",
    "        return 0"
   ]
  },
  {
   "cell_type": "code",
   "execution_count": 17,
   "id": "c90e3879-bbe6-4dd2-aafd-d55745197536",
   "metadata": {},
   "outputs": [
    {
     "data": {
      "text/plain": [
       "1.0"
      ]
     },
     "execution_count": 17,
     "metadata": {},
     "output_type": "execute_result"
    }
   ],
   "source": [
    "division(1,1)"
   ]
  },
  {
   "cell_type": "code",
   "execution_count": 19,
   "id": "512399bd-c7a9-40da-964d-4bdc048bc836",
   "metadata": {},
   "outputs": [
    {
     "data": {
      "text/plain": [
       "0"
      ]
     },
     "execution_count": 19,
     "metadata": {},
     "output_type": "execute_result"
    }
   ],
   "source": [
    "division(1,0)"
   ]
  },
  {
   "cell_type": "markdown",
   "id": "ef0530c0-2abd-4c9f-b34f-cde4b34a009a",
   "metadata": {
    "user_expressions": []
   },
   "source": [
    "Now, at the moment of raising an error we would like to print a meaningful message. We can do this "
   ]
  },
  {
   "cell_type": "code",
   "execution_count": 26,
   "id": "cdf57cec-b2d4-40c6-bbba-7c70e33433da",
   "metadata": {},
   "outputs": [],
   "source": [
    "def division(numerator, denominator):\n",
    "    try:\n",
    "        return numerator / denominator\n",
    "    except ZeroDivisionError:\n",
    "        raise ZeroDivisionError(\"You cannot divide by denominator={}\".format(denominator))"
   ]
  },
  {
   "cell_type": "code",
   "execution_count": 27,
   "id": "527e3555-8e59-4d34-ab93-5ce33befb41a",
   "metadata": {},
   "outputs": [
    {
     "ename": "ZeroDivisionError",
     "evalue": "You cannot divide by denominator=0",
     "output_type": "error",
     "traceback": [
      "\u001b[0;31m---------------------------------------------------------------------------\u001b[0m",
      "\u001b[0;31mZeroDivisionError\u001b[0m                         Traceback (most recent call last)",
      "Cell \u001b[0;32mIn[26], line 3\u001b[0m, in \u001b[0;36mdivision\u001b[0;34m(numerator, denominator)\u001b[0m\n\u001b[1;32m      2\u001b[0m \u001b[38;5;28;01mtry\u001b[39;00m:\n\u001b[0;32m----> 3\u001b[0m     \u001b[38;5;28;01mreturn\u001b[39;00m \u001b[43mnumerator\u001b[49m\u001b[43m \u001b[49m\u001b[38;5;241;43m/\u001b[39;49m\u001b[43m \u001b[49m\u001b[43mdenominator\u001b[49m\n\u001b[1;32m      4\u001b[0m \u001b[38;5;28;01mexcept\u001b[39;00m \u001b[38;5;167;01mZeroDivisionError\u001b[39;00m:\n",
      "\u001b[0;31mZeroDivisionError\u001b[0m: division by zero",
      "\nDuring handling of the above exception, another exception occurred:\n",
      "\u001b[0;31mZeroDivisionError\u001b[0m                         Traceback (most recent call last)",
      "Cell \u001b[0;32mIn[27], line 1\u001b[0m\n\u001b[0;32m----> 1\u001b[0m \u001b[43mdivision\u001b[49m\u001b[43m(\u001b[49m\u001b[38;5;241;43m1\u001b[39;49m\u001b[43m,\u001b[49m\u001b[38;5;241;43m0\u001b[39;49m\u001b[43m)\u001b[49m\n",
      "Cell \u001b[0;32mIn[26], line 5\u001b[0m, in \u001b[0;36mdivision\u001b[0;34m(numerator, denominator)\u001b[0m\n\u001b[1;32m      3\u001b[0m     \u001b[38;5;28;01mreturn\u001b[39;00m numerator \u001b[38;5;241m/\u001b[39m denominator\n\u001b[1;32m      4\u001b[0m \u001b[38;5;28;01mexcept\u001b[39;00m \u001b[38;5;167;01mZeroDivisionError\u001b[39;00m:\n\u001b[0;32m----> 5\u001b[0m     \u001b[38;5;28;01mraise\u001b[39;00m \u001b[38;5;167;01mZeroDivisionError\u001b[39;00m(\u001b[38;5;124m\"\u001b[39m\u001b[38;5;124mYou cannot divide by denominator=\u001b[39m\u001b[38;5;132;01m{}\u001b[39;00m\u001b[38;5;124m\"\u001b[39m\u001b[38;5;241m.\u001b[39mformat(denominator))\n",
      "\u001b[0;31mZeroDivisionError\u001b[0m: You cannot divide by denominator=0"
     ]
    }
   ],
   "source": [
    "division(1,0)"
   ]
  },
  {
   "cell_type": "markdown",
   "id": "64816fff-df74-488c-9643-d998787b0c67",
   "metadata": {
    "user_expressions": []
   },
   "source": [
    "If you already know what may be causing an error in your code, you can avoind the use of the `try / except` statement and directly raise an exception when certain critical condition happens: "
   ]
  },
  {
   "cell_type": "code",
   "execution_count": 19,
   "id": "7e3982f6-e920-4224-8bbf-523f78745ec3",
   "metadata": {},
   "outputs": [],
   "source": [
    "def division(numerator, denominator):\n",
    "    if denominator == pytest.approx(0.0):\n",
    "        raise ZeroDivisionError(\"You cannot divide by denominator={}\".format(denominator))\n",
    "    return numerator / denominator"
   ]
  },
  {
   "cell_type": "code",
   "execution_count": 20,
   "id": "abb8e53c-6a95-4ee9-983f-03956f44bc7f",
   "metadata": {},
   "outputs": [
    {
     "ename": "ZeroDivisionError",
     "evalue": "You cannot divide by denominator=0",
     "output_type": "error",
     "traceback": [
      "\u001b[0;31m---------------------------------------------------------------------------\u001b[0m",
      "\u001b[0;31mZeroDivisionError\u001b[0m                         Traceback (most recent call last)",
      "Cell \u001b[0;32mIn[20], line 1\u001b[0m\n\u001b[0;32m----> 1\u001b[0m \u001b[43mdivision\u001b[49m\u001b[43m(\u001b[49m\u001b[38;5;241;43m1\u001b[39;49m\u001b[43m,\u001b[49m\u001b[38;5;241;43m0\u001b[39;49m\u001b[43m)\u001b[49m\n",
      "Cell \u001b[0;32mIn[19], line 3\u001b[0m, in \u001b[0;36mdivision\u001b[0;34m(numerator, denominator)\u001b[0m\n\u001b[1;32m      1\u001b[0m \u001b[38;5;28;01mdef\u001b[39;00m \u001b[38;5;21mdivision\u001b[39m(numerator, denominator):\n\u001b[1;32m      2\u001b[0m     \u001b[38;5;28;01mif\u001b[39;00m denominator \u001b[38;5;241m==\u001b[39m pytest\u001b[38;5;241m.\u001b[39mapprox(\u001b[38;5;241m0.0\u001b[39m):\n\u001b[0;32m----> 3\u001b[0m         \u001b[38;5;28;01mraise\u001b[39;00m \u001b[38;5;167;01mZeroDivisionError\u001b[39;00m(\u001b[38;5;124m\"\u001b[39m\u001b[38;5;124mYou cannot divide by denominator=\u001b[39m\u001b[38;5;132;01m{}\u001b[39;00m\u001b[38;5;124m\"\u001b[39m\u001b[38;5;241m.\u001b[39mformat(denominator))\n\u001b[1;32m      4\u001b[0m     \u001b[38;5;28;01mreturn\u001b[39;00m numerator \u001b[38;5;241m/\u001b[39m denominator\n",
      "\u001b[0;31mZeroDivisionError\u001b[0m: You cannot divide by denominator=0"
     ]
    }
   ],
   "source": [
    "division(1,0)"
   ]
  },
  {
   "cell_type": "markdown",
   "id": "8b262517-78e3-4860-ac58-fd9538320d2a",
   "metadata": {
    "user_expressions": []
   },
   "source": [
    "Something cool about exceptions is that their are classes and Python allow us to create new assertion errors. "
   ]
  },
  {
   "cell_type": "code",
   "execution_count": 34,
   "id": "fc5788fe-ee23-4671-a108-a77a16585229",
   "metadata": {},
   "outputs": [],
   "source": [
    "class LightSpeedBound(Exception):\n",
    "    \"\"\"\n",
    "    Defines a new exception error of my preference.\n",
    "    \"\"\"\n",
    "    pass\n",
    "\n",
    "def lorentz_factor(v, c=299_792_458):\n",
    "    if v > c:\n",
    "        raise LightSpeedBound(\"The current velocity v={} cannot exceed the speed of light\".format(v))\n",
    "    return 1 / (1 - v**2/c**2) ** 0.5"
   ]
  },
  {
   "cell_type": "code",
   "execution_count": 39,
   "id": "17d9b73f-c31c-44f0-bff4-682c3d289cfc",
   "metadata": {},
   "outputs": [
    {
     "ename": "LightSpeedBound",
     "evalue": "The current velocity v=300000000 cannot exceed the speed of light",
     "output_type": "error",
     "traceback": [
      "\u001b[0;31m---------------------------------------------------------------------------\u001b[0m",
      "\u001b[0;31mLightSpeedBound\u001b[0m                           Traceback (most recent call last)",
      "Cell \u001b[0;32mIn[39], line 1\u001b[0m\n\u001b[0;32m----> 1\u001b[0m \u001b[43mlorentz_factor\u001b[49m\u001b[43m(\u001b[49m\u001b[38;5;241;43m300_000_000\u001b[39;49m\u001b[43m)\u001b[49m\n",
      "Cell \u001b[0;32mIn[34], line 9\u001b[0m, in \u001b[0;36mlorentz_factor\u001b[0;34m(v, c)\u001b[0m\n\u001b[1;32m      7\u001b[0m \u001b[38;5;28;01mdef\u001b[39;00m \u001b[38;5;21mlorentz_factor\u001b[39m(v, c\u001b[38;5;241m=\u001b[39m\u001b[38;5;241m299_792_458\u001b[39m):\n\u001b[1;32m      8\u001b[0m     \u001b[38;5;28;01mif\u001b[39;00m v \u001b[38;5;241m>\u001b[39m c:\n\u001b[0;32m----> 9\u001b[0m         \u001b[38;5;28;01mraise\u001b[39;00m LightSpeedBound(\u001b[38;5;124m\"\u001b[39m\u001b[38;5;124mThe current velocity v=\u001b[39m\u001b[38;5;132;01m{}\u001b[39;00m\u001b[38;5;124m cannot exceed the speed of light\u001b[39m\u001b[38;5;124m\"\u001b[39m\u001b[38;5;241m.\u001b[39mformat(v))\n\u001b[1;32m     10\u001b[0m     \u001b[38;5;28;01mreturn\u001b[39;00m \u001b[38;5;241m1\u001b[39m \u001b[38;5;241m/\u001b[39m (\u001b[38;5;241m1\u001b[39m \u001b[38;5;241m-\u001b[39m v\u001b[38;5;241m*\u001b[39m\u001b[38;5;241m*\u001b[39m\u001b[38;5;241m2\u001b[39m\u001b[38;5;241m/\u001b[39mc\u001b[38;5;241m*\u001b[39m\u001b[38;5;241m*\u001b[39m\u001b[38;5;241m2\u001b[39m) \u001b[38;5;241m*\u001b[39m\u001b[38;5;241m*\u001b[39m \u001b[38;5;241m0.5\u001b[39m\n",
      "\u001b[0;31mLightSpeedBound\u001b[0m: The current velocity v=300000000 cannot exceed the speed of light"
     ]
    }
   ],
   "source": [
    "lorentz_factor(300_000_000)"
   ]
  },
  {
   "cell_type": "markdown",
   "id": "73369b3f-0bb6-4736-97c2-1ead42d1a781",
   "metadata": {
    "user_expressions": []
   },
   "source": [
    "````{note}\n",
    "Currently Python supports type hinting at the moment of defining new functions. Altught these are hinds and not something will be required for the function, being explicit about the input and output types helps having a more readable and accurate code\n",
    "```python\n",
    "def division(numerator:float, denominator:float) -> float:\n",
    "    return numerator / demoninator\n",
    "```\n",
    "In order to make type check, we can use tools such as [mypy](https://mypy-lang.org).\n",
    "````"
   ]
  },
  {
   "cell_type": "markdown",
   "id": "dd963867-db34-4da0-8890-638992b64e6f",
   "metadata": {
    "user_expressions": []
   },
   "source": [
    "### 2.3. Unit Tests\n",
    "\n",
    "In previous section we were discussing about the importance of writting clean and modular code. Having small functions that perfom very specific tasks help us to desing pipelines for testing those small units of code. That is the purpose of unit tests, to individually test the functions in our code. \n",
    "\n",
    "The way of writing unit tests consist in defining function that will return an `assert` statement testing whenever the output matches the _true_ answer."
   ]
  },
  {
   "cell_type": "code",
   "execution_count": 40,
   "id": "d99c9d30-e1d2-4faf-921b-5961d61a606b",
   "metadata": {},
   "outputs": [],
   "source": [
    "import numpy as np\n",
    "\n",
    "def division(numerator, denominator):\n",
    "    if denominator == pytest.approx(0.0):\n",
    "        raise ZeroDivisionError(\"You cannot divide by denominator={}\".format(denominator))\n",
    "    return numerator / denominator\n",
    "\n",
    "def test_float_division():\n",
    "    assert np.isclose(division(2.0,0.5), 4.0)"
   ]
  },
  {
   "cell_type": "code",
   "execution_count": 41,
   "id": "f693b564-04b1-4ca6-b1b6-172a037a9298",
   "metadata": {},
   "outputs": [],
   "source": [
    "test_float_division()"
   ]
  },
  {
   "cell_type": "markdown",
   "id": "988d1935-86a2-49c2-ba7b-2f6649e4aab2",
   "metadata": {
    "user_expressions": []
   },
   "source": [
    "The next step is to scalate this! Having more than one test for function that can evaluate different cases (eg, different types) and then extent to all the functions in your code. For example, for the `division` function we probably want to add a test that fix the expected behaviour when dividing by zero. Surprisingly, we can assert that the output of a funcition is an Error itself:"
   ]
  },
  {
   "cell_type": "code",
   "execution_count": 72,
   "id": "a80645a7-9bbc-4708-8232-ae3ce6ec1231",
   "metadata": {
    "user_expressions": []
   },
   "outputs": [],
   "source": [
    "from unittest import TestCase\n",
    "\n",
    "def test_division_by_zero():\n",
    "    with TestCase.assertRaises(ZeroDivisionError):\n",
    "        division(numerator=10.0, denominator=0.0)"
   ]
  },
  {
   "cell_type": "code",
   "execution_count": 73,
   "id": "f71bc9c4-ef9f-44b5-88e6-9790d9c2ff97",
   "metadata": {},
   "outputs": [
    {
     "ename": "TypeError",
     "evalue": "TestCase.assertRaises() missing 1 required positional argument: 'expected_exception'",
     "output_type": "error",
     "traceback": [
      "\u001b[0;31m---------------------------------------------------------------------------\u001b[0m",
      "\u001b[0;31mTypeError\u001b[0m                                 Traceback (most recent call last)",
      "Cell \u001b[0;32mIn[73], line 1\u001b[0m\n\u001b[0;32m----> 1\u001b[0m \u001b[43mtest_division_by_zero\u001b[49m\u001b[43m(\u001b[49m\u001b[43m)\u001b[49m\n",
      "Cell \u001b[0;32mIn[72], line 4\u001b[0m, in \u001b[0;36mtest_division_by_zero\u001b[0;34m()\u001b[0m\n\u001b[1;32m      3\u001b[0m \u001b[38;5;28;01mdef\u001b[39;00m \u001b[38;5;21mtest_division_by_zero\u001b[39m():\n\u001b[0;32m----> 4\u001b[0m     \u001b[38;5;28;01mwith\u001b[39;00m \u001b[43mTestCase\u001b[49m\u001b[38;5;241;43m.\u001b[39;49m\u001b[43massertRaises\u001b[49m\u001b[43m(\u001b[49m\u001b[38;5;167;43;01mZeroDivisionError\u001b[39;49;00m\u001b[43m)\u001b[49m:\n\u001b[1;32m      5\u001b[0m         division(numerator\u001b[38;5;241m=\u001b[39m\u001b[38;5;241m10.0\u001b[39m, denominator\u001b[38;5;241m=\u001b[39m\u001b[38;5;241m0.0\u001b[39m)\n",
      "\u001b[0;31mTypeError\u001b[0m: TestCase.assertRaises() missing 1 required positional argument: 'expected_exception'"
     ]
    }
   ],
   "source": [
    "test_division_by_zero()"
   ]
  },
  {
   "cell_type": "markdown",
   "id": "90f53f18-0d0b-4c09-b6f7-01ec12f0d28f",
   "metadata": {
    "user_expressions": []
   },
   "source": [
    "### 2.4. Integration tests\n",
    "\n",
    "As their name indicate, integration tests are the responsible of evaluating how multiple units of code work together, instead of individually. For example, it is easy to see how a simple code that has the `division` function can fail, even when each unit has being tested independnely. \n",
    "\n",
    "In general, any test that involves more than one function is called an integration test. Let's see the following example that uses [inheritance classes](https://www.w3schools.com/python/python_inheritance.asp) in Python. "
   ]
  },
  {
   "cell_type": "code",
   "execution_count": 14,
   "id": "9414096f-a7e9-48e1-99d9-acd01e2f54ef",
   "metadata": {},
   "outputs": [],
   "source": [
    "class Person:\n",
    "    \n",
    "    def __init__(self, name, age):\n",
    "        self.name = name\n",
    "        self.age = age\n",
    "        \n",
    "    def birthday(self):\n",
    "        self.age += 1\n",
    "        \n",
    "    def append_lastname(self, lastname):\n",
    "        self.name += \" \" + lastname\n",
    "        \n",
    "class Student(Person):\n",
    "    \n",
    "    def __init__(self, name, age, major):\n",
    "        super().__init__(name, age)\n",
    "        self.major = major\n",
    "        self.grades = {}\n",
    "        \n",
    "    def add_grade(self, course, grade):\n",
    "        self.grades[course] = grade"
   ]
  },
  {
   "cell_type": "code",
   "execution_count": 15,
   "id": "4739767a-1f1d-424f-a11e-f77b96093971",
   "metadata": {},
   "outputs": [],
   "source": [
    "def test_student():\n",
    "    \n",
    "    subject = Student(\"Facu\", 28, \"Statistics\")\n",
    "    subject.birthday()\n",
    "    subject.add_grade(\"Stat 159\", \"A+\")\n",
    "    assert subject.age == 29 and subject.grades[\"Stat 159\"] == \"A+\"\n",
    "    \n",
    "test_student()"
   ]
  },
  {
   "cell_type": "markdown",
   "id": "14e28745-7c62-4c78-bd3b-10e3a38a2300",
   "metadata": {
    "user_expressions": []
   },
   "source": [
    "### 2.5. Regression tests\n",
    "\n",
    "Regression tests try to _fix_ in time the expected behaviour of certain piece of code. This is particularry useful when we don't know what the true output of a piece of code is, but we want to ensure the _stability_ of the code. In a sense, we want to be sure that as we make changes we don't break or change the code that, in principle, was working before. \n",
    "\n",
    "Another example of a regression test happens after we found and fix a bug in our code. After detecting an error, we may want to include a test for this so we are sure that the bug doesn't reapear in the future. "
   ]
  },
  {
   "cell_type": "markdown",
   "id": "ba4e9888-a84b-483f-b483-a44838c52d74",
   "metadata": {
    "user_expressions": []
   },
   "source": [
    "```{admonition} Putting all this into practice\n",
    "We will write a series of different tests (including those in this lecture) during Lab where we will use our toy Eratosthenes project to create new tests.\n",
    "```"
   ]
  }
 ],
 "metadata": {
  "kernelspec": {
   "display_name": "Python 3 (ipykernel)",
   "language": "python",
   "name": "python3"
  },
  "language_info": {
   "codemirror_mode": {
    "name": "ipython",
    "version": 3
   },
   "file_extension": ".py",
   "mimetype": "text/x-python",
   "name": "python",
   "nbconvert_exporter": "python",
   "pygments_lexer": "ipython3",
   "version": "3.10.8"
  }
 },
 "nbformat": 4,
 "nbformat_minor": 5
}
