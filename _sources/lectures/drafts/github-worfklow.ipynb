{
 "cells": [
  {
   "cell_type": "markdown",
   "id": "7593f788-20fd-4c53-a823-7dc928406aea",
   "metadata": {
    "user_expressions": []
   },
   "source": [
    "---\n",
    "title: GitHub Workflow\n",
    "\n",
    "---"
   ]
  },
  {
   "cell_type": "markdown",
   "id": "bb0f1600-b1d3-4098-b458-46d3ce4f15fe",
   "metadata": {
    "user_expressions": []
   },
   "source": [
    "# Working in teams on GitHub\n",
    "\n",
    "Two old open source quotes: \n",
    "> \"release early, release often\"\n",
    "\n",
    "and\n",
    "\n",
    "> \"given enough eyeballs, all bugs are shallow\". \n",
    "\n",
    "These two capture a key principle: share your work openly from as early as possible, and thus get more people to look at your work, and the result will be better.  Trick is - how do we put this in practice?\n",
    "\n",
    "- Git, with remotes, connects your local workflow to the cloud. \n",
    "- In the cloud, GitHub (and other similar services like GitLab) becomes your point for collaboration.\n",
    "\n",
    "In all this, _communication is key_. Git is only a technical tool that helps you manage a kind of data (the contents of your repository). It is not a replacement for working with humans - **that's your job!**\n",
    "\n",
    "## Key habits to pick up\n",
    "\n",
    "- Good atomic commits, with proper comments.\n",
    "- Group them in branches that address one problem at a time.\n",
    "- When ready for feedback, make a Pull Request for this work.\n",
    "- Your PR description should summarize the overall purpose of the work.\n",
    "- When appropriate, open issues to track specific questions/problems to work on (see for example how a new, relatively small project like MyST [does it](https://github.com/executablebooks/jupyterlab-myst/issues)).\n",
    "- You can [`close #nn`](https://docs.github.com/en/issues/tracking-your-work-with-issues/linking-a-pull-request-to-an-issue) issues via specific commits or in the merge commit of a PR.\n",
    "\n",
    "For this to work well, you need an `upstream` repository for the common work, and your personal `origin` one. For example:\n",
    "  \n",
    "```bash\n",
    "(base) (staging)longs[stat159]> git remote -v\n",
    "origin\tgit@github.com:fperez/datahub.git (fetch)\n",
    "origin\tgit@github.com:fperez/datahub.git (push)\n",
    "upstream\tgit@github.com:berkeley-dsep-infra/datahub.git (fetch)\n",
    "upstream\tgit@github.com:berkeley-dsep-infra/datahub.git (push)\n",
    "```\n",
    "\n",
    "This separates your personal workspace from that of the team, and it's a good habit to get into even if you have direct commit rights to the group workspace."
   ]
  },
  {
   "cell_type": "markdown",
   "id": "25aec941-030a-47cf-a470-56d9f3d414de",
   "metadata": {
    "user_expressions": []
   },
   "source": [
    "## Main points of collaboration on a GitHub repo\n",
    "\n",
    "* [Issues](https://github.com/CryoInTheCloud/hub-image/issues)\n",
    "* [Pull Requests](https://github.com/CryoInTheCloud/hub-image/pulls)\n",
    "* [Projects](https://github.com/CryoInTheCloud/hub-image/projects)\n",
    "* [Discussions](https://docs.github.com/en/discussions/quickstart). This one is a bigger decision for larger communities, see for example [Jupyter Discourse](https://discourse.jupyter.org).\n"
   ]
  },
  {
   "cell_type": "code",
   "execution_count": null,
   "id": "82108f46-3b1e-4385-80a7-40aea9262fc8",
   "metadata": {},
   "outputs": [],
   "source": []
  }
 ],
 "metadata": {
  "kernelspec": {
   "display_name": "Python 3 (ipykernel)",
   "language": "python",
   "name": "python3"
  },
  "language_info": {
   "codemirror_mode": {
    "name": "ipython",
    "version": 3
   },
   "file_extension": ".py",
   "mimetype": "text/x-python",
   "name": "python",
   "nbconvert_exporter": "python",
   "pygments_lexer": "ipython3",
   "version": "3.10.8"
  }
 },
 "nbformat": 4,
 "nbformat_minor": 5
}
