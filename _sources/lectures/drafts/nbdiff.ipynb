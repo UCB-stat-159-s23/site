{
 "cells": [
  {
   "cell_type": "markdown",
   "id": "e4a0d825-a42c-4a6e-8595-477ce61bc1eb",
   "metadata": {
    "user_expressions": []
   },
   "source": [
    "# nbdime - version control for Jupyter notebooks\n",
    "\n",
    "Documentation: https://nbdime.readthedocs.io"
   ]
  },
  {
   "cell_type": "markdown",
   "id": "6d979a89-c65f-46a2-8c93-861cd68cc577",
   "metadata": {
    "user_expressions": []
   },
   "source": [
    "# Accessing nbdime on the hub\n",
    "\n",
    "The `nbdiff-web` command should be executed with these parameters:\n",
    "\n",
    "```\n",
    "nbdiff-web --ip 0.0.0.0 -p 9999 --base-url ${JUPYTERHUB_SERVICE_PREFIX}/proxy/absolute/9999\n",
    "```\n",
    "\n",
    "in the folder where the file to diff resides. And then the following URL should be accessed:\n",
    "\n",
    "https://stat159.datahub.berkeley.edu/user-redirect/proxy/absolute/9999/difftool\n",
    "\n",
    "When instead accessing a manual diff of two files, that on a local machine would be done with `nbdiff-web nb1.ipynb nb2.ipynb`, you should similarly execute\n",
    "\n",
    "```\n",
    "nbdiff-web --ip 0.0.0.0 -p 9999 --base-url ${JUPYTERHUB_SERVICE_PREFIX}/proxy/absolute/9999 nb1.ipynb nb2.ipynb\n",
    "```\n",
    "\n",
    "but then you need to access the URL:\n",
    "\n",
    "https://stat159.datahub.berkeley.edu/user-redirect/proxy/absolute/9999/diff?base=nb1.ipynb&remote=nb2.ipynb\n",
    "\n",
    "(or use instead this if working in the staging hub):\n",
    "\n",
    "https://stat159-staging.datahub.berkeley.edu/user-redirect/proxy/absolute/9999/diff?base=nb1.ipynb&remote=nb2.ipynb"
   ]
  },
  {
   "cell_type": "markdown",
   "id": "c38fb323-7158-4852-b490-215cdf28d68b",
   "metadata": {
    "user_expressions": []
   },
   "source": [
    "## Code to semi-automate the above"
   ]
  },
  {
   "cell_type": "markdown",
   "id": "a9e3f9d1-93bd-494a-a344-7328194c3158",
   "metadata": {
    "user_expressions": []
   },
   "source": [
    "Let's first define some little utilities that we'll use to display cleaner code later:"
   ]
  },
  {
   "cell_type": "code",
   "execution_count": 7,
   "id": "fb564c5c-2188-480a-a105-7c184b300be9",
   "metadata": {},
   "outputs": [],
   "source": [
    "from IPython.display import Markdown\n",
    "\n",
    "def mdpre(s):\n",
    "    return Markdown(f\"`{s}`\")\n",
    "\n",
    "def mdcode(code, lang=''):\n",
    "    tpl = f\"\"\"\\\n",
    "```{lang}\n",
    "{code}\n",
    "```\"\"\"\n",
    "    return Markdown(tpl)\n",
    "\n",
    "def mdsh(code):\n",
    "    return mdcode(code, 'bash')"
   ]
  },
  {
   "cell_type": "markdown",
   "id": "3413b56c-f058-40f2-acfe-2372a772ca8c",
   "metadata": {
    "user_expressions": []
   },
   "source": [
    "Now, define the command to run:"
   ]
  },
  {
   "cell_type": "code",
   "execution_count": 2,
   "id": "6a05124f-aaf5-405e-abdf-dc5e6bf808c0",
   "metadata": {
    "tags": []
   },
   "outputs": [
    {
     "data": {
      "text/plain": [
       "'nbdiff-web --ip 0.0.0.0 -p 9999 --base-url ${JUPYTERHUB_SERVICE_PREFIX}/proxy/absolute/9999'"
      ]
     },
     "execution_count": 2,
     "metadata": {},
     "output_type": "execute_result"
    }
   ],
   "source": [
    "port = 9999\n",
    "nbdiff_web = f\"nbdiff-web --ip 0.0.0.0 -p {port} --base-url ${{JUPYTERHUB_SERVICE_PREFIX}}/proxy/absolute/{port}\"\n",
    "nbdiff_web"
   ]
  },
  {
   "cell_type": "markdown",
   "id": "ea46e529-acfb-414d-9d50-d1b2fba54a5e",
   "metadata": {
    "user_expressions": []
   },
   "source": [
    "And our base url: "
   ]
  },
  {
   "cell_type": "code",
   "execution_count": 3,
   "id": "44a6cf31-fe33-4874-b777-7c8eea546bb4",
   "metadata": {},
   "outputs": [
    {
     "data": {
      "text/plain": [
       "'https://stat159-staging.datahub.berkeley.edu/user-redirect/proxy/absolute/9999'"
      ]
     },
     "execution_count": 3,
     "metadata": {},
     "output_type": "execute_result"
    }
   ],
   "source": [
    "baseurl = f\"https://stat159.datahub.berkeley.edu/user-redirect/proxy/absolute/{port}\"\n",
    "baseurl = f\"https://stat159-staging.datahub.berkeley.edu/user-redirect/proxy/absolute/{port}\"\n",
    "baseurl"
   ]
  },
  {
   "cell_type": "markdown",
   "id": "b9394820-e814-4920-9091-52f35ce680e6",
   "metadata": {
    "user_expressions": []
   },
   "source": [
    "Next, define the location of the file/directory we want to diff:"
   ]
  },
  {
   "cell_type": "code",
   "execution_count": 4,
   "id": "f25e96e9-a0fd-47d5-be71-fbca05cec15d",
   "metadata": {
    "tags": []
   },
   "outputs": [],
   "source": [
    "folder = \"$HOME/159/site/lectures/drafts/\""
   ]
  },
  {
   "cell_type": "markdown",
   "id": "70d5e73c-2ceb-41a9-9128-09c6bdbc050d",
   "metadata": {
    "user_expressions": [
     {
      "expression": "mdsh(f\"cd {folder}\")",
      "result": {
       "data": {
        "text/markdown": "```bash\ncd $HOME/159/site/lectures/drafts/\n```",
        "text/plain": "<IPython.core.display.Markdown object>"
       },
       "metadata": {},
       "status": "ok"
      }
     },
     {
      "expression": "mdsh(nbdiff_web)",
      "result": {
       "data": {
        "text/markdown": "```bash\nnbdiff-web --ip 0.0.0.0 -p 9999 --base-url ${JUPYTERHUB_SERVICE_PREFIX}/proxy/absolute/9999\n```",
        "text/plain": "<IPython.core.display.Markdown object>"
       },
       "metadata": {},
       "status": "ok"
      }
     },
     {
      "expression": "Markdown(f\"[this URL]({baseurl}/difftool)\")",
      "result": {
       "data": {
        "text/markdown": "[this URL](https://stat159-staging.datahub.berkeley.edu/user-redirect/proxy/absolute/9999/difftool)",
        "text/plain": "<IPython.core.display.Markdown object>"
       },
       "metadata": {},
       "status": "ok"
      }
     },
     {
      "expression": "f\"{baseurl}/difftool\"",
      "result": {
       "data": {
        "text/plain": "'https://stat159-staging.datahub.berkeley.edu/user-redirect/proxy/absolute/9999/difftool'"
       },
       "metadata": {},
       "status": "ok"
      }
     }
    ]
   },
   "source": [
    "Now, go to the folder with your project with:\n",
    "\n",
    "{eval}`mdsh(f\"cd {folder}\")`\n",
    "\n",
    "and, once there, run the command: \n",
    "\n",
    "{eval}`mdsh(nbdiff_web)`\n",
    "\n",
    "and then visit {eval}`Markdown(f\"[this URL]({baseurl}/difftool)\")`.\n",
    "\n",
    "{eval}`f\"{baseurl}/difftool\"`"
   ]
  },
  {
   "cell_type": "markdown",
   "id": "79f145df-b74f-4413-b550-eb0580bc971a",
   "metadata": {
    "user_expressions": []
   },
   "source": [
    "If using nbdime to diff two local files (instead of the git state), there's a small change:"
   ]
  },
  {
   "cell_type": "code",
   "execution_count": 5,
   "id": "cb666016-10e9-45ed-b155-4e585d91e230",
   "metadata": {
    "tags": []
   },
   "outputs": [],
   "source": [
    "file1  = \"nb1.ipynb\"\n",
    "file2  = \"nb2.ipynb\""
   ]
  },
  {
   "cell_type": "markdown",
   "id": "b9357db3-e6e6-47e0-adfc-4ac901d24988",
   "metadata": {
    "user_expressions": [
     {
      "expression": "mdsh(f\"cd {folder}\")",
      "result": {
       "data": {
        "text/markdown": "```bash\ncd $HOME/159/site/lectures/drafts/\n```",
        "text/plain": "<IPython.core.display.Markdown object>"
       },
       "metadata": {},
       "status": "ok"
      }
     },
     {
      "expression": "mdsh(f\"{nbdiff_web} {file1} {file2}\")",
      "result": {
       "data": {
        "text/markdown": "```bash\nnbdiff-web --ip 0.0.0.0 -p 9999 --base-url ${JUPYTERHUB_SERVICE_PREFIX}/proxy/absolute/9999 nb1.ipynb nb2.ipynb\n```",
        "text/plain": "<IPython.core.display.Markdown object>"
       },
       "metadata": {},
       "status": "ok"
      }
     },
     {
      "expression": "Markdown(f\"[this URL]({baseurl}/diff?base={file1}&remote={file2})\")",
      "result": {
       "data": {
        "text/markdown": "[this URL](https://stat159-staging.datahub.berkeley.edu/user-redirect/proxy/absolute/9999/diff?base=nb1.ipynb&remote=nb2.ipynb)",
        "text/plain": "<IPython.core.display.Markdown object>"
       },
       "metadata": {},
       "status": "ok"
      }
     }
    ]
   },
   "source": [
    "In this case, with two explicit files to compare, we can again go to the folder with this content:\n",
    "\n",
    "{eval}`mdsh(f\"cd {folder}\")`\n",
    "\n",
    "and, once there, run the command: \n",
    "\n",
    "{eval}`mdsh(f\"{nbdiff_web} {file1} {file2}\")`\n",
    "\n",
    "and and then visit {eval}`Markdown(f\"[this URL]({baseurl}/diff?base={file1}&remote={file2})\")`."
   ]
  }
 ],
 "metadata": {
  "kernelspec": {
   "display_name": "Python 3 (ipykernel)",
   "language": "python",
   "name": "python3"
  },
  "language_info": {
   "codemirror_mode": {
    "name": "ipython",
    "version": 3
   },
   "file_extension": ".py",
   "mimetype": "text/x-python",
   "name": "python",
   "nbconvert_exporter": "python",
   "pygments_lexer": "ipython3",
   "version": "3.10.8"
  }
 },
 "nbformat": 4,
 "nbformat_minor": 5
}
