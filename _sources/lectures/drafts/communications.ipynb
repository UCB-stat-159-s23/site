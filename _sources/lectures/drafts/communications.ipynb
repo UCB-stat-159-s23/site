{
 "cells": [
  {
   "cell_type": "markdown",
   "id": "4c64d878-f378-4a2f-85db-b3001ec27a4b",
   "metadata": {
    "user_expressions": []
   },
   "source": [
    "# Documentation, JupyterBook and Github Pages\n",
    "\n",
    "* A quick overview of: [The Documentation System](https://documentation.divio.com)\n",
    "\n",
    "![](../images/doc-quadrants.png)\n",
    "![](../images/doc-table.png)\n",
    "\n",
    "* [JupyterBook 101](https://docs.google.com/presentation/d/1D7jZ9mI-VcU9-s9IEEuGCvQH4rm5Bpwc3xek1Mu_Nak/edit#slide=id.g1057b8b45eb_0_2)\n",
    "\n",
    "\n",
    "* Getting this to work on the hub?\n",
    "\n",
    "We need to run sphinx manually. These are the key commands for your reference:\n",
    "\n",
    "```bash\n",
    "jupyter-book config sphinx .\n",
    "sphinx-build  . _build/html -D html_baseurl=${JUPYTERHUB_SERVICE_PREFIX}/proxy/absolute/8000\n",
    "```\n",
    "\n",
    "Then we can view the code with (in another terminal), going to the `_build/html` folder and running:\n",
    "\n",
    "```bash\n",
    "python -m http.server\n",
    "```\n",
    "\n",
    "and then heading to this URL:\n",
    "\n",
    "[https://stat159.datahub.berkeley.edu/user-redirect/proxy/8000/index.html](https://stat159.datahub.berkeley.edu/user-redirect/proxy/8000/index.html)"
   ]
  },
  {
   "cell_type": "code",
   "execution_count": 1,
   "id": "d088af4a-ed0f-4a3e-aad0-11333986f175",
   "metadata": {},
   "outputs": [
    {
     "data": {
      "text/plain": [
       "'/home/jovyan'"
      ]
     },
     "execution_count": 1,
     "metadata": {},
     "output_type": "execute_result"
    }
   ],
   "source": [
    "pwd"
   ]
  },
  {
   "cell_type": "code",
   "execution_count": null,
   "id": "c709cfbb-b142-4818-a54a-4dbf6ef7f828",
   "metadata": {},
   "outputs": [],
   "source": []
  }
 ],
 "metadata": {
  "kernelspec": {
   "display_name": "Python 3 (ipykernel)",
   "language": "python",
   "name": "python3"
  },
  "language_info": {
   "codemirror_mode": {
    "name": "ipython",
    "version": 3
   },
   "file_extension": ".py",
   "mimetype": "text/x-python",
   "name": "python",
   "nbconvert_exporter": "python",
   "pygments_lexer": "ipython3",
   "version": "3.10.8"
  }
 },
 "nbformat": 4,
 "nbformat_minor": 5
}
