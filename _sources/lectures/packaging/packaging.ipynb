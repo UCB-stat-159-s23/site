{
 "cells": [
  {
   "cell_type": "markdown",
   "id": "f6eee758-0cae-4c0e-888b-70320ddc3c6c",
   "metadata": {
    "user_expressions": []
   },
   "source": [
    "# Packaging\n",
    "\n",
    "In our previous lecture about modularization, we already discussed the concept of modules and how to import them. A package is a collection of modules that we can now import together and document separately. \n",
    "For this lecture, we are going to follow the following minimal Python package, [mytoy](https://github.com/fperez/mytoy). You can clone this repository in you local machine:\n",
    "```bash\n",
    "git clone https://github.com/fperez/mytoy.git\n",
    "```\n",
    "This repository contains a minimal, toy Python package with a few files as illustration for students of how to lay out their code to meet minimal Python packaging requirements.\n",
    "\n",
    "It has a single source directory (`mytoy`) with an `__init__.py` file and one \"implementation\" file (`toys.py`) as well as a few tests in `mytoy/tests`.\n",
    "\n",
    "In addition to this `README.md` it includes some basic infrastructure: `LICENSE`, `requirements.txt`, `setup.py` and `.gitignore` files.\n",
    "\n",
    "The only docs included are this `README.md` file - a larger package would have a proper docs directory and associated Sphinx/JupyterBook build.\n",
    "\n",
    "This is more or less the absolute minimum for a \"real\" python package that can be installed from source, tested and experimented with on Binder.  For a more \"official\" version of this same idea, see the [PyPA sample project repo](https://github.com/pypa/sampleproject), documented in detail in the [Packaging Tutorial](https://packaging.python.org/en/latest/tutorials/packaging-projects). The [Python Packaging User Guide](https://packaging.python.org) contains comprehensive documentation on this topic.\n",
    "\n",
    "Let's now disentangled some of the contents in `mytoy`. Let's begin with some simple example.  "
   ]
  },
  {
   "cell_type": "markdown",
   "id": "271bf31e-f80a-4b2d-8545-c39e62f5b55c",
   "metadata": {
    "user_expressions": []
   },
   "source": [
    "### 1. Import a package"
   ]
  },
  {
   "cell_type": "markdown",
   "id": "b8f2d505-746f-4264-a285-6003fc8a6655",
   "metadata": {
    "user_expressions": []
   },
   "source": [
    "Let's begging by creating a simple analysis notebook `Analysis.ipynb`. Inside the notebook we make an import of a new package called `mytoy` with the syntax:\n",
    "```python\n",
    "import mytoy\n",
    "```\n",
    "where in the same folder we have a folder called my toy with the following contents. You folder should like something like this:"
   ]
  },
  {
   "cell_type": "raw",
   "id": "d8171f03-2371-43a0-a0d0-eb7103044207",
   "metadata": {},
   "source": [
    "Analysis.ipynb\n",
    "mytoy\n",
    "|- __init__.py\n",
    "|- toys.py"
   ]
  },
  {
   "cell_type": "markdown",
   "id": "54f5ff61-207c-403d-bda2-2e0aa4d80324",
   "metadata": {
    "user_expressions": []
   },
   "source": [
    "The actual Python code is contained in the `.py` files, where we include some basic functions, classes and other objects we want to import. In order to the import to work, we need to create the index file `__init__.py` with the following contents:\n",
    "```\n",
    "\"\"\"\n",
    "My Toy package\n",
    "\"\"\"\n",
    "\n",
    "__version__ = \"0.0.1\"\n",
    "\n",
    "from .toys import *\n",
    "```\n",
    "The first part of the script is the docstring we already discussed in the lecture about documentation. The `__version__` variable follows the convention of specifying the version number with a sequence of three digits, labeled as major, minor and patch (more information about the convention of these three digits in the [Semantic Version documentation](https://semver.org)).\n",
    "\n",
    "````{note}\n",
    "In the case of being constantly making changes to your package code, you can include the `autoreload` command so the changes in the package are updated in the notebook without the need of restarting the kernel\n",
    "```python\n",
    "%load_ext autoreload\n",
    "%autoreload 2\n",
    "```\n",
    "````"
   ]
  },
  {
   "cell_type": "markdown",
   "id": "6b10f772-76e1-4918-b164-4b16503539fd",
   "metadata": {
    "user_expressions": []
   },
   "source": [
    "### 2. Making a package installable\n",
    "\n",
    "Now, in order to import `mytoy` we need to be in the folder where `mytoy` lives. However, we want `mytoy` to be available everywhere where Python is available, in the same way we can import `numpy` and `matplotlib` from every notebook and Python session. \n",
    "\n",
    "In order to make a package installable, we need to include these three files inside `mytoy`\n",
    "- `pyproj.toml`\n",
    "- `setup.py`\n",
    "- `setup.cfg` \n",
    "\n",
    "For the first two files, you can use the same ones that are available inside [mytoy](https://github.com/fperez/mytoy) without the need of making any change on them. The file `setup.cfg` needs to be customizable based on the specifics of the package. This is an example of how the `setup.cfg` file in `mytoy` looks like:\n",
    "```\n",
    "# Declarative configuration for setup.py\n",
    "\n",
    "# For more details on this format, see the official docs here:\n",
    "# https://setuptools.pypa.io/en/latest/userguide/declarative_config.html\n",
    "# And a useful annotated template can be found here:\n",
    "# https://gist.github.com/althonos/6914b896789d3f2078d1e6237642c35c\n",
    "\n",
    "[metadata]\n",
    "name             = mytoy\n",
    "version          = attr: mytoy.__version__\n",
    "author           = My Name\n",
    "author_email     = me@myemail.com\n",
    "description      = A Python library to make toys\n",
    "long_description = file: README.md, LICENSE\n",
    "long_description_content_type = text/markdown\n",
    "keywords         = tools, toys\n",
    "license          = BSD 3-Clause License\n",
    "classifiers      =\n",
    "\tProgramming Language :: Python :: 3\n",
    "    License :: OSI Approved :: BSD License\n",
    "    Operating System :: OS Independent\n",
    "\n",
    "[options]\n",
    "include_package_data = True\n",
    "packages = find:\n",
    "# These should be consistent with what is specified in the environment.yml\n",
    "python_requires  = >= 3.6,\n",
    "install_requires =\n",
    "\ttqdm\n",
    "\n",
    "[options.packages.find]\n",
    "exclude =\n",
    "    examples*\n",
    "    docs*\n",
    "```\n",
    "\n",
    "Notice that to your package you can also include a `LICENCE` file. \n",
    "\n",
    "```{note}\n",
    "The license is what specifies the condition under which you code can or cannot be used by someone else. Just by putting code in GitHub doesn't imply that code is open source. That extra step requires you to specify the type of license. Notice that when you create a new repository in GitHub, one of the available options is to create the repository with a given license. Some examples of popular licenses are \n",
    "- `BSD` (Berkeley Software Distribution) / `MIT`.\n",
    "- `GPL` (GNU Public License) or copy-left licenses.\n",
    "- `LGPL` (GNU Lesser General Public License)\n",
    "\n",
    "Here you can find the [recommendation of UCB](https://cio.ucop.edu/a-guide-for-licensing-open-source-software/) regarding which license to use. \n",
    "```"
   ]
  },
  {
   "cell_type": "markdown",
   "id": "aa9ddfa6-9d73-487a-8f29-db025228ff42",
   "metadata": {
    "user_expressions": []
   },
   "source": [
    "Once these files are present in your package folder, you can install the Python package using `pip`. From the folder where `mytoy` lives and you have the configuration files, you can run from a terminal \n",
    "```bash\n",
    "pip install .\n",
    "```\n",
    "and this will install `mytoy`. After you complete the installation, you can import `mytoy` from any Python session (for example, now you can open python from a terminal and make a `import mytoy` from there). \n",
    "\n",
    "````{note}\n",
    "You can also install in development mode with the editable flag \n",
    "```\n",
    "pip install -e .\n",
    "```\n",
    "This is useful when we are making changes in the package as we make progress. If we don't do this, every time we make a change in the library we need to uninstall and install again in order to those changes to be reflected. \n",
    "````"
   ]
  },
  {
   "cell_type": "markdown",
   "id": "c107425a-95f0-4ad8-8935-3b1e1b6aacba",
   "metadata": {
    "user_expressions": []
   },
   "source": [
    "### 3. Running tests\n",
    "\n",
    "As we mentioned in previous lectures, a very important element of writing code is having easy way of testing it. Just as we did using `pytest`, we can automatically run the tests included inside a Python package. After you had installed `mytoy`, you can run all the tests located inside the folder `tests` by running\n",
    "```bash\n",
    "pytest mytoy\n",
    "```\n",
    "Notice that you can run this command from any directory in your system."
   ]
  },
  {
   "cell_type": "markdown",
   "id": "225b4d07-d7f1-468b-a12d-11a46d1d3920",
   "metadata": {
    "user_expressions": []
   },
   "source": [
    "### 4. Publishing our package \n",
    "\n",
    "You can eventually publish your code in the [Python Package Index](pypi.org). We are not going to do that here, but from the structure of `mytoy` it's easy to make a package available for other users to install using some package management system. \n",
    "\n",
    "An example of this is the small [jupitee project](https://github.com/fperez/jupytee), that you can directly install using `pip install jupytee` (see the associated [PyPI documentation](https://pypi.org/project/jupyter/) documentation for extra information)."
   ]
  }
 ],
 "metadata": {
  "kernelspec": {
   "display_name": "Python 3 (ipykernel)",
   "language": "python",
   "name": "python3"
  },
  "language_info": {
   "codemirror_mode": {
    "name": "ipython",
    "version": 3
   },
   "file_extension": ".py",
   "mimetype": "text/x-python",
   "name": "python",
   "nbconvert_exporter": "python",
   "pygments_lexer": "ipython3",
   "version": "3.10.8"
  }
 },
 "nbformat": 4,
 "nbformat_minor": 5
}
