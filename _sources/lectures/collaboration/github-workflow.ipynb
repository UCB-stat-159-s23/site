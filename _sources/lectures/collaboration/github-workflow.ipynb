{
 "cells": [
  {
   "cell_type": "markdown",
   "id": "ed1cbb3d-7cf8-4b23-8ec7-60351b47b1a5",
   "metadata": {
    "user_expressions": []
   },
   "source": [
    "# Working in teams on GitHub\n",
    "\n",
    "Although we don't need to became experts in git and Github, it is important to understand how it works and, more important, start developing good practices and workflows at the moment of working under version control with other people. \n",
    "\n",
    "A very common quote in the open source community is\n",
    "> \"Release early, release often\"\n",
    "\n",
    "Why is this? Because this will provide feedback from the community that will furthermore help moving the software forward. This is very different than the secretive way many times traditional science tends to work. Not doing this encourages bad practices. \n",
    "\n",
    "Another popular quote knows as the Linus's Law is \n",
    "> \"Given enough eyeballs, all bugs are shallow\". \n",
    "\n",
    "This is very similar to the other quote: with more people looking at more code, the changes of making big mistakes are smaller and the software becomes more robust. This doesn't mean that our code will not have issues, but we are more likely to detect flaws in the design and implementation of the code when more people are looking at it. \n",
    "\n",
    "These two capture a key principle: share your work openly from as early as possible, and thus get more people to look at your work, and the result will be better.  Trick is - how do we put this in practice? The trick is to use \n",
    "\n",
    "- Git, with remotes, connects your local workflow to the cloud. \n",
    "- In the cloud, GitHub (and other similar services like GitLab) becomes your point for collaboration.\n",
    "\n",
    "In all this, _communication is key_. Git is only a technical tool that helps you manage a kind of data (the contents of your repository). It is not a replacement for working with humans - **that's your job!**\n",
    "\n",
    "\n",
    "```{admonition} Creating a better scientific community \n",
    "Even when we motivate these practiced for scientific software, we believe these values of collaboration and openness can been widely applied across scientific disciples. Have you ever thought about sharing your ideas or even pre-prints to the community even before those are \"ready\" for publication. See for example [Terence Tao Blog](https://terrytao.wordpress.com).\n",
    "```"
   ]
  },
  {
   "cell_type": "markdown",
   "id": "17d5ed31-dd8b-4acd-b1fb-0a7c8885f3ee",
   "metadata": {
    "user_expressions": []
   },
   "source": [
    "## Key habits to pick up\n",
    "\n",
    "\n",
    "Here we are going to make a few recommendations about good practices for project management when we are working with git and GitHub. "
   ]
  },
  {
   "cell_type": "markdown",
   "id": "3b805aa3-859c-47fc-855e-dd55ddb0f9e0",
   "metadata": {
    "user_expressions": []
   },
   "source": [
    "### 1. Good atomic commits\n",
    "\n",
    "Just like the original word atomic that means _indivisible_, this means that we should make commits that express one single idea or implementation. This doesn't necessarily means that we need to commit small changes, but instead each commit implements a new change. Also, we want this commit to have a short message. After the first line of the commit message, we can add a longer description. A general recommendation is to keep the first line of the commit message less than 50 characters. After that, we can enter an space and write more text to expand on the commit message, but the first line serves as a summary and is the one we will refer to most of the times. See [What's with the 50/70 rule?](https://preslav.me/2015/02/21/what-s-with-the-50-72-rule/) for more information about how to write good commit messages. "
   ]
  },
  {
   "cell_type": "markdown",
   "id": "64f3cb2f-16f9-4ac3-9edc-da239b2eccf3",
   "metadata": {
    "user_expressions": []
   },
   "source": [
    "### 2. Group commits in branches that address one problem at a time\n",
    "\n",
    "Having multiple branches allow us to work in multiple problems at the same time, making atomic changes on each one of them as we make progress but also allowing different lines of work to progress independently. Having multiple branches allow us to explore the evolution of the progress much better and in a non-linear fashion. Remember that branches can always being merged, so eventually we can combine different stories of project into the same commit. "
   ]
  },
  {
   "cell_type": "markdown",
   "id": "d722b771-24ef-4fd7-94b2-e945f93661df",
   "metadata": {
    "user_expressions": []
   },
   "source": [
    "### 3. Pull Requests\n",
    "\n",
    "When ready for feedback, make a Pull Request (PR) for this work. When you are already to share your code with others, you don't just update the main repository or code. Furthermore, you don't just update one single commit at the time. Instead, we create what is know as a pull request. A pull request means that one user is _requesting_ to some other users to _review_ some changes and eventually approve those changes. An advantage of doing this is that GitHub allow us to maintain an communication between the parts in which feedback and comment can be done. Further changes can be implemented until the pull requests go approved. Also, think in cases where the new changes need to be tested before being incorporated. The moment for running and checking the tests is the PR, where we can also make the changes until all potential checks pass. \n",
    "\n",
    "As we mentioned before, a pull request opens a conversation between the part that is bringing the new implementation and the current maintainers of the software. Either for small and large groups, these parts could be composed by the same or different people. This is why your PR should summarize the overall purpose of the work.\n",
    "\n",
    "Some examples of pull requests can be found [here](https://github.com/CryoInTheCloud/hub-image/pulls). Notice you can see both open and closed (resolved) issues! "
   ]
  },
  {
   "cell_type": "markdown",
   "id": "d7be4fee-0114-4fd1-81ab-8ee3e63eb8ce",
   "metadata": {
    "user_expressions": []
   },
   "source": [
    "### 4. Issues \n",
    "\n",
    "When appropriate, create an open issue to track specific questions and problems to work on (see for example how a new, relatively small project like MyST [does it](https://github.com/executablebooks/jupyterlab-myst/issues)). An issues is also atomic: it's a message that address one single problem, question, concern or sometimes even new features that we want to implement. The goal of the issue is to start a conversation without code. You can see some examples of open and closed issues in the [CryoInTheCloud](https://github.com/CryoInTheCloud/hub-image/issues) repository. \n",
    "\n",
    "\n",
    "You can [`close #nn`](https://docs.github.com/en/issues/tracking-your-work-with-issues/linking-a-pull-request-to-an-issue) issues via specific commits or in the merge commit of a PR.\n",
    "\n",
    "For this to work well, you need an `upstream` repository for the common work, and your personal `origin` one. For example:\n",
    "  \n",
    "```bash\n",
    "(base) (staging)longs[stat159]> git remote -v\n",
    "origin\tgit@github.com:fperez/datahub.git (fetch)\n",
    "origin\tgit@github.com:fperez/datahub.git (push)\n",
    "upstream\tgit@github.com:berkeley-dsep-infra/datahub.git (fetch)\n",
    "upstream\tgit@github.com:berkeley-dsep-infra/datahub.git (push)\n",
    "```\n",
    "\n",
    "This separates your personal workspace from that of the team, and it's a good habit to get into even if you have direct commit rights to the group workspace."
   ]
  },
  {
   "cell_type": "markdown",
   "id": "25aec941-030a-47cf-a470-56d9f3d414de",
   "metadata": {
    "user_expressions": []
   },
   "source": [
    "### 5. Discussions\n",
    "\n",
    "For larger projects, it makes sense to have a forum where user and developers can ask questions. Eventually, these questions can trigger the creation of issues or even new code, but having a more informal mean of communication also helps to improve the quality of the software and also help newcomers to start interacting with a larger community of users. GitHub supports this forums thought [GitHub Discussions](https://docs.github.com/en/discussions/quickstart). Also some projects decide to use Discourse instead, see for example the [Jupyter Discourse](https://discourse.jupyter.org).\n"
   ]
  },
  {
   "cell_type": "code",
   "execution_count": null,
   "id": "4b283192-1782-4219-acef-84f24d01f3b9",
   "metadata": {},
   "outputs": [],
   "source": []
  }
 ],
 "metadata": {
  "kernelspec": {
   "display_name": "Python 3 (ipykernel)",
   "language": "python",
   "name": "python3"
  },
  "language_info": {
   "codemirror_mode": {
    "name": "ipython",
    "version": 3
   },
   "file_extension": ".py",
   "mimetype": "text/x-python",
   "name": "python",
   "nbconvert_exporter": "python",
   "pygments_lexer": "ipython3",
   "version": "3.10.8"
  }
 },
 "nbformat": 4,
 "nbformat_minor": 5
}
