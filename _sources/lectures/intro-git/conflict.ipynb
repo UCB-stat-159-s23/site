{
 "cells": [
  {
   "cell_type": "markdown",
   "id": "7a0d3f18-7333-48a8-92a1-7cb4900beaff",
   "metadata": {},
   "source": [
    "# Conflict management"
   ]
  },
  {
   "cell_type": "markdown",
   "id": "57b1ce4e-3d1b-473e-8488-701cf4337f9e",
   "metadata": {},
   "source": [
    "While git is very good at merging, if two different branches modify the same file in the same location, it simply can't decide which change should prevail.  At that point, human intervention is necessary to make the decision.  Git will help you by marking the location in the file that has a problem, but it's up to you to resolve the conflict.  Let's see how that works by intentionally creating a conflict.\n",
    "\n",
    "We start by creating a branch and making a change to our experiment file:\n",
    "```bash\n",
    "git switch -c trouble\n",
    "echo \"This is going to be a problem...\" >> experiment.txt\n",
    "git commit -a -m\"Changes in the trouble branch\"\n",
    "```"
   ]
  },
  {
   "cell_type": "markdown",
   "id": "d18ab847-0dc2-41e1-bace-f16155872c3e",
   "metadata": {},
   "source": [
    "And now we go back to the master branch, where we change the *same* file:\n",
    "```bash\n",
    "git switch main\n",
    "echo \"More work on the master branch...\" >> experiment.txt\n",
    "git commit -a -m\"Mainline work\"\n",
    "```"
   ]
  },
  {
   "cell_type": "markdown",
   "id": "0df8c44d-b5a1-462f-8127-72e2280c1d0d",
   "metadata": {},
   "source": [
    "So now let's see what happens if we try to merge the `trouble` branch into `master`:\n",
    "```bash\n",
    "git merge trouble\n",
    "```"
   ]
  },
  {
   "cell_type": "markdown",
   "id": "8b1e6f85-e0d3-4af8-9ef3-949510e0b9be",
   "metadata": {},
   "source": [
    "Let's see what git has put into our file:\n",
    "```bash\n",
    "cat experiment.txt\n",
    "```"
   ]
  },
  {
   "cell_type": "markdown",
   "id": "5d44f97d-15d2-4166-b4d1-4af9ba388442",
   "metadata": {},
   "source": [
    "At this point, we go into the file with a text editor, decide which changes to keep, and make a new commit that records our decision.  I've now made the edits, in this case I decided that both pieces of text were useful, but integrated them with some changes. After, this we make our new commit\n",
    "```bash\n",
    "git commit -a -m\"Completed merge of trouble, fixing conflicts along the way\"\n",
    "git slog\n",
    "```"
   ]
  },
  {
   "cell_type": "markdown",
   "id": "ab2c85b5-44ab-4de9-981d-8266d8faad2f",
   "metadata": {},
   "source": [
    "```{note}\n",
    "While it's a good idea to understand the basics of fixing merge conflicts by hand, in some cases you may find the use of an automated tool useful.  Git supports multiple [merge tools](https://www.kernel.org/pub/software/scm/git/docs/git-mergetool.html): a merge tool is a piece of software that conforms to a basic interface and knows how to merge two files into a new one.  Since these are typically graphical tools, there are various to choose from for the different operating systems, and as long as they obey a basic command structure, git can work with any of them.\n",
    "```"
   ]
  }
 ],
 "metadata": {
  "kernelspec": {
   "display_name": "Python 3 (ipykernel)",
   "language": "python",
   "name": "python3"
  },
  "language_info": {
   "codemirror_mode": {
    "name": "ipython",
    "version": 3
   },
   "file_extension": ".py",
   "mimetype": "text/x-python",
   "name": "python",
   "nbconvert_exporter": "python",
   "pygments_lexer": "ipython3",
   "version": "3.10.8"
  }
 },
 "nbformat": 4,
 "nbformat_minor": 5
}
