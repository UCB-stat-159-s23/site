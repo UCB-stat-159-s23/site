{
 "cells": [
  {
   "cell_type": "markdown",
   "id": "6842b3a0-5390-40c5-bf89-0f2da5dc6461",
   "metadata": {},
   "source": [
    "# Local, single-user, linear workflow"
   ]
  },
  {
   "cell_type": "markdown",
   "id": "b2a5d116-bf76-4ab7-9c45-cfd26ceee389",
   "metadata": {},
   "source": [
    "## Directed Acyclic Graphs (DAG)\n",
    "\n",
    "The fundamental unit of information in git is what is called a _commit_. A commit is a snapshot of a work at a point in time. Now, for version control systems we don't want to have just one snapshot of our work, but instead we want many of them. Furthermore, instead of a linear sequence of snapshots we may imagine having multiple lines or branches of snapshots including different versions of our project. These commits are then organized in a directed acyclic graph, as the one shown in the following picture.\n",
    "\n",
    "<!-- offline: \n",
    "![](images/commit_anatomy.png)\n",
    "\n",
    "<img src=\"https://raw.github.com/fperez/reprosw/master/fig/commit_anatomy.png\">\n",
    "-->\n",
    "\n",
    "![](images/commit_anatomy.png)\n",
    "\n",
    "Credit: ProGit book, by Scott Chacon, CC License."
   ]
  },
  {
   "cell_type": "markdown",
   "id": "ca3e3772-baae-423c-8c3d-89464a0c5d7d",
   "metadata": {},
   "source": [
    "We identify each node (commit) with a hash, a fingerprint of the content of each commit and its parent. It is important the fact that the hash include information of the parent node, since this allow us to keep the check the structural consistency of the DAG. \n",
    "\n",
    "Let's create a first hash:"
   ]
  },
  {
   "cell_type": "code",
   "execution_count": 1,
   "id": "de9b07bb-0695-49e4-abe4-17fad4f136ca",
   "metadata": {},
   "outputs": [
    {
     "name": "stdout",
     "output_type": "stream",
     "text": [
      "Hash: 3b32905baabd5ff22b3832c892078f78f5e5bd3b\n"
     ]
    }
   ],
   "source": [
    "from hashlib import sha1\n",
    "\n",
    "# Our first commit\n",
    "data1 = b'This is the start of my paper.'\n",
    "meta1 = b'date: 1/1/17'\n",
    "hash1 = sha1(data1 + meta1).hexdigest( )\n",
    "print('Hash:', hash1)"
   ]
  },
  {
   "cell_type": "markdown",
   "id": "eeb417c6-c40d-498e-a384-c92876f202f0",
   "metadata": {},
   "source": [
    "Every small change we make on the previous text with result in a full change of the associated hash code. Notice also how in the next hash we have included the information of the parent node. "
   ]
  },
  {
   "cell_type": "code",
   "execution_count": 4,
   "id": "48ad606c-45e4-4016-be10-15a593a1ffba",
   "metadata": {},
   "outputs": [
    {
     "name": "stdout",
     "output_type": "stream",
     "text": [
      "Hash: 1c12d2aad51d5fc33e5b83a03b8787dfadde92a4\n"
     ]
    }
   ],
   "source": [
    "data2 = b'Some more text in my paper...'\n",
    "meta2 = b'date: 1/2/1'\n",
    "# Note we add the parent hash here!\n",
    "hash2 = sha1(data2 + meta2 + hash1.encode()).hexdigest()\n",
    "print('Hash:', hash2)"
   ]
  },
  {
   "cell_type": "markdown",
   "id": "c505c42b-e48b-46eb-981f-a714c4af12fd",
   "metadata": {},
   "source": [
    "## Locals\n",
    "\n",
    "Type `git` to see a full list of all the _core_ commands.  We'll now go through most of these via small practical exercises:"
   ]
  },
  {
   "cell_type": "code",
   "execution_count": 5,
   "id": "7ce9f12b-bdb5-4a63-9843-79b2426d9882",
   "metadata": {},
   "outputs": [
    {
     "name": "stdout",
     "output_type": "stream",
     "text": [
      "usage: git [-v | --version] [-h | --help] [-C <path>] [-c <name>=<value>]\n",
      "           [--exec-path[=<path>]] [--html-path] [--man-path] [--info-path]\n",
      "           [-p | --paginate | -P | --no-pager] [--no-replace-objects] [--bare]\n",
      "           [--git-dir=<path>] [--work-tree=<path>] [--namespace=<name>]\n",
      "           [--super-prefix=<path>] [--config-env=<name>=<envvar>]\n",
      "           <command> [<args>]\n",
      "\n",
      "These are common Git commands used in various situations:\n",
      "\n",
      "start a working area (see also: git help tutorial)\n",
      "   clone     Clone a repository into a new directory\n",
      "   init      Create an empty Git repository or reinitialize an existing one\n",
      "\n",
      "work on the current change (see also: git help everyday)\n",
      "   add       Add file contents to the index\n",
      "   mv        Move or rename a file, a directory, or a symlink\n",
      "   restore   Restore working tree files\n",
      "   rm        Remove files from the working tree and from the index\n",
      "\n",
      "examine the history and state (see also: git help revisions)\n",
      "   bisect    Use binary search to find the commit that introduced a bug\n",
      "   diff      Show changes between commits, commit and working tree, etc\n",
      "   grep      Print lines matching a pattern\n",
      "   log       Show commit logs\n",
      "   show      Show various types of objects\n",
      "   status    Show the working tree status\n",
      "\n",
      "grow, mark and tweak your common history\n",
      "   branch    List, create, or delete branches\n",
      "   commit    Record changes to the repository\n",
      "   merge     Join two or more development histories together\n",
      "   rebase    Reapply commits on top of another base tip\n",
      "   reset     Reset current HEAD to the specified state\n",
      "   switch    Switch branches\n",
      "   tag       Create, list, delete or verify a tag object signed with GPG\n",
      "\n",
      "collaborate (see also: git help workflows)\n",
      "   fetch     Download objects and refs from another repository\n",
      "   pull      Fetch from and integrate with another repository or a local branch\n",
      "   push      Update remote refs along with associated objects\n",
      "\n",
      "'git help -a' and 'git help -g' list available subcommands and some\n",
      "concept guides. See 'git help <command>' or 'git help <concept>'\n",
      "to read about a specific subcommand or concept.\n",
      "See 'git help git' for an overview of the system.\n"
     ]
    }
   ],
   "source": [
    "!git"
   ]
  },
  {
   "cell_type": "markdown",
   "id": "3c96e8ed-0e5c-47f9-bc37-4643d9db549c",
   "metadata": {},
   "source": [
    "```{tip}\n",
    "You can execute commands in bash from a Jupyter notebook by adding the `!` in front. You can also add the magic `%%bash` at the top of the cell to indicate that all the code in the cell must be executed in the shell. \n",
    "```\n",
    "\n",
    "```{warning}\n",
    "If well you can do most of the following git operations from a notebook, we actually recommend you to execute this commands directly from the shell. \n",
    "```\n",
    "\n",
    "First we create an empty folder and then we initialize it as a git repository. From your terminal, run\n",
    "\n",
    "```bash\n",
    "git init test\n",
    "```\n",
    "Let's see what git just did. Move inside to this folder and use the listing function to show all the files and directories inside the test repository `test`:\n",
    "```bash\n",
    "cd test \n",
    "ls -la\n",
    "```\n",
    "\n",
    "```{note}\n",
    "What makes `test` a repository? If you pay attention to what is inside the folder, you will see an especial folder called `.git`. Here is where all the information that git is using to version control your files belongs. If you delete this folder, then your repository will pass to be a simple folder with no version control capabilities. \n",
    "```"
   ]
  },
  {
   "cell_type": "markdown",
   "id": "ab53ac07-023e-4892-b1a0-5bbf32031ec9",
   "metadata": {},
   "source": [
    "Now let's edit our first file in the test directory with a text editor. We can also create a new text file with the next command.\n",
    "```bash\n",
    "echo \"My first bit of text\" > file1.txt\n",
    "```"
   ]
  },
  {
   "cell_type": "markdown",
   "id": "0cf67f13-bfa2-48f8-b7b6-5b52b79ff474",
   "metadata": {},
   "source": [
    "The first step we have to do in order to version control this new file, we need to **add** it\n",
    "```bash\n",
    "git add file1.txt\n",
    "```"
   ]
  },
  {
   "cell_type": "markdown",
   "id": "365f05f8-16cf-4860-bb7c-05e32e7caa9a",
   "metadata": {},
   "source": [
    "We can now ask git about what happened with `status`:\n",
    "```bash\n",
    "git status\n",
    "```"
   ]
  },
  {
   "cell_type": "markdown",
   "id": "f7405758-3ea0-4dd7-ae4a-3f3d662ca780",
   "metadata": {},
   "source": [
    "The next step is to **commit** our changes to permanently record our changes in git's database. For now, we are *always* going to call `git commit` either with the `-a` option *or* with specific filenames (`git commit file1 file2...`).  This delays the discussion of an aspect of git called the *index* (often referred to also as the _staging area_) that we will cover later.  Most everyday work in regular scientific practice doesn't require understanding the extra moving parts that the index involves, so on a first round we'll bypass it.  Later on we will discuss how to use it to achieve more fine-grained control of what and how git records our actions.\n",
    "```bash\n",
    "git commit -a -m\"This is our first commit\"\n",
    "```\n",
    "In the commit above, we  used the `-m` flag to specify a message at the command line.  If we don't do that, git will open the editor we specified in our configuration above and require that we enter a message.  By default, git refuses to record changes that don't have a message to go along with them (though you can obviously 'cheat' by using an empty or meaningless string: git only tries to facilitate best practices, it's not your nanny)."
   ]
  },
  {
   "cell_type": "markdown",
   "id": "c3ceed9c-92ac-4648-a831-c5c1c5d1a771",
   "metadata": {},
   "source": [
    "````{tip}\n",
    "You can use `git log` to see what has been commited so far\n",
    "```bash\n",
    "git log\n",
    "```\n",
    "Sometimes it's handy to see a very summarized version of the log:\n",
    "```bash\n",
    "git log --oneline --topo-order --graph\n",
    "```\n",
    "Git supports *aliases:* new names given to command combinations. Let's make this handy shortlog an alias, so we only have to type `git slog` and see this compact log:\n",
    "```bash\n",
    "git config --global alias.slog \"log --oneline --topo-order --graph\"\n",
    "```\n",
    "and now we can use this new alias to print a short version of the commit history\n",
    "```bash\n",
    "git slog\n",
    "```\n",
    "````"
   ]
  },
  {
   "cell_type": "markdown",
   "id": "5f9de2b8-dcec-44f3-ace5-1cbabdde5c0d",
   "metadata": {},
   "source": [
    "Let's do a little bit more work... Again, in practice you'll be editing the files by hand, here we do it via shell commands for the sake of automation (and therefore the reproducibility of this tutorial!)\n",
    "```bash\n",
    "echo \"And now some more text...\" >> file1.txt\n",
    "```"
   ]
  },
  {
   "cell_type": "markdown",
   "id": "3504e254-3b2e-4307-9cdc-e7e619173a23",
   "metadata": {},
   "source": [
    "And now we ask git what is different\n",
    "```bash\n",
    "git diff\n",
    "```"
   ]
  },
  {
   "cell_type": "markdown",
   "id": "f204aacc-368a-4075-bd20-a461a3249857",
   "metadata": {},
   "source": [
    "The format of the output above is well explained in detail in [this Stack Overflow post](https://stackoverflow.com/questions/2529441/how-to-read-the-output-from-git-diff).  But we can provide a brief summary here:\n",
    "\n",
    "```\n",
    "diff --git a/file1.txt b/file1.txt\n",
    "```\n",
    "\n",
    "This tells us which files changed overall, with 'a' representing the old path and 'b' the new one (in this case it's the same file, though if a file had been renamed it would be different).\n",
    "\n",
    "```\n",
    "index ce645c7..4baa979 100644\n",
    "```\n",
    "These are hashes of the file at the two stages, needed by git itself for other operations with the diff output.\n",
    "\n",
    "The next block shows the actual changes. The first two lines show which paths are being compared (in this case the same file, `file1.txt`): \n",
    "\n",
    "\n",
    "```\n",
    "--- a/file1.txt\n",
    "+++ b/file1.txt\n",
    "```\n",
    "\n",
    "The next line indicates where the changes happened. The format is `@@ from-file-range to-file-range @@`, where there's one more `@` character than there's parents to the file comparison (git can handle multi-way diff/merges), adn the file range format is `-/+<start line>,<# of lines>`, with `-` for the `from-file` and `+` for the `to-file`:\n",
    "\n",
    "```\n",
    "@@ -1 +1,2 @@\n",
    "```\n",
    "\n",
    "Lines prepended with `-` correspond to deletions (none in this case), and lines with `+` to additions. A few lines around deletions/additions are shown for context:\n",
    "\n",
    "```\n",
    " My first bit of text\n",
    "+And now some more text...\n",
    "```"
   ]
  },
  {
   "cell_type": "markdown",
   "id": "45afc5f3-b870-4a8b-87c4-28de6c4a9a95",
   "metadata": {},
   "source": [
    "And for now on, the circle of virtue just repeats: work, commit, work, commit\n",
    "```bash\n",
    "git commit -a -m\"I have made great progress on this critical matter.\"\n",
    "```"
   ]
  },
  {
   "cell_type": "markdown",
   "id": "01b2559c-cd8e-49de-b6ea-2ee461de3bf8",
   "metadata": {},
   "source": [
    "While `git add` is used to add files to the list git tracks, we must also tell it if we want their  names to change or for it to stop tracking them.  In familiar Unix fashion, the `mv` and `rm` git commands do precisely this:\n",
    "```bash\n",
    "git mv file1.txt file-newname.txt\n",
    "git status\n",
    "```"
   ]
  },
  {
   "cell_type": "markdown",
   "id": "d638a4d6-98f8-40ef-ab87-3eae266aed6e",
   "metadata": {},
   "source": [
    "Note that these changes must be committed too, to become permanent!  In git's world, until something hasn't been committed, it isn't permanently recorded anywhere."
   ]
  },
  {
   "cell_type": "markdown",
   "id": "dcba6378-8c28-4fdf-b78a-8d9b055e467e",
   "metadata": {},
   "source": [
    "## Apendix\n",
    "\n",
    "These is the sequence of all bash commands we have use in this tutorial in the right order. \n",
    "```bash\n",
    "git init test \n",
    "...\n",
    "...\n",
    "...\n",
    "```"
   ]
  }
 ],
 "metadata": {
  "kernelspec": {
   "display_name": "Python 3 (ipykernel)",
   "language": "python",
   "name": "python3"
  },
  "language_info": {
   "codemirror_mode": {
    "name": "ipython",
    "version": 3
   },
   "file_extension": ".py",
   "mimetype": "text/x-python",
   "name": "python",
   "nbconvert_exporter": "python",
   "pygments_lexer": "ipython3",
   "version": "3.9.12"
  }
 },
 "nbformat": 4,
 "nbformat_minor": 5
}
