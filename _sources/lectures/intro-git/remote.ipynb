{
 "cells": [
  {
   "cell_type": "markdown",
   "id": "7fedf829-dcb6-4483-b5b6-e180e3a70dc6",
   "metadata": {},
   "source": [
    "# Remotes"
   ]
  },
  {
   "cell_type": "markdown",
   "id": "a335063b-01b5-4db1-b54a-394482dc3d2d",
   "metadata": {},
   "source": [
    "We are now going to introduce the concept of a *remote repository*: a pointer to another copy of the repository that lives on a different location.  This can be simply a different path on the file system or a server on the internet.\n",
    "\n",
    "For this discussion, we'll be using remotes hosted on the [GitHub.com](http://github.com) service, but you can equally use other services like [BitBucket](http://bitbucket.org) or [Gitorious](http://gitorious.org) as well as host your own."
   ]
  },
  {
   "cell_type": "markdown",
   "id": "087f6e90-7379-4163-9917-d8d9eb242000",
   "metadata": {},
   "source": [
    "Let's first take a look to see if there is a remote associated to the `test` repository.\n",
    "```bash\n",
    "git remote -v\n",
    "```\n",
    "Since the above cell didn't produce any output after the `git remote -v` call, it means we have no remote repositories configured.  We will now proceed to do so.  Once logged into GitHub, go to the [new repository page](https://github.com/new) and make a repository called `test`.  Do **not** check the box that says `Initialize this repository with a README`, since we already have an existing repository here.  That option is useful when you're starting first at GitHub and don't have a repository made already on a local computer.\n",
    "\n",
    "We can now follow the instructions from the next page:\n",
    "```bash\n",
    "git remote add origin https://github.com/fperez/test.git\n",
    "git branch -M main\n",
    "git push -u origin main\n",
    "```"
   ]
  },
  {
   "cell_type": "markdown",
   "id": "7b551b6f-2463-4754-83eb-45f3bda3e690",
   "metadata": {},
   "source": [
    "Let's see the remote situation again:\n",
    "```bash\n",
    "git remote -v\n",
    "```"
   ]
  },
  {
   "cell_type": "markdown",
   "id": "23f2542e-9fb6-4c7a-90be-923e5d5b4670",
   "metadata": {},
   "source": [
    "We can now [see this repository publicly on github](https://github.com/fperez/test).\n",
    "\n",
    "Let's see how this can be useful for backup and syncing work between two different computers.  I'll simulate a 2nd computer by working in a different directory...\n",
    "```bash\n",
    "cd ..\n",
    "git clone https://github.com/fperez/test.git test2\n",
    "cd test2\n",
    "pwd\n",
    "git remote -v\n",
    "```"
   ]
  },
  {
   "cell_type": "markdown",
   "id": "afbba4b1-837f-4a53-bf7c-bd343e2bb0b2",
   "metadata": {},
   "source": [
    "Let's now make some changes in one 'computer' and synchronize them on the second.\n",
    "```bash\n",
    "cd test2  # working on computer #2\n",
    "\n",
    "echo \"More new content on my experiment\" >> experiment.txt\n",
    "git commit -a -m\"More work, on machine #2\"\n",
    "```"
   ]
  },
  {
   "cell_type": "markdown",
   "id": "6416b9d8-3506-4917-a3ec-d837bfbdecc2",
   "metadata": {},
   "source": [
    "Now we put this new work up on the GitHub server so it's available from the internet\n",
    "```\n",
    "git push\n",
    "```"
   ]
  },
  {
   "cell_type": "markdown",
   "id": "93acb9a0-1d39-432e-970f-2c4f913860fd",
   "metadata": {},
   "source": [
    "Now let's fetch that work from machine #1:\n",
    "```bash\n",
    "cd ..\n",
    "cd test \n",
    "git pull\n",
    "```"
   ]
  }
 ],
 "metadata": {
  "kernelspec": {
   "display_name": "Python 3 (ipykernel)",
   "language": "python",
   "name": "python3"
  },
  "language_info": {
   "codemirror_mode": {
    "name": "ipython",
    "version": 3
   },
   "file_extension": ".py",
   "mimetype": "text/x-python",
   "name": "python",
   "nbconvert_exporter": "python",
   "pygments_lexer": "ipython3",
   "version": "3.9.12"
  }
 },
 "nbformat": 4,
 "nbformat_minor": 5
}
