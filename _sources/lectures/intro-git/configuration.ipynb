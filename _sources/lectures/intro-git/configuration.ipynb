{
 "cells": [
  {
   "cell_type": "markdown",
   "id": "b402a166-bd8a-4961-9940-95bef8e4d191",
   "metadata": {},
   "source": [
    "# Configuration\n",
    "\n",
    "The minimal amount of configuration for git to work without pestering you is to tell it who you are. You should run a version of these commands in your shell:\n",
    "\n",
    "```bash\n",
    "git config --global user.name \"Fernando Perez\"\n",
    "git config --global user.email \"Fernando.Perez@berkeley.edu\"\n",
    "```\n",
    "\n",
    "And while we're at it, we also turn on the use of color, which is very useful\n",
    "\n",
    "```bash\n",
    "git config --global color.ui \"auto\"\n",
    "```\n",
    "\n",
    "### Convenient credentials management\n",
    "\n",
    "Next, we configure git so that we manage our credentials without having to manually type our passwords for each and every operation. \n",
    "\n",
    "For general users, Github offers in its help pages instructions on how to configure the credentials helper for [Mac OSX](https://help.github.com/articles/caching-your-github-password-in-git/#platform-mac), [Windows](https://help.github.com/articles/caching-your-github-password-in-git/#platform-mac) and [Linux](https://help.github.com/articles/caching-your-github-password-in-git/#platform-linux).\n",
    "\n",
    "But in this document we will focus on configuring the [github app for JupyterHub](https://github.com/yuvipanda/github-app-user-auth) developed by Berkeley's Yuvi Panda. Our JupyterHub already has this app pre-installed, which makes it very convenient to push and pull securely from selected repositories.\n",
    "\n",
    "You will need to run this command from a cell of a Jupyter notebook\n",
    "```python\n",
    "import gh_scoped_creds\n",
    "%ghscopedcreds\n",
    "```\n",
    "For convinience, we have added a notebook with this cell and some further explanation in the `shared` folder in your JupyterHub session. You can copy this notebook in your home directory and use it every time you need to authenticate with GitHub. Alternatively, you can run the following command in your terminal\n",
    "```bash\n",
    "github-app-user-auth\n",
    "```\n",
    "This will display a link and a code to input into the website you access with the link. Open the link and enter the code there. Grant access to the device in the web page, and you're done!\n",
    "\n",
    "The first time you do this you need to go to the configuration page and manually configure which repositories you will be using (this will require a bit more manual maintenance through the semester).\n",
    "\n",
    "Authentication is valid for 8 hours, and once it expires, this process will need to be repeated, _except for the first step_. In the future, we might have a web application or other process to make this less painful. However, keeping the length of this session limited drastically helps with security too.\n",
    "\n",
    "Later, you can see what repositories you've given it access to by visiting [your GitHub installations page](https://github.com/settings/installations)."
   ]
  }
 ],
 "metadata": {
  "kernelspec": {
   "display_name": "Python 3 (ipykernel)",
   "language": "python",
   "name": "python3"
  },
  "language_info": {
   "codemirror_mode": {
    "name": "ipython",
    "version": 3
   },
   "file_extension": ".py",
   "mimetype": "text/x-python",
   "name": "python",
   "nbconvert_exporter": "python",
   "pygments_lexer": "ipython3",
   "version": "3.9.12"
  }
 },
 "nbformat": 4,
 "nbformat_minor": 5
}
