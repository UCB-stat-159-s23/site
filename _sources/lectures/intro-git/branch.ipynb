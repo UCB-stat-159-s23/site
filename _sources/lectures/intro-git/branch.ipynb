{
 "cells": [
  {
   "cell_type": "markdown",
   "id": "98546ade-6bf7-4172-87a5-78ea7d32cf6f",
   "metadata": {},
   "source": [
    "# Local user, branching"
   ]
  },
  {
   "cell_type": "markdown",
   "id": "c6612b12-7218-48db-bd24-3b420c3eb9dd",
   "metadata": {},
   "source": [
    "What is a branch?  Simply a *label for the 'current' commit in a sequence of ongoing commits*:\n",
    "\n",
    "![](images/masterbranch.png)\n",
    "\n",
    "<!-- offline: \n",
    "<img src=\"https://raw.github.com/fperez/reprosw/master/fig/masterbranch.png\" >\n",
    "-->"
   ]
  },
  {
   "cell_type": "markdown",
   "id": "c54b3290-7a8c-4a0b-9da8-27c472a9b5ae",
   "metadata": {},
   "source": [
    "There can be multiple branches alive at any point in time; the working directory is the state of a special pointer called HEAD.  In this example there are two branches, *master* (now *main*) and *testing*, and *testing* is the currently active branch since it's what HEAD points to:\n",
    "\n",
    "![](images/HEAD_testing.png)\n",
    "\n",
    "<!-- offline: \n",
    "<img src=\"https://raw.github.com/fperez/reprosw/master/fig/HEAD_testing.png\" >\n",
    "-->"
   ]
  },
  {
   "cell_type": "markdown",
   "id": "a04d8dff-0ec8-4ade-8ef8-62a81c9fb09b",
   "metadata": {},
   "source": [
    "Once new commits are made on a branch, HEAD and the branch label move with the new commits:\n",
    "\n",
    "![](images/branchcommit.png)"
   ]
  },
  {
   "cell_type": "markdown",
   "id": "27d8d1e8-3c18-4271-81b3-a052acdde60f",
   "metadata": {},
   "source": [
    "This allows the history of both branches to diverge:\n",
    "\n",
    "![](images/mergescenario.png)"
   ]
  },
  {
   "cell_type": "markdown",
   "id": "eab78419-c510-4d90-bbe9-6016d2daab61",
   "metadata": {},
   "source": [
    "But based on this graph structure, git can compute the necessary information to merge the divergent branches back and continue with a unified line of development:\n",
    "    \n",
    "![](images/mergeaftermath.png)"
   ]
  },
  {
   "cell_type": "markdown",
   "id": "56661e21-78a3-46f8-be13-ae5f3be8be2b",
   "metadata": {},
   "source": [
    "Let's now illustrate all of this with a concrete example.  Let's get our bearings first:\n",
    "```bash\n",
    "git status\n",
    "```"
   ]
  },
  {
   "cell_type": "markdown",
   "id": "8d03a254-025d-40da-92d4-c6b3410ce023",
   "metadata": {},
   "source": [
    "We are now going to try two different routes of development: on the `main` branch we will add one file and on the `experiment` branch, which we will create, we will add a different one.  We will then merge the experimental branch into `main`.\n",
    "```bash\n",
    "git switch -c experiment\n",
    "```"
   ]
  },
  {
   "cell_type": "markdown",
   "id": "b5794d37-7dc4-4032-8da6-94e8fb30f2e6",
   "metadata": {},
   "source": [
    "And now we make some new changes\n",
    "```bash\n",
    "echo \"Some crazy idea\" > experiment.txt\n",
    "git add experiment.txt\n",
    "git commit -a -m\"Trying something new\"\n",
    "git slog\n",
    "```"
   ]
  },
  {
   "cell_type": "markdown",
   "id": "ad66a556-77da-4450-8826-54531a4a7370",
   "metadata": {},
   "source": [
    "and we comeback to the `main` branch and make some new changes\n",
    "```bash\n",
    "git switch main\n",
    "echo \"All the while, more work goes on in master...\" >> file-newname.txt\n",
    "git commit -a -m\"The mainline keeps moving\"\n",
    "```"
   ]
  },
  {
   "cell_type": "markdown",
   "id": "c4c98969-d344-49ba-906f-aacc362c62b2",
   "metadata": {},
   "source": [
    "By default, all variations of the git `log` commands only show the currently active branch.  If we want to see *all* branches, we can ask for them with the `--all` flag:\n",
    "```bash\n",
    "git slog --all\n",
    "```"
   ]
  },
  {
   "cell_type": "markdown",
   "id": "28c7ad6f-9af2-4dc5-989c-612afb385b2f",
   "metadata": {},
   "source": [
    "Above, we can see the commit whose message is `Try something new`, that comes from the `experiment` branch.\n",
    "```bash\n",
    "git merge experiment\n",
    "git slog\n",
    "```"
   ]
  }
 ],
 "metadata": {
  "kernelspec": {
   "display_name": "Python 3 (ipykernel)",
   "language": "python",
   "name": "python3"
  },
  "language_info": {
   "codemirror_mode": {
    "name": "ipython",
    "version": 3
   },
   "file_extension": ".py",
   "mimetype": "text/x-python",
   "name": "python",
   "nbconvert_exporter": "python",
   "pygments_lexer": "ipython3",
   "version": "3.10.8"
  }
 },
 "nbformat": 4,
 "nbformat_minor": 5
}
